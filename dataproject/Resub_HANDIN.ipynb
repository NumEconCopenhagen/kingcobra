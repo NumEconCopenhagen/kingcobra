{
 "cells": [
  {
   "cell_type": "markdown",
   "metadata": {},
   "source": [
    "# Growth in GDP and EDU\n",
    "This project contains data from the World Bank of growth in gross domestic product (GDP) and growth in expenditure on eduction (EDU) for a range of different countries. The objective of the project is to see whether there is a trend between these variables. "
   ]
  },
  {
   "cell_type": "markdown",
   "metadata": {},
   "source": [
    "To run the project you will need to import the packages below."
   ]
  },
  {
   "cell_type": "code",
   "execution_count": 5,
   "metadata": {},
   "outputs": [],
   "source": [
    "import pandas as pd                  # A data analysis tool\n",
    "import numpy as np                   # Package for scientific computing with Python\n",
    "import matplotlib.pyplot as plt      # A 2D plotting library to create beautiful figures\n",
    "from matplotlib_venn import venn2    # An expansion in matplotlib to create venn diagrams \n",
    "import pandas_datareader             # Packages for reading data files\n",
    "import datetime                      # Used to manipulate dates and times \n",
    "import seaborn as sns                # A library for making statistical graphics in Python\n",
    "import statsmodels.formula.api as sm # A module needed to do OLS \n",
    "import os                            # To manipulate file paths\n",
    "import ipywidgets as widgets         # To create interactive graphs "
   ]
  },
  {
   "cell_type": "markdown",
   "metadata": {},
   "source": [
    "To make the coding more simple and understandable we rename the file paths to GDP and EDU respectively."
   ]
  },
  {
   "cell_type": "code",
   "execution_count": 6,
   "metadata": {},
   "outputs": [],
   "source": [
    "GDP = 'GDPDATA.xlsx'\n",
    "EDU = 'EducationDATA.xlsx'"
   ]
  },
  {
   "cell_type": "markdown",
   "metadata": {},
   "source": [
    "##  Data cleaning on growth in expenditure on education (EDU)"
   ]
  },
  {
   "cell_type": "markdown",
   "metadata": {},
   "source": [
    "The following part of the project will be focussing on cleaning the data file containing data on growth in expenditure on education (EDU). As you will see below there's a lot of unnecessary textcells and empty cells (NaN) which will need to be deleted in order to do an analysis on the data. To keep track of what we're doing with the data we will show the first five rows of the datafile. "
   ]
  },
  {
   "cell_type": "code",
   "execution_count": 4,
   "metadata": {},
   "outputs": [
    {
     "data": {
      "text/html": [
       "<div>\n",
       "<style scoped>\n",
       "    .dataframe tbody tr th:only-of-type {\n",
       "        vertical-align: middle;\n",
       "    }\n",
       "\n",
       "    .dataframe tbody tr th {\n",
       "        vertical-align: top;\n",
       "    }\n",
       "\n",
       "    .dataframe thead th {\n",
       "        text-align: right;\n",
       "    }\n",
       "</style>\n",
       "<table border=\"1\" class=\"dataframe\">\n",
       "  <thead>\n",
       "    <tr style=\"text-align: right;\">\n",
       "      <th></th>\n",
       "      <th>Data Source</th>\n",
       "      <th>World Development Indicators</th>\n",
       "      <th>Unnamed: 2</th>\n",
       "      <th>Unnamed: 3</th>\n",
       "      <th>Unnamed: 4</th>\n",
       "      <th>Unnamed: 5</th>\n",
       "      <th>Unnamed: 6</th>\n",
       "      <th>Unnamed: 7</th>\n",
       "      <th>Unnamed: 8</th>\n",
       "      <th>Unnamed: 9</th>\n",
       "      <th>...</th>\n",
       "      <th>Unnamed: 53</th>\n",
       "      <th>Unnamed: 54</th>\n",
       "      <th>Unnamed: 55</th>\n",
       "      <th>Unnamed: 56</th>\n",
       "      <th>Unnamed: 57</th>\n",
       "      <th>Unnamed: 58</th>\n",
       "      <th>Unnamed: 59</th>\n",
       "      <th>Unnamed: 60</th>\n",
       "      <th>Unnamed: 61</th>\n",
       "      <th>Unnamed: 62</th>\n",
       "    </tr>\n",
       "  </thead>\n",
       "  <tbody>\n",
       "    <tr>\n",
       "      <th>0</th>\n",
       "      <td>Last Updated Date</td>\n",
       "      <td>2019-03-21 00:00:00</td>\n",
       "      <td>NaN</td>\n",
       "      <td>NaN</td>\n",
       "      <td>NaN</td>\n",
       "      <td>NaN</td>\n",
       "      <td>NaN</td>\n",
       "      <td>NaN</td>\n",
       "      <td>NaN</td>\n",
       "      <td>NaN</td>\n",
       "      <td>...</td>\n",
       "      <td>NaN</td>\n",
       "      <td>NaN</td>\n",
       "      <td>NaN</td>\n",
       "      <td>NaN</td>\n",
       "      <td>NaN</td>\n",
       "      <td>NaN</td>\n",
       "      <td>NaN</td>\n",
       "      <td>NaN</td>\n",
       "      <td>NaN</td>\n",
       "      <td>NaN</td>\n",
       "    </tr>\n",
       "    <tr>\n",
       "      <th>1</th>\n",
       "      <td>NaN</td>\n",
       "      <td>NaN</td>\n",
       "      <td>NaN</td>\n",
       "      <td>NaN</td>\n",
       "      <td>NaN</td>\n",
       "      <td>NaN</td>\n",
       "      <td>NaN</td>\n",
       "      <td>NaN</td>\n",
       "      <td>NaN</td>\n",
       "      <td>NaN</td>\n",
       "      <td>...</td>\n",
       "      <td>NaN</td>\n",
       "      <td>NaN</td>\n",
       "      <td>NaN</td>\n",
       "      <td>NaN</td>\n",
       "      <td>NaN</td>\n",
       "      <td>NaN</td>\n",
       "      <td>NaN</td>\n",
       "      <td>NaN</td>\n",
       "      <td>NaN</td>\n",
       "      <td>NaN</td>\n",
       "    </tr>\n",
       "    <tr>\n",
       "      <th>2</th>\n",
       "      <td>Country Name</td>\n",
       "      <td>Country Code</td>\n",
       "      <td>Indicator Name</td>\n",
       "      <td>Indicator Code</td>\n",
       "      <td>1960.0</td>\n",
       "      <td>1961.0</td>\n",
       "      <td>1962.0</td>\n",
       "      <td>1963.0</td>\n",
       "      <td>1964.0</td>\n",
       "      <td>1965.0</td>\n",
       "      <td>...</td>\n",
       "      <td>2009.00000</td>\n",
       "      <td>2010.00000</td>\n",
       "      <td>2011.00000</td>\n",
       "      <td>2012.00000</td>\n",
       "      <td>2013.00000</td>\n",
       "      <td>2014.00000</td>\n",
       "      <td>2015.00000</td>\n",
       "      <td>2016.00000</td>\n",
       "      <td>2017.00000</td>\n",
       "      <td>2018.0</td>\n",
       "    </tr>\n",
       "    <tr>\n",
       "      <th>3</th>\n",
       "      <td>Aruba</td>\n",
       "      <td>ABW</td>\n",
       "      <td>Government expenditure on education, total (% ...</td>\n",
       "      <td>SE.XPD.TOTL.GD.ZS</td>\n",
       "      <td>NaN</td>\n",
       "      <td>NaN</td>\n",
       "      <td>NaN</td>\n",
       "      <td>NaN</td>\n",
       "      <td>NaN</td>\n",
       "      <td>NaN</td>\n",
       "      <td>...</td>\n",
       "      <td>5.92479</td>\n",
       "      <td>6.92927</td>\n",
       "      <td>6.11913</td>\n",
       "      <td>6.54906</td>\n",
       "      <td>6.80806</td>\n",
       "      <td>6.16293</td>\n",
       "      <td>6.47906</td>\n",
       "      <td>NaN</td>\n",
       "      <td>NaN</td>\n",
       "      <td>NaN</td>\n",
       "    </tr>\n",
       "    <tr>\n",
       "      <th>4</th>\n",
       "      <td>Afghanistan</td>\n",
       "      <td>AFG</td>\n",
       "      <td>Government expenditure on education, total (% ...</td>\n",
       "      <td>SE.XPD.TOTL.GD.ZS</td>\n",
       "      <td>NaN</td>\n",
       "      <td>NaN</td>\n",
       "      <td>NaN</td>\n",
       "      <td>NaN</td>\n",
       "      <td>NaN</td>\n",
       "      <td>NaN</td>\n",
       "      <td>...</td>\n",
       "      <td>NaN</td>\n",
       "      <td>3.46196</td>\n",
       "      <td>3.43785</td>\n",
       "      <td>2.52441</td>\n",
       "      <td>3.43437</td>\n",
       "      <td>3.67390</td>\n",
       "      <td>3.24202</td>\n",
       "      <td>4.20525</td>\n",
       "      <td>3.92675</td>\n",
       "      <td>NaN</td>\n",
       "    </tr>\n",
       "  </tbody>\n",
       "</table>\n",
       "<p>5 rows × 63 columns</p>\n",
       "</div>"
      ],
      "text/plain": [
       "         Data Source World Development Indicators  \\\n",
       "0  Last Updated Date          2019-03-21 00:00:00   \n",
       "1                NaN                          NaN   \n",
       "2       Country Name                 Country Code   \n",
       "3              Aruba                          ABW   \n",
       "4        Afghanistan                          AFG   \n",
       "\n",
       "                                          Unnamed: 2         Unnamed: 3  \\\n",
       "0                                                NaN                NaN   \n",
       "1                                                NaN                NaN   \n",
       "2                                     Indicator Name     Indicator Code   \n",
       "3  Government expenditure on education, total (% ...  SE.XPD.TOTL.GD.ZS   \n",
       "4  Government expenditure on education, total (% ...  SE.XPD.TOTL.GD.ZS   \n",
       "\n",
       "   Unnamed: 4  Unnamed: 5  Unnamed: 6  Unnamed: 7  Unnamed: 8  Unnamed: 9  \\\n",
       "0         NaN         NaN         NaN         NaN         NaN         NaN   \n",
       "1         NaN         NaN         NaN         NaN         NaN         NaN   \n",
       "2      1960.0      1961.0      1962.0      1963.0      1964.0      1965.0   \n",
       "3         NaN         NaN         NaN         NaN         NaN         NaN   \n",
       "4         NaN         NaN         NaN         NaN         NaN         NaN   \n",
       "\n",
       "      ...       Unnamed: 53  Unnamed: 54  Unnamed: 55  Unnamed: 56  \\\n",
       "0     ...               NaN          NaN          NaN          NaN   \n",
       "1     ...               NaN          NaN          NaN          NaN   \n",
       "2     ...        2009.00000   2010.00000   2011.00000   2012.00000   \n",
       "3     ...           5.92479      6.92927      6.11913      6.54906   \n",
       "4     ...               NaN      3.46196      3.43785      2.52441   \n",
       "\n",
       "   Unnamed: 57  Unnamed: 58  Unnamed: 59  Unnamed: 60  Unnamed: 61  \\\n",
       "0          NaN          NaN          NaN          NaN          NaN   \n",
       "1          NaN          NaN          NaN          NaN          NaN   \n",
       "2   2013.00000   2014.00000   2015.00000   2016.00000   2017.00000   \n",
       "3      6.80806      6.16293      6.47906          NaN          NaN   \n",
       "4      3.43437      3.67390      3.24202      4.20525      3.92675   \n",
       "\n",
       "   Unnamed: 62  \n",
       "0          NaN  \n",
       "1          NaN  \n",
       "2       2018.0  \n",
       "3          NaN  \n",
       "4          NaN  \n",
       "\n",
       "[5 rows x 63 columns]"
      ]
     },
     "execution_count": 4,
     "metadata": {},
     "output_type": "execute_result"
    }
   ],
   "source": [
    "pd.read_excel(EDU).head(5)"
   ]
  },
  {
   "cell_type": "markdown",
   "metadata": {},
   "source": [
    "We start by deleting the first three rows of the dataset which mostly contains empty cells."
   ]
  },
  {
   "cell_type": "code",
   "execution_count": null,
   "metadata": {},
   "outputs": [],
   "source": [
    "edu = pd.read_excel(EDU, skiprows=3)\n",
    "edu.head(5)"
   ]
  },
  {
   "cell_type": "markdown",
   "metadata": {},
   "source": [
    "We delete the columns with data in the period of 1960-1998 since these years contains low amount of data. Furthermore, we remove redundant text cells. This leaves us with data from the years from 1999-2018 and the country code of each country."
   ]
  },
  {
   "cell_type": "code",
   "execution_count": null,
   "metadata": {},
   "outputs": [],
   "source": [
    "drop_these = ['Country Name', 'Indicator Name', 'Indicator Code', '1960', '1961', '1962', '1963', '1964', '1965', '1966', '1967', '1968', '1969', '1970', '1971', '1972', '1973', '1974', '1975', '1976', '1977', '1978', '1979', '1980', '1981', '1982', '1983', '1984', '1985', '1986', '1987', '1988', '1989', '1990', '1991', '1992', '1993', '1994', '1995', '1996', '1997', '1998']\n",
    "edu.drop(drop_these, axis=1, inplace=True)\n",
    "edu.head(5)\n"
   ]
  },
  {
   "cell_type": "markdown",
   "metadata": {},
   "source": [
    "We also drop from the years in the period of 2016-2018 since not all countries have released data for these years yet."
   ]
  },
  {
   "cell_type": "code",
   "execution_count": null,
   "metadata": {},
   "outputs": [],
   "source": [
    "and_these = ['2018', '2017', '2016']\n",
    "edu.drop(and_these, axis=1, inplace=True)\n",
    "edu.head(5)"
   ]
  },
  {
   "cell_type": "code",
   "execution_count": null,
   "metadata": {},
   "outputs": [],
   "source": [
    "edu.count() # To see how many columns there are "
   ]
  },
  {
   "cell_type": "markdown",
   "metadata": {},
   "source": [
    "We now drop all countries with more than two NaN's which leaves us with countries that contains a sufficient amount of data to analyse."
   ]
  },
  {
   "cell_type": "code",
   "execution_count": null,
   "metadata": {},
   "outputs": [],
   "source": [
    "edu = edu.dropna(thresh=18)\n",
    "edu.head(5)"
   ]
  },
  {
   "cell_type": "markdown",
   "metadata": {},
   "source": [
    "We then subset the data so the first column contains the contry code instead of numbers."
   ]
  },
  {
   "cell_type": "code",
   "execution_count": null,
   "metadata": {},
   "outputs": [],
   "source": [
    "edu = edu.set_index('Country Code')\n",
    "edu.head(5)"
   ]
  },
  {
   "cell_type": "markdown",
   "metadata": {},
   "source": [
    "We change the years from being variables with numbers to be variables with a letter (e for education). "
   ]
  },
  {
   "cell_type": "code",
   "execution_count": null,
   "metadata": {},
   "outputs": [],
   "source": [
    "myDict = {}\n",
    "for i in range(1999, 2016): # our range is from 1999 to and including 2015 \n",
    "    myDict[str(i)] = f'e{i}' \n",
    "myDict"
   ]
  },
  {
   "cell_type": "markdown",
   "metadata": {},
   "source": [
    "And then we rename the years (so 1999 = e1999)."
   ]
  },
  {
   "cell_type": "code",
   "execution_count": null,
   "metadata": {},
   "outputs": [],
   "source": [
    "edu.rename(columns = myDict, inplace=True)\n",
    "edu.head(10)"
   ]
  },
  {
   "cell_type": "markdown",
   "metadata": {},
   "source": [
    "We then switch the data from wide to long and rename the columns (e = edu) and (Country Code = Country_Code)."
   ]
  },
  {
   "cell_type": "code",
   "execution_count": null,
   "metadata": {},
   "outputs": [],
   "source": [
    "edu = edu.reset_index()"
   ]
  },
  {
   "cell_type": "code",
   "execution_count": null,
   "metadata": {},
   "outputs": [],
   "source": [
    "# Switching data from wide to long\n",
    "edu = pd.wide_to_long(edu, stubnames='e', i='Country Code', j='Year')\n",
    "edu.head(5)\n"
   ]
  },
  {
   "cell_type": "code",
   "execution_count": null,
   "metadata": {},
   "outputs": [],
   "source": [
    "edu = edu.reset_index()\n",
    "edu.rename(columns = {'e':'edu'}, inplace = True)\n",
    "edu.rename(columns = {'Country Code':'Country_Code'}, inplace = True)\n",
    "edu.head(5)"
   ]
  },
  {
   "cell_type": "markdown",
   "metadata": {},
   "source": [
    "This leaves us with a datafile containing data for the years 1999-2015 and for countries with only a sufficient amount of observations."
   ]
  },
  {
   "cell_type": "markdown",
   "metadata": {},
   "source": [
    "## Plotting data for growth in expenditure on eduction (EDU)"
   ]
  },
  {
   "cell_type": "markdown",
   "metadata": {},
   "source": [
    "In the following part of the project we will analyse the growth in EDU based on the cleaned datafile."
   ]
  },
  {
   "cell_type": "markdown",
   "metadata": {},
   "source": [
    "Right below is shown a scatter plot of the data."
   ]
  },
  {
   "cell_type": "code",
   "execution_count": null,
   "metadata": {},
   "outputs": [],
   "source": [
    "edu.plot.scatter(x = 'Year',y = 'edu')"
   ]
  },
  {
   "cell_type": "markdown",
   "metadata": {},
   "source": [
    "We expected to see an increasing growth in EDU from year to year. Unfortunately, this doesn't seem to be the case as the growth in EDU seems to somewhat random. This might be due to the fact that there's so many different countries in the same scatterplot which makes it's confusing to see a clear relationship. "
   ]
  },
  {
   "cell_type": "markdown",
   "metadata": {},
   "source": [
    "To solve this we can create an interactive scatter plot of EDU for each seperate country which is shown below."
   ]
  },
  {
   "cell_type": "code",
   "execution_count": null,
   "metadata": {},
   "outputs": [],
   "source": [
    "def plot_edu(dataframe, Country_Code): \n",
    "    l = dataframe['Country_Code'] == Country_Code\n",
    "    \n",
    "    ax=dataframe.loc[l,:].plot(x='Year', y='edu', style='-o', legend='False')"
   ]
  },
  {
   "cell_type": "code",
   "execution_count": null,
   "metadata": {},
   "outputs": [],
   "source": [
    "widgets.interact(plot_edu,\n",
    "    dataframe = widgets.fixed(edu),\n",
    "    Country_Code = widgets.Dropdown(description='Countries', options=edu.Country_Code.unique(), value='MEX')\n",
    "); \n"
   ]
  },
  {
   "cell_type": "markdown",
   "metadata": {},
   "source": [
    "The interactive scatter plot shows a much more clear relationship for growth in EDU from year to year. As you scroll through the different countries, you'll realise that each country has developed in quite different ways. Take for example Finland (FIN) who went from a growth in EDU on 5.9% in 1999 to a growth on 7.1% in 2015 or Ireland (IRL) who went from a growth in EDU on 4.2% in 1999 to a growth on approxmately 3.8% in 2015. "
   ]
  },
  {
   "cell_type": "markdown",
   "metadata": {},
   "source": [
    "It's hard to explain the development each country has went through without further analysis. In the next part of the project we will try to explain this development in EDU by including data on growth in gross domestic product (GDP)."
   ]
  },
  {
   "cell_type": "markdown",
   "metadata": {},
   "source": [
    "## Data cleaning on gross domestic product (GDP)"
   ]
  },
  {
   "cell_type": "markdown",
   "metadata": {},
   "source": [
    "As we did with the data for growth in EDU, we will also clean the data for growth in GDP. The datasets are quite similiar so we won't show the first five rows after each operation. We start by delting the first three rows in the dataset."
   ]
  },
  {
   "cell_type": "code",
   "execution_count": null,
   "metadata": {},
   "outputs": [],
   "source": [
    "gdp = pd.read_excel(GDP, skiprows = 3)"
   ]
  },
  {
   "cell_type": "markdown",
   "metadata": {},
   "source": [
    "As before, we remove the columns containing data in the period 1960-1999 and 2016-2018 as well as removing the columns containing indicator code, contry name and indicator name."
   ]
  },
  {
   "cell_type": "code",
   "execution_count": null,
   "metadata": {},
   "outputs": [],
   "source": [
    "Drop_these = ['Indicator Code','Country Name','Indicator Name','1960','1961','1962','1963','1964','1965','1966','1967','1968','1969','1970','1971','1972','1973','1974','1975','1976','1977','1978','1979','1980','1981', '1982', '1983', '1984', '1985', '1986', '1987', '1988', '1989', '1990', '1991', '1992', '1993', '1994', '1995', '1996', '1997', '1998','2016','2017','2018']\n",
    "gdp.drop(Drop_these, axis = 1, inplace = True) # Axis 1 = columns"
   ]
  },
  {
   "cell_type": "markdown",
   "metadata": {},
   "source": [
    "We then remove all rows contaning empty values (NaN's)."
   ]
  },
  {
   "cell_type": "code",
   "execution_count": null,
   "metadata": {},
   "outputs": [],
   "source": [
    "gdp = gdp.dropna()"
   ]
  },
  {
   "cell_type": "markdown",
   "metadata": {},
   "source": [
    "And we index the data by country code."
   ]
  },
  {
   "cell_type": "code",
   "execution_count": null,
   "metadata": {},
   "outputs": [],
   "source": [
    "gdp = gdp.set_index('Country Code')"
   ]
  },
  {
   "cell_type": "markdown",
   "metadata": {},
   "source": [
    "We rename the years (g1999 = 1999) to avoid any hiccups."
   ]
  },
  {
   "cell_type": "code",
   "execution_count": null,
   "metadata": {},
   "outputs": [],
   "source": [
    "MyDict1 = {}\n",
    "for i in range(1999, 2016): \n",
    "    MyDict1[str(i)] = f'g{i}'\n",
    "MyDict1"
   ]
  },
  {
   "cell_type": "code",
   "execution_count": null,
   "metadata": {},
   "outputs": [],
   "source": [
    "gdp.rename(columns = MyDict1, inplace = True)"
   ]
  },
  {
   "cell_type": "code",
   "execution_count": null,
   "metadata": {},
   "outputs": [],
   "source": [
    "gdp = gdp.reset_index()"
   ]
  },
  {
   "cell_type": "markdown",
   "metadata": {},
   "source": [
    "And we switch the data from wide to long."
   ]
  },
  {
   "cell_type": "code",
   "execution_count": null,
   "metadata": {},
   "outputs": [],
   "source": [
    "gdp = pd.wide_to_long(gdp, stubnames='g', i='Country Code', j='Year')\n",
    "gdp.head(5)"
   ]
  },
  {
   "cell_type": "code",
   "execution_count": null,
   "metadata": {},
   "outputs": [],
   "source": [
    "gdp = gdp.reset_index()\n",
    "gdp.rename(columns = {'g':'gdp'}, inplace = True)\n",
    "gdp.rename(columns = {'Country Code':'Country_Code'}, inplace = True)\n",
    "gdp.head(5)"
   ]
  },
  {
   "cell_type": "markdown",
   "metadata": {},
   "source": [
    "This leaves us with a datafile for growth in gross domestic product containing the years in the period 1999-2015 for only countries with a sufficient amount of observations."
   ]
  },
  {
   "cell_type": "markdown",
   "metadata": {},
   "source": [
    "## Plotting data for growth in gross domestic product (GDP)"
   ]
  },
  {
   "cell_type": "markdown",
   "metadata": {},
   "source": [
    "In the following part of the project we will analyse the growth in GDP based on the cleaned datafile."
   ]
  },
  {
   "cell_type": "markdown",
   "metadata": {},
   "source": [
    "Right below you'll see a scatter plot of the growth in GDP from year to year."
   ]
  },
  {
   "cell_type": "code",
   "execution_count": null,
   "metadata": {},
   "outputs": [],
   "source": [
    "gdp.plot.scatter(x = 'Year', y = 'gdp')"
   ]
  },
  {
   "cell_type": "markdown",
   "metadata": {},
   "source": [
    "Just as with growth in EDU the scatter plot for all the countries containing data for growth in GDP is fairly confusing and it's hard to see a clear relationship. Therefore, we'll again create a scatter plot for each seperate country. "
   ]
  },
  {
   "cell_type": "code",
   "execution_count": null,
   "metadata": {},
   "outputs": [],
   "source": [
    "def plot_gdp(dataframe, Country_Code): \n",
    "    I = dataframe['Country_Code'] == Country_Code\n",
    "    \n",
    "    ax=dataframe.loc[I,:].plot(x='Year', y='gdp', style='-o', legend='False')"
   ]
  },
  {
   "cell_type": "code",
   "execution_count": null,
   "metadata": {},
   "outputs": [],
   "source": [
    "widgets.interact(plot_gdp,\n",
    "    dataframe = widgets.fixed(gdp),\n",
    "    Country_Code = widgets.Dropdown(description='Countries', options=gdp.Country_Code.unique(), value='MEX')\n",
    "); \n"
   ]
  },
  {
   "cell_type": "markdown",
   "metadata": {},
   "source": [
    "The scatter plot illustrating growth in GDP for each seperate country shows a much more clear relationship. If we again focus on Finland and Ireland, we see that Finland had a very varying growthin the period 1999-2015 with growth rates ranging from -8% to 6% and Ireland having growth rates varying from -5% to 25%. Generally Iran have had increasing growth rates in GDP during the period while Finland have had somewhat decreasing growth rates. This could indicate a negative relationship between growth in GDP and EDU. "
   ]
  },
  {
   "cell_type": "markdown",
   "metadata": {},
   "source": [
    "This might just be a coincidence though. We can analyse this relationship further by merging the data which we'll do in the following part of the project."
   ]
  },
  {
   "cell_type": "markdown",
   "metadata": {},
   "source": [
    "## Merging the data files"
   ]
  },
  {
   "cell_type": "markdown",
   "metadata": {},
   "source": [
    "We'll start merging the data."
   ]
  },
  {
   "cell_type": "code",
   "execution_count": null,
   "metadata": {},
   "outputs": [],
   "source": [
    "merged_data = pd.merge(edu,gdp, on=['Country_Code','Year'], how='inner')\n",
    "merged_data.head(5)"
   ]
  },
  {
   "cell_type": "code",
   "execution_count": null,
   "metadata": {},
   "outputs": [],
   "source": [
    "merged_data.count()"
   ]
  },
  {
   "cell_type": "markdown",
   "metadata": {},
   "source": [
    "The figure shown below illustrates how the data has been merged which is a called an inner merge. This type of merging makes it so that we only include data which is part of both datafiles. "
   ]
  },
  {
   "cell_type": "code",
   "execution_count": null,
   "metadata": {},
   "outputs": [],
   "source": [
    "plt.figure(figsize=(10,5))\n",
    "v = venn2(subsets = (4, 4, 10), set_labels = ('GDP', 'EDU'))\n",
    "v.get_label_by_id('100').set_text('Dropped'); v.get_patch_by_id('100').set_alpha(0.15)\n",
    "v.get_label_by_id('010').set_text('Dropped'); v.get_patch_by_id('010').set_alpha(0.15)\n",
    "v.get_label_by_id('110').set_text('Included')\n",
    "plt.title('Inner join')\n",
    "plt.show()"
   ]
  },
  {
   "cell_type": "markdown",
   "metadata": {},
   "source": [
    "## Plotting the merged data"
   ]
  },
  {
   "cell_type": "markdown",
   "metadata": {},
   "source": [
    "The data files have now been merged into a new combined data file which we can analyse. Firstly, we'll make a scatter plot showing the relationship between growth in EDU and growth in GDP."
   ]
  },
  {
   "cell_type": "code",
   "execution_count": null,
   "metadata": {},
   "outputs": [],
   "source": [
    "y = merged_data['gdp']\n",
    "x = merged_data['edu']\n",
    "plt.scatter(x, y, s=10)\n",
    "\n",
    "z = np.polyfit(x, y, 1)\n",
    "p = np.poly1d(z)\n",
    "plt.plot(x,p(x),\"r--\")\n",
    "plt.xlabel(\"edu\")\n",
    "plt.ylabel(\"gdp\")\n",
    "\n",
    "plt.show()"
   ]
  },
  {
   "cell_type": "markdown",
   "metadata": {},
   "source": [
    "Earlier we took at look at Finland and Ireland where we with great uncertainty said that there might be a negative relationship between growth in EDU and GDP. The scatter plot of the merged data tells the same story. It's clear that there's a small but nonetheless negative relationship between growth in EDU and GDP. We can observe that countries with high growth in EDU generally have a lower growth in GDP compared to countries with low growth in EDU. "
   ]
  },
  {
   "cell_type": "markdown",
   "metadata": {},
   "source": [
    "We can analyse the data further by including a heatmap of the scatter plot above."
   ]
  },
  {
   "cell_type": "code",
   "execution_count": null,
   "metadata": {},
   "outputs": [],
   "source": [
    "sns.jointplot(x=merged_data.edu, y=merged_data.gdp, kind=\"hex\").set_axis_labels('GDP', 'EDU')"
   ]
  },
  {
   "cell_type": "markdown",
   "metadata": {},
   "source": [
    "From the heatmap we can observe that the majority of countries in the analysis have growth rates in GDP at about 5% and growth rates in EDU at about 1% (the darker the dots is, the more countries is centered around this point). "
   ]
  },
  {
   "cell_type": "markdown",
   "metadata": {},
   "source": [
    "We can extend the analysis of the merged data a bit further by creating scatter plots of the average one-year growth in the variables as shown below."
   ]
  },
  {
   "cell_type": "code",
   "execution_count": null,
   "metadata": {},
   "outputs": [],
   "source": [
    "ax = merged_data.groupby('Country_Code').agg(lambda x : x.pct_change().mean()).plot(kind='scatter',x='gdp',y='edu')\n",
    "ax.set_xlabel('Avg. one-year growth in GDP');\n",
    "ax.set_ylabel('Avg. one-year growth in EDU...');"
   ]
  },
  {
   "cell_type": "markdown",
   "metadata": {},
   "source": [
    "Unfortunately, it's hard to get a clear view of what's happening in the scatter plot above. To solve this we can take the log average one-year growth of each variable which is shown below."
   ]
  },
  {
   "cell_type": "code",
   "execution_count": null,
   "metadata": {},
   "outputs": [],
   "source": [
    "ax = merged_data.groupby('Country_Code').agg(lambda x: (np.log(x)).diff().mean()).plot(kind='scatter',x='gdp',y='edu')\n",
    "ax.set_xlabel('Avg. one-year log-difference in GDP');\n",
    "ax.set_ylabel('Avg. one-year log-difference in CO2');"
   ]
  },
  {
   "cell_type": "markdown",
   "metadata": {},
   "source": [
    "The scatter plot of the log differences in the variables shows a somewhat disorganised relationship. We can't conlude anything further from this."
   ]
  },
  {
   "cell_type": "markdown",
   "metadata": {},
   "source": [
    "As the last part of the analysis we have tried to create an OLS regression analysis which is shown below."
   ]
  },
  {
   "cell_type": "code",
   "execution_count": null,
   "metadata": {},
   "outputs": [],
   "source": [
    "logdiffs = merged_data.set_index('Country_Code').groupby(level=0).transform(lambda x : (np.log(x)).diff(1) ).reset_index()"
   ]
  },
  {
   "cell_type": "code",
   "execution_count": null,
   "metadata": {},
   "outputs": [],
   "source": [
    "res0 = sm.ols(formula='edu~gdp',                    data=merged_data).fit()\n",
    "res1 = sm.ols(formula='edu~gdp+C(Year)',            data=merged_data).fit()\n",
    "res2 = sm.ols(formula='edu~gdp+C(Year)+C(Country_Code)', data=merged_data).fit()\n",
    "res3 = sm.ols(formula='edu~gdp',                                    data=merged_data).fit() # in this dataframe, variables are already logged\n",
    "res4 = sm.ols(formula='edu~gdp+C(Country_Code)',                         data=merged_data).fit() # in this dataframe, variables are already logged\n",
    "\n",
    "print(f'Baseline:        {res0.params[\"gdp\"] : 8.4f}')\n",
    "print(f'Year FE:         {res1.params[\"gdp\"] : 8.4f}')\n",
    "print(f'Year+Country FE: {res2.params[\"gdp\"] : 8.4f}')\n",
    "print(f'FD:              {res3.params[\"gdp\"]         : 8.4f}')\n",
    "print(f'FD + country FE: {res4.params[\"gdp\"]         : 8.4f}')"
   ]
  },
  {
   "cell_type": "code",
   "execution_count": null,
   "metadata": {},
   "outputs": [],
   "source": [
    "res = pd.DataFrame(data = [\n",
    "        ['Baseline',         res0.params[\"gdp\"], res1.bse[\"gdp\"]], \n",
    "        ['Year FE',        res1.params[\"gdp\"], res1.bse[\"gdp\"]], \n",
    "        ['Year+country FE', res2.params[\"gdp\"], res2.bse[\"gdp\"]], \n",
    "        ['FD',              res3.params[\"gdp\"],         res3.bse[\"gdp\"]],\n",
    "        ['FD+country FE',   res4.params[\"gdp\"],         res4.bse[\"gdp\"]],\n",
    "    ], columns=['Model','estimate','se'])"
   ]
  },
  {
   "cell_type": "code",
   "execution_count": null,
   "metadata": {},
   "outputs": [],
   "source": [
    "# Regression analysis\n",
    "fig, ax = plt.subplots()\n",
    "x_pos = range(res.shape[0])\n",
    "ax.bar(x_pos, res.estimate, yerr=res.se,  alpha=0.5, ecolor='black', capsize=5);\n",
    "ax.set_xticks(x_pos);\n",
    "ax.set_xticklabels(res.Model);\n",
    "ax.set_ylabel('Estimate');\n",
    "ax.set_xlabel('Model');"
   ]
  },
  {
   "cell_type": "markdown",
   "metadata": {},
   "source": [
    "From the regression analysis we can you see how the different variables have contributed to the negative relationship between EDU and GDP. "
   ]
  },
  {
   "cell_type": "markdown",
   "metadata": {},
   "source": [
    "## Conclusion"
   ]
  },
  {
   "cell_type": "markdown",
   "metadata": {},
   "source": [
    "The growth in expenditure on education (EDU) and the growth in gross domestic product (GDP) seems to vary a lot from country to country, where some countries have had decreasing growth in both variables and others have had increasing growth. From the merged data we can observe that there seems to be a negative relationship between the variables. This indicates that countries generally spend a bigger portion of GDP on education during rough economic periods. This might be due to the fact that countries generally spends the same amount of dollars on education each year - this notwithstanding, if GDP is growing or decreasing. Furthermore, domestical political decisions plays a huge role in how the relationship changes for each country."
   ]
  }
 ],
 "metadata": {
  "kernelspec": {
   "display_name": "Python 3",
   "language": "python",
   "name": "python3"
  },
  "language_info": {
   "codemirror_mode": {
    "name": "ipython",
    "version": 3
   },
   "file_extension": ".py",
   "mimetype": "text/x-python",
   "name": "python",
   "nbconvert_exporter": "python",
   "pygments_lexer": "ipython3",
   "version": "3.7.1"
  }
 },
 "nbformat": 4,
 "nbformat_minor": 2
}
