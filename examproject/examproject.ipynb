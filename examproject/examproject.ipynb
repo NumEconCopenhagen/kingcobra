{
 "cells": [
  {
   "cell_type": "markdown",
   "metadata": {},
   "source": [
    "Importing necessary packages:"
   ]
  },
  {
   "cell_type": "code",
   "execution_count": 2,
   "metadata": {},
   "outputs": [],
   "source": [
    "import numpy as np                 # Package for scientific computing \n",
    "import sympy as sm                 # Package for symbolic mathematics\n",
    "import scipy                       # Package that contains features for optimization \n",
    "from scipy import optimize         # For maximizing and minimizing functions\n",
    "import matplotlib.pyplot as plt    # Package for creating figures\n",
    "from collections import Counter    # To count number of observations in a vector\n",
    "import ipywidgets as widgets       # To make interactive plots\n",
    "sm.init_printing(use_unicode=True) #Used for pretty printing "
   ]
  },
  {
   "cell_type": "markdown",
   "metadata": {},
   "source": [
    "# Human capital accumulation"
   ]
  },
  {
   "cell_type": "markdown",
   "metadata": {},
   "source": [
    "In the following part of the project we will solve the human capital accumulation problem. Firstly, we introduce the model (Taken directly from the task):"
   ]
  },
  {
   "cell_type": "markdown",
   "metadata": {},
   "source": [
    "## Introduction to the model"
   ]
  },
  {
   "cell_type": "markdown",
   "metadata": {},
   "source": [
    "Consider a worker living in **two periods**, $t \\in \\{1,2\\}$. \n",
    "\n",
    "In each period she decides whether to **work ($l_t = 1$) or not ($l_t = 0$)**. \n",
    "\n",
    "She can *not* borrow or save and thus **consumes all of her income** in each period. "
   ]
  },
  {
   "cell_type": "markdown",
   "metadata": {},
   "source": [
    "If she **works** her **consumption** becomes:\n",
    "\n",
    "$$c_t = w h_t l_t\\,\\,\\text{if}\\,\\,l_t=1$$\n",
    "\n",
    "where $w$ is **the wage rate** and $h_t$ is her **human capital**. \n",
    "\n",
    "If she does **not work** her consumption becomes:\n",
    "\n",
    "$$c_t = b\\,\\,\\text{if}\\,\\,l_t=0$$\n",
    "\n",
    "where $b$ is the **unemployment benefits**."
   ]
  },
  {
   "cell_type": "markdown",
   "metadata": {},
   "source": [
    "Her **utility of consumption** is: \n",
    "\n",
    "$$ \\frac{c_t^{1-\\rho}}{1-\\rho} $$\n",
    "\n",
    "Her **disutility of working** is:\n",
    "\n",
    "$$ \\gamma l_t $$"
   ]
  },
  {
   "cell_type": "markdown",
   "metadata": {},
   "source": [
    "From period 1 to period 2, she **accumulates human capital** according to:\n",
    "\n",
    "$$ h_2 = h_1 + l_1 + \n",
    "\\begin{cases}\n",
    "0 & \\text{with prob. }0.5 \\\\\n",
    "\\Delta & \\text{with prob. }0.5 \n",
    "\\end{cases} \\\\\n",
    "$$\n",
    "\n",
    "where $\\Delta$ is a **stochastic experience gain**."
   ]
  },
  {
   "cell_type": "markdown",
   "metadata": {},
   "source": [
    "In the **second period** the worker thus solves:\n",
    "\n",
    "$$\n",
    "\\begin{eqnarray*}\n",
    "v_{2}(h_{2}) & = &\\max_{l_{2}} \\frac{c_2^{1-\\rho}}{1-\\rho} - \\gamma l_2\n",
    "\\\\ & \\text{s.t.} & \\\\\n",
    "c_{2}& = & w h_2 l_2 \\\\\n",
    "l_{2}& \\in &\\{0,1\\}\n",
    "\\end{eqnarray*}\n",
    "$$"
   ]
  },
  {
   "cell_type": "markdown",
   "metadata": {},
   "source": [
    "In the **first period** the worker thus solves:\n",
    "\n",
    "$$\n",
    "\\begin{eqnarray*}\n",
    "v_{1}(h_{1}) &=& \\max_{l_{1}} \\frac{c_1^{1-\\rho}}{1-\\rho} - \\gamma l_1 + \\beta\\mathbb{E}_{1}\\left[v_2(h_2)\\right]\n",
    "\\\\ & \\text{s.t.} & \\\\\n",
    "c_1 &=& w h_1 l_1 \\\\\n",
    "h_2 &=& h_1 + l_1 + \\begin{cases}\n",
    "0 & \\text{with prob. }0.5\\\\\n",
    "\\Delta & \\text{with prob. }0.5 \n",
    "\\end{cases}\\\\\n",
    "l_{1} &\\in& \\{0,1\\}\\\\\n",
    "\\end{eqnarray*}\n",
    "$$\n",
    "\n",
    "where $\\beta$ is the **discount factor** and $\\mathbb{E}_{1}\\left[v_2(h_2)\\right]$ is the **expected value of living in period two**."
   ]
  },
  {
   "cell_type": "markdown",
   "metadata": {},
   "source": [
    "The **parameters** of the model are:"
   ]
  },
  {
   "cell_type": "code",
   "execution_count": 3,
   "metadata": {},
   "outputs": [],
   "source": [
    "rho = 2\n",
    "beta = 0.96\n",
    "gamma = 0.1\n",
    "w = 2\n",
    "b = 1\n",
    "Delta = 0.1"
   ]
  },
  {
   "cell_type": "markdown",
   "metadata": {},
   "source": [
    "The **relevant levels of human capital** are:"
   ]
  },
  {
   "cell_type": "code",
   "execution_count": 4,
   "metadata": {},
   "outputs": [],
   "source": [
    "h_vec = np.linspace(0.1,1.5,100)"
   ]
  },
  {
   "cell_type": "markdown",
   "metadata": {},
   "source": [
    "## Solving question 1"
   ]
  },
  {
   "cell_type": "markdown",
   "metadata": {},
   "source": [
    "**Question 1:** Solve the model in period 2 and illustrate the solution (including labor supply as a function of human capital). "
   ]
  },
  {
   "cell_type": "markdown",
   "metadata": {},
   "source": [
    "### Utility of human capital"
   ]
  },
  {
   "cell_type": "markdown",
   "metadata": {},
   "source": [
    "In order to solve question 1 we start by finding the utility of human capital. The first thing we do is defining the functions. We set consumption and $v_2$ to return different values depending on whether she works or not."
   ]
  },
  {
   "cell_type": "code",
   "execution_count": 5,
   "metadata": {},
   "outputs": [],
   "source": [
    "# Defining consumption\n",
    "def consumption(w,h,l):\n",
    "    if l == 1:\n",
    "        return w*h*l\n",
    "    else:\n",
    "        return b\n",
    "\n",
    "# Defining utility \n",
    "def utility(c,rho):\n",
    "    return c**(1-rho)/(1-rho)\n",
    "\n",
    "# Defining disutility\n",
    "def disutility(gamma,l):\n",
    "    return gamma*l\n",
    "\n",
    "# Defining v2\n",
    "def v2(rho,gamma,w,b,h2,l2):\n",
    "    if l2 == 1: \n",
    "        return utility(w*h2,rho)-gamma*l2\n",
    "    else:\n",
    "        return utility(b,rho)\n"
   ]
  },
  {
   "cell_type": "markdown",
   "metadata": {},
   "source": [
    "We solve the model for period 2 with respect to to utility of human capital. Firstly, we create two arrays where the first one will maximize the utility of working and the second one is an empty array where we store future values of $l_2$. We then loop over the values of human capital to maximize utility and we append the values to our empty $l_2$ array."
   ]
  },
  {
   "cell_type": "code",
   "execution_count": 6,
   "metadata": {},
   "outputs": [],
   "source": [
    "def utility_of_working(u2_working,u2_unemployment):\n",
    "    \n",
    "    # Arrays \n",
    "    u2_array = np.maximum(u2_working,u2_unemployment)\n",
    "    l2_array = []\n",
    "    \n",
    "    # Looping\n",
    "    for i, h in enumerate(h_vec):\n",
    "        if u2_working[i] > u2_unemployment[i]:\n",
    "            l2_array.append(1)\n",
    "        else:\n",
    "            l2_array.append(0)\n",
    "   \n",
    "    return u2_array,l2_array"
   ]
  },
  {
   "cell_type": "markdown",
   "metadata": {},
   "source": [
    "Now we define our solution function. We create an empty array of zeros with the same lenght as h_vec and adds the $v_2$ value when she is unemployed and the $v_2$ value when she is working. "
   ]
  },
  {
   "cell_type": "code",
   "execution_count": 7,
   "metadata": {},
   "outputs": [],
   "source": [
    "def solution_p2(h_vec,rho,gamma,beta,w,b):\n",
    "\n",
    "    u2_unemployment = np.zeros(len(h_vec)) + v2(rho,gamma,w,b,h_vec,0)\n",
    "    u2_working = v2(rho,gamma,w,b,h_vec,1)\n",
    "\n",
    "    u2_array,l2_array = utility_of_working(u2_unemployment, u2_working)\n",
    "    \n",
    "    return u2_unemployment, u2_working, u2_array, l2_array"
   ]
  },
  {
   "cell_type": "markdown",
   "metadata": {},
   "source": [
    "We call the functions."
   ]
  },
  {
   "cell_type": "code",
   "execution_count": 8,
   "metadata": {},
   "outputs": [],
   "source": [
    "u2_unemployment, u2_working, u2_array, l2_array = solution_p2(h_vec,rho,gamma,beta,w,b)"
   ]
  },
  {
   "cell_type": "markdown",
   "metadata": {},
   "source": [
    "Finally, we plot the figure."
   ]
  },
  {
   "cell_type": "code",
   "execution_count": 9,
   "metadata": {},
   "outputs": [
    {
     "data": {
      "image/png": "[encoded data removed]",
      "text/plain": [
       "<Figure size 576x432 with 1 Axes>"
      ]
     },
     "metadata": {
      "needs_background": "light"
     },
     "output_type": "display_data"
    }
   ],
   "source": [
    "# Plotting figure\n",
    "fig = plt.figure(figsize=(8,6)) \n",
    "\n",
    "# Adding subplot\n",
    "ax = fig.add_subplot(1,1,1) \n",
    "\n",
    "# Plotting utility when she is unemployed\n",
    "ax.plot(h_vec,u2_unemployment, c='r')\n",
    "\n",
    "# Plotting utility when she is working\n",
    "ax.plot(h_vec,u2_working, c='b')\n",
    "\n",
    "# Setting title\n",
    "ax.set_title('Utility as a function of human capital in period 2')\n",
    "\n",
    "# Setting x label\n",
    "ax.set_xlabel('Human capital')\n",
    "\n",
    "# Setting y label\n",
    "ax.set_ylabel('Utility') \n",
    "\n",
    "# Adding grid\n",
    "ax.grid(True)"
   ]
  },
  {
   "cell_type": "markdown",
   "metadata": {},
   "source": [
    "The blue line represents the utility the worker gets from working, while the red line represents the utility she gets from the unemployment benefits. This means that she will decide to stay unemployed when human capital is approximately below 0.56, but when human capital is above 0.56 she will work as the utility of working is higher than the utility of the unemployment benefits. In other words she will maximize utility by being on the red line until she reaches 0.56, where she will shift towards she blue line."
   ]
  },
  {
   "cell_type": "markdown",
   "metadata": {},
   "source": [
    "### Labour supply of human capital"
   ]
  },
  {
   "cell_type": "markdown",
   "metadata": {},
   "source": [
    "We then solve the model for labour with respect to human capital in period 2. In order to do this we redefine our $v_2$ function. "
   ]
  },
  {
   "cell_type": "code",
   "execution_count": 10,
   "metadata": {},
   "outputs": [],
   "source": [
    "# Defining v2\n",
    "def v2(rho,gamma,w,b,h2,l2):\n",
    "    return utility(consumption(w,h2,l2),rho)-disutility(gamma,l2)"
   ]
  },
  {
   "cell_type": "markdown",
   "metadata": {},
   "source": [
    "We create two empty arrays for $v_2$ and $l_2$ - each with a shape of 100. Then we loop over each level of human capital in h_vec to find out which value of $l_2$ that maximizes $v_2$ and we append the value of $v_2$ to our empty $v_2$ array."
   ]
  },
  {
   "cell_type": "code",
   "execution_count": 11,
   "metadata": {},
   "outputs": [],
   "source": [
    "def solution_period2(rho,gamma,w,b,h_vec):\n",
    "\n",
    "    # Creating empty arrays for v2 and l2.\n",
    "    v2_array = np.empty(100)\n",
    "    l2_array = np.empty(100)\n",
    "\n",
    "    # Looping over the values of human capital to find out which value of h that maximizes v2\n",
    "    for i,h in enumerate(h_vec):\n",
    "        if (v2(rho, gamma,w,b,h,1) > v2(rho,gamma,w,b,h,0)) == True:\n",
    "            l2_array[i] = 1\n",
    "        else:\n",
    "            l2_array[i] = 0\n",
    "        \n",
    "    # Appending l2 to the empty array\n",
    "    v2_array[i] = v2(rho,gamma,w,b,h,l2_array[i])\n",
    "               \n",
    "    return v2_array, l2_array"
   ]
  },
  {
   "cell_type": "markdown",
   "metadata": {},
   "source": [
    "We call the functions."
   ]
  },
  {
   "cell_type": "code",
   "execution_count": 12,
   "metadata": {},
   "outputs": [],
   "source": [
    "v2_array,l2_array = solution_period2(rho,gamma,w,b,h_vec)"
   ]
  },
  {
   "cell_type": "markdown",
   "metadata": {},
   "source": [
    "Finally, we plot the figure."
   ]
  },
  {
   "cell_type": "code",
   "execution_count": 13,
   "metadata": {},
   "outputs": [
    {
     "data": {
      "image/png": "[encoded data removed]",
      "text/plain": [
       "<Figure size 576x432 with 1 Axes>"
      ]
     },
     "metadata": {
      "needs_background": "light"
     },
     "output_type": "display_data"
    }
   ],
   "source": [
    "# Plotting figure\n",
    "fig = plt.figure(figsize=(8,6))\n",
    "\n",
    "# Adding subplot\n",
    "ax = fig.add_subplot(1,1,1)\n",
    "\n",
    "# Setting title\n",
    "ax.set_title('Labour supply as a function of human capital in period 2')\n",
    "\n",
    "# Plotting labour supply\n",
    "ax.plot(h_vec, l2_array, c='r')\n",
    "\n",
    "# Setting y label\n",
    "ax.set_ylabel('Labour supply')\n",
    "\n",
    "# Setting x label\n",
    "ax.set_xlabel('Human capital')\n",
    "\n",
    "# Adding grid\n",
    "ax.grid(True)"
   ]
  },
  {
   "cell_type": "markdown",
   "metadata": {},
   "source": [
    "The above figure shows that she will not supply any labour in period 2 when human capital is below 0.56. When human capital exceeds 0.56 she will supply all her labour represented by the vertical shift of the red line. This also supports the previous figure where utility of unemployment was higher than utility of working when human capital was below 0.56, and utility of working was higher than utility of employment when human capital exceded 0.56."
   ]
  },
  {
   "cell_type": "markdown",
   "metadata": {},
   "source": [
    "## Solving question 2"
   ]
  },
  {
   "cell_type": "markdown",
   "metadata": {},
   "source": [
    "**Question 2:** Solve the model in period 1 and illustrate the solution (including labor supply as a\n",
    "function of human capital)."
   ]
  },
  {
   "cell_type": "markdown",
   "metadata": {},
   "source": [
    "### Utility of human capital"
   ]
  },
  {
   "cell_type": "markdown",
   "metadata": {},
   "source": [
    "We once again redefine our consumption and utility function. Furthermore, we count the number of observations in h_vec that is smaller or equal to 0.56, since we from the previous question know that she will not supply any labour below this level of human capital."
   ]
  },
  {
   "cell_type": "code",
   "execution_count": 14,
   "metadata": {},
   "outputs": [
    {
     "data": {
      "text/plain": [
       "Counter({False: 33, True: 67})"
      ]
     },
     "execution_count": 14,
     "metadata": {},
     "output_type": "execute_result"
    }
   ],
   "source": [
    "# Defining consumption\n",
    "def consumption(w,b,h,l):\n",
    "    if l == 1:\n",
    "        return w*h*l\n",
    "    if l == 0:\n",
    "        return b\n",
    "\n",
    "# Defining utility\n",
    "def utility(w,b,h,l):\n",
    "    return (consumption(w,b,h,l)**(1-rho))/(1-rho) - gamma*l\n",
    "\n",
    "# Counting number of observations in h_vec below 0.56\n",
    "Counter(h_vec>=0.56)"
   ]
  },
  {
   "cell_type": "markdown",
   "metadata": {},
   "source": [
    "We define our utility function of $v_1$. "
   ]
  },
  {
   "cell_type": "code",
   "execution_count": 15,
   "metadata": {},
   "outputs": [],
   "source": [
    "# Defining utility of v1\n",
    "def utility_v1(w,b,h,l):\n",
    "    \n",
    "    # Creating an empty list to store future values of utility\n",
    "    utilities = []\n",
    "    \n",
    "    # When she supplies labour\n",
    "    if l == 1:\n",
    "        for i in range(0,100):\n",
    "            utilities.append(utility(w,b,h[i],l)+ beta*utility(w,b,h[i],1))\n",
    "            \n",
    "    # When she is unemployed\n",
    "    if l == 0:\n",
    "        for i in range(0,33):\n",
    "            utilities.append(utility(w,b,h[i],l) + beta*utility(w,b,h[i],0))\n",
    "        \n",
    "        for i in range(33,100):\n",
    "            utilities.append(utility(w,b,h[i],l) + beta*utility(w,b,h[i],1))\n",
    "    return utilities"
   ]
  },
  {
   "cell_type": "markdown",
   "metadata": {},
   "source": [
    "We plot the figure:"
   ]
  },
  {
   "cell_type": "code",
   "execution_count": 16,
   "metadata": {},
   "outputs": [
    {
     "data": {
      "image/png": "[encoded data removed]",
      "text/plain": [
       "<Figure size 576x432 with 1 Axes>"
      ]
     },
     "metadata": {
      "needs_background": "light"
     },
     "output_type": "display_data"
    }
   ],
   "source": [
    "# Plotting figure\n",
    "fig = plt.figure(figsize=(8,6))\n",
    "\n",
    "# Adding subplot\n",
    "ax = fig.add_subplot(1,1,1)\n",
    "\n",
    "# Plotting utility when working\n",
    "ax.plot(h_vec, utility_v1(w,b,h_vec,1), c='b')\n",
    "\n",
    "# Plotting utility when unemployed\n",
    "ax.plot(h_vec, utility_v1(w,b,h_vec,0), c='r')\n",
    "\n",
    "# Setting title\n",
    "ax.set_title('Utility as a function of human capital in period 1')\n",
    "\n",
    "# Setting x label\n",
    "ax.set_xlabel('Human capital')\n",
    "\n",
    "# Setting y label\n",
    "ax.set_ylabel('Utility')\n",
    "\n",
    "# Adding grid\n",
    "plt.grid(True)"
   ]
  },
  {
   "cell_type": "markdown",
   "metadata": {},
   "source": [
    "The red line represents her utility when she stays unemployed while the blue line represents her utility when supplying labour. From the figure we can conclude that she will decide to stay unemployed until the red line intersects with the blue line at a rate of 0.56 in human capital. She will then decide to work hereafter. "
   ]
  },
  {
   "cell_type": "markdown",
   "metadata": {},
   "source": [
    "### Labour supply of human capital"
   ]
  },
  {
   "cell_type": "markdown",
   "metadata": {},
   "source": [
    "We will now find the labour supply of human capital. Once again we redfine our functions."
   ]
  },
  {
   "cell_type": "code",
   "execution_count": 17,
   "metadata": {},
   "outputs": [],
   "source": [
    "# Defining consumption\n",
    "def consumption(w,h,l,b):\n",
    "    return w*h*l+b*(1-l)\n",
    "\n",
    "# Defining utility\n",
    "def utility(c,rho):\n",
    "    return c**(1-rho)/(1-rho)"
   ]
  },
  {
   "cell_type": "markdown",
   "metadata": {},
   "source": [
    "We then define the $v_1$ function in which we calculate the expected value of $v_2$. Firstly, we calculate $h_2$ with and without human capital and we then find the expected value of $v_2$."
   ]
  },
  {
   "cell_type": "code",
   "execution_count": 18,
   "metadata": {},
   "outputs": [],
   "source": [
    "# Defining v1\n",
    "def v1(w, b, h1, rho, gamma, Delta, beta, l1):\n",
    "    \n",
    "    # Accumulation of human capital\n",
    "    h2_hc = h1+l1+Delta\n",
    "    h2_no_hc = h1+l1\n",
    "    \n",
    "    # Value of v2 when you take probability aspect into account\n",
    "    v2_expected = 0.5*h2_hc+0.5*h2_no_hc\n",
    "    \n",
    "    return utility(consumption(w,h1,l1,b),rho)-disutility(gamma,l1)+beta*v2_expected"
   ]
  },
  {
   "cell_type": "markdown",
   "metadata": {},
   "source": [
    "We then solve the model for period 1."
   ]
  },
  {
   "cell_type": "code",
   "execution_count": 19,
   "metadata": {},
   "outputs": [],
   "source": [
    "# Defining solution\n",
    "def solution_period1(rho, w, b, h_vec, gamma, Delta,beta):\n",
    "\n",
    "    # Creating empty arrays for v1 and l1 - each with a shape of 100.\n",
    "    v1_array = np.empty(100)\n",
    "    l1_array = np.empty(100)\n",
    "    \n",
    "    # Looping over the values of human capital to find out which value of l1 that maximizes v1\n",
    "    for i,h in enumerate(h_vec):\n",
    "        if (v1(w,b,h,rho,gamma, Delta, beta, 1) > v1(w,b,h,rho,gamma, Delta, beta, 0)) == True:\n",
    "            l1_array[i]=1\n",
    "        else:\n",
    "            l1_array[i]=0\n",
    "            \n",
    "    # Appending v1 to the empty array\n",
    "    v1_array[i] = v1(w, b, rho, gamma, h, Delta, beta,l1_array[i])\n",
    "    \n",
    "    return v1_array, l1_array"
   ]
  },
  {
   "cell_type": "markdown",
   "metadata": {},
   "source": [
    "We call the functions."
   ]
  },
  {
   "cell_type": "code",
   "execution_count": 20,
   "metadata": {},
   "outputs": [],
   "source": [
    "v1_array, l1_array = solution_period1(rho,w,b,h_vec,gamma,Delta,beta)"
   ]
  },
  {
   "cell_type": "markdown",
   "metadata": {},
   "source": [
    "Finally we plot the figure:"
   ]
  },
  {
   "cell_type": "code",
   "execution_count": 21,
   "metadata": {},
   "outputs": [
    {
     "data": {
      "image/png": "[encoded data removed]",
      "text/plain": [
       "<Figure size 576x432 with 1 Axes>"
      ]
     },
     "metadata": {
      "needs_background": "light"
     },
     "output_type": "display_data"
    }
   ],
   "source": [
    "# Plotting figure\n",
    "fig = plt.figure(figsize=(8,6))\n",
    "\n",
    "# Adding subplot\n",
    "ax = fig.add_subplot(1,1,1)\n",
    "\n",
    "# Plotting labour supply\n",
    "ax.plot(h_vec, l1_array, c='r')\n",
    "\n",
    "# Setting title\n",
    "ax.set_title('Labour supply as a function of human capital in period 1')\n",
    "\n",
    "# Setting y label\n",
    "ax.set_ylabel('Labour supply')\n",
    "\n",
    "# Setting x label\n",
    "ax.set_xlabel('$h_1$')\n",
    "\n",
    "# Adding grid\n",
    "ax.grid(True)"
   ]
  },
  {
   "cell_type": "markdown",
   "metadata": {},
   "source": [
    "The red line represents her labour supply in period 1. She will decide to supply no labour and thus stay unemployed when human capital is below approximately 0.28. When human capital exceeds 0.28 she will decide to supply all her labour represented by ther vertical shift in the red line. If we compare this figure to the identical one from question 1 we see that she will decide to supply labour at a lower level of human capital in period 1 compared to period 2. The reason for this is that the gains of human capital can improve her utility in period 2 as well which makes her more prone to decide to work in period 1."
   ]
  },
  {
   "cell_type": "markdown",
   "metadata": {},
   "source": [
    "## Solving question 3"
   ]
  },
  {
   "cell_type": "markdown",
   "metadata": {},
   "source": [
    "**Question 3:** Will the worker never work if her potential wage income is lower than the unemployment benefits she can get? Explain and illustrate why or why not."
   ]
  },
  {
   "cell_type": "markdown",
   "metadata": {},
   "source": [
    "From the above figures of labour supply as a function of human capital we can conclude that she will decide at lower rates of human capital in period 1 compared to period 2. From looking at the functions it is clear that she may decide to work even though the benefits of unemployment is bigger than the potential wage. This just requires that gains of human capital is high enough to compensate for the lower wage. "
   ]
  },
  {
   "cell_type": "markdown",
   "metadata": {},
   "source": [
    "We set the potential wage to be lower than the benefits of working."
   ]
  },
  {
   "cell_type": "code",
   "execution_count": 22,
   "metadata": {},
   "outputs": [],
   "source": [
    "w = 0.99\n",
    "b = 1"
   ]
  },
  {
   "cell_type": "markdown",
   "metadata": {},
   "source": [
    "We then do exactly the same as we did when we found the labour supply function in period 2. We redefine our functions."
   ]
  },
  {
   "cell_type": "code",
   "execution_count": 23,
   "metadata": {},
   "outputs": [],
   "source": [
    "# Defining consumption\n",
    "def consumption(w,b,h,l):\n",
    "    if l == 1:\n",
    "        return w*h*l\n",
    "    else:\n",
    "        return b\n",
    "    \n",
    "# Defining v2\n",
    "def v2(rho,gamma,w,b,h2,l2):\n",
    "    return utility(consumption(w,b,h2,l2),rho)-disutility(gamma,l2)"
   ]
  },
  {
   "cell_type": "markdown",
   "metadata": {},
   "source": [
    "We then create our function to create a solution."
   ]
  },
  {
   "cell_type": "code",
   "execution_count": 24,
   "metadata": {},
   "outputs": [],
   "source": [
    "# Defining solution function\n",
    "def wage_vs_unemployment_benifits(rho,gamma,w,b,h_vec):\n",
    "\n",
    "    # Creating empty arrays for v2 and l2 - each with a shape of 100.\n",
    "    v2_array = np.empty(100)\n",
    "    l2_array = np.empty(100)\n",
    "\n",
    "    # Looping over the values of human capital to find out which value of l2 that maximizes v2\n",
    "    for i,h in enumerate(h_vec):\n",
    "        if (v2(rho, gamma,w,b,h,1) > v2(rho,gamma,w,b,h,0)) == True:\n",
    "            l2_array[i] = 1\n",
    "        else:\n",
    "            l2_array[i] = 0\n",
    "        \n",
    "    # Appending l2 to the empty array\n",
    "    v2_array[i] = v2(rho, gamma, w, b, h,l2_array[i])\n",
    "               \n",
    "    return v2_array, l2_array"
   ]
  },
  {
   "cell_type": "markdown",
   "metadata": {},
   "source": [
    "We call the function."
   ]
  },
  {
   "cell_type": "code",
   "execution_count": 25,
   "metadata": {},
   "outputs": [],
   "source": [
    "v2_array,l2_array = wage_vs_unemployment_benifits(rho, gamma,w,b,h_vec)"
   ]
  },
  {
   "cell_type": "markdown",
   "metadata": {},
   "source": [
    "Finally we plot the figure."
   ]
  },
  {
   "cell_type": "code",
   "execution_count": 26,
   "metadata": {},
   "outputs": [
    {
     "data": {
      "image/png": "[encoded data removed]",
      "text/plain": [
       "<Figure size 576x432 with 1 Axes>"
      ]
     },
     "metadata": {
      "needs_background": "light"
     },
     "output_type": "display_data"
    }
   ],
   "source": [
    "# Plotting figure\n",
    "fig = plt.figure(figsize=(8,6))\n",
    "\n",
    "# Adding subplot\n",
    "ax = fig.add_subplot(1,1,1)\n",
    "\n",
    "# Setting title\n",
    "ax.set_title('Labour supply as a function of human capital in period 2')\n",
    "\n",
    "# Plotting the labour supply\n",
    "ax.plot(h_vec, l2_array, c='r')\n",
    "\n",
    "# Setting y label\n",
    "ax.set_ylabel('Labour supply')\n",
    "\n",
    "# Setting x label\n",
    "ax.set_xlabel('Human capital')\n",
    "\n",
    "# Adding grid\n",
    "ax.grid(True)"
   ]
  },
  {
   "cell_type": "markdown",
   "metadata": {},
   "source": [
    "The figure above supports our initial statement. She will eventually decide to work although the wage is lower than the benifits of unemployment, but in order to do that she needs to be compensated by much higher levels of human capital than before. "
   ]
  },
  {
   "cell_type": "markdown",
   "metadata": {},
   "source": [
    "# 2. AS-AD model"
   ]
  },
  {
   "cell_type": "markdown",
   "metadata": {},
   "source": [
    "Consider the following **AS-AD model**. The **goods market equilibrium** is given by\n",
    "\n",
    "$$ y_{t} = -\\alpha r_{t} + v_{t} $$\n",
    "\n",
    "where $y_{t}$ is the **output gap**, $r_{t}$ is the **ex ante real interest** and $v_{t}$ is a **demand disturbance**. "
   ]
  },
  {
   "cell_type": "markdown",
   "metadata": {},
   "source": [
    "The central bank's **Taylor rule** is\n",
    "\n",
    "$$ i_{t} = \\pi_{t+1}^{e} + h \\pi_{t} + b y_{t}$$\n",
    "\n",
    "where $i_{t}$ is the **nominal interest rate**, $\\pi_{t}$ is the **inflation gap**, and $\\pi_{t+1}^{e}$ is the **expected inflation gap**. "
   ]
  },
  {
   "cell_type": "markdown",
   "metadata": {},
   "source": [
    "The **ex ante real interest rate** is given by \n",
    "\n",
    "$$ r_{t} = i_{t} - \\pi_{t+1}^{e} $$"
   ]
  },
  {
   "cell_type": "markdown",
   "metadata": {},
   "source": [
    "Together, the above implies that the **AD-curve** is\n",
    "\n",
    "$$ \\pi_{t} = \\frac{1}{h\\alpha}\\left[v_{t} - (1+b\\alpha)y_{t}\\right]$$"
   ]
  },
  {
   "cell_type": "markdown",
   "metadata": {},
   "source": [
    "Further, assume that the **short-run supply curve (SRAS)** is given by\n",
    "\n",
    "$$ \\pi_{t} = \\pi_{t}^{e} + \\gamma y_{t} + s_{t}$$\n",
    "\n",
    "where $s_t$ is a **supply disturbance**."
   ]
  },
  {
   "cell_type": "markdown",
   "metadata": {},
   "source": [
    "**Inflation expectations are adaptive** and given by\n",
    "\n",
    "$$ \\pi_{t}^{e} = \\phi\\pi_{t-1}^{e} + (1-\\phi)\\pi_{t-1}$$"
   ]
  },
  {
   "cell_type": "markdown",
   "metadata": {},
   "source": [
    "Together, this implies that the **SRAS-curve** can also be written as\n",
    "\n",
    "$$ \\pi_{t} = \\pi_{t-1} + \\gamma y_{t} - \\phi\\gamma y_{t-1} + s_{t} - \\phi s_{t-1} $$"
   ]
  },
  {
   "cell_type": "markdown",
   "metadata": {},
   "source": [
    "The **parameters** of the model are:"
   ]
  },
  {
   "cell_type": "code",
   "execution_count": 27,
   "metadata": {},
   "outputs": [],
   "source": [
    "par = {}\n",
    "\n",
    "par['alpha'] = 5.76\n",
    "par['h'] = 0.5\n",
    "par['b'] = 0.5\n",
    "par['phi'] = 0\n",
    "par['gamma'] = 0.075"
   ]
  },
  {
   "cell_type": "markdown",
   "metadata": {},
   "source": [
    "**Question 1:** Use the ``sympy`` module to solve for the equilibrium values of output, $y_t$, and inflation, $\\pi_t$, (where AD = SRAS) given the parameters ($\\alpha$, $h$, $b$, $\\alpha$, $\\gamma$) and $y_{t-1}$ , $\\pi_{t-1}$, $v_t$, $s_t$, and $s_{t-1}$. (We assume that the question was supposed to say \"given the parameters ($\\alpha$, $h$, $b$, $\\phi$, $\\gamma$)\" rather than \"given the parameters ($\\alpha$, $h$, $b$, $\\alpha$, $\\gamma$)\".)\n",
    "\n",
    "**Question 2:** Find and illustrate the equilibrium when $y_{t-1} = \\pi_{t-1} = v_t = s_t = s_{t-1} = 0$. Illustrate how the equilibrium changes when instead $v_t = 0.1$."
   ]
  },
  {
   "cell_type": "code",
   "execution_count": 28,
   "metadata": {},
   "outputs": [],
   "source": [
    "#Defining all the different variables from the given equations: \n",
    "y = sm.symbols('y_t')\n",
    "yt = sm.symbols('y_t-1')\n",
    "alpha = sm.symbols('alpha')\n",
    "r = sm.symbols('r_t')\n",
    "v = sm.symbols('v_t')\n",
    "vt = sm.symbols('v_t-1')\n",
    "i = sm.symbols('i_t')\n",
    "pi = sm.symbols('pi_t')\n",
    "pite = sm.symbols('pi_t+1^e')\n",
    "pie = sm.symbols('pi_t^e')\n",
    "piet = sm.symbols('pi_t-1^e')\n",
    "pit = sm.symbols('pi_t-1')\n",
    "h = sm.symbols('h')\n",
    "b = sm.symbols('b')\n",
    "gamma = sm.symbols('gamma')\n",
    "s = sm.symbols('s_t')\n",
    "st = sm.symbols('s_t-1')\n",
    "phi= sm.symbols('phi')"
   ]
  },
  {
   "cell_type": "markdown",
   "metadata": {},
   "source": [
    "Question 1: Solving for the equilibrium values of output is done by setting AD = SRAS: "
   ]
  },
  {
   "cell_type": "code",
   "execution_count": 29,
   "metadata": {},
   "outputs": [
    {
     "data": {
      "image/png": "[encoded data removed]",
      "text/latex": [
       "$$\\pi_{t} = \\frac{v_{t} - y_{t} \\left(\\alpha b + 1\\right)}{\\alpha h}$$"
      ],
      "text/plain": [
       "     vₜ - yₜ⋅(α⋅b + 1)\n",
       "πₜ = ─────────────────\n",
       "            α⋅h       "
      ]
     },
     "execution_count": 29,
     "metadata": {},
     "output_type": "execute_result"
    }
   ],
   "source": [
    "#Defining the AD curve by using the sympy equation function\n",
    "AD = sm.Eq(pi,((v-((1+b*alpha)*y))/(h*alpha)))\n",
    "AD"
   ]
  },
  {
   "cell_type": "code",
   "execution_count": 30,
   "metadata": {},
   "outputs": [
    {
     "data": {
      "image/png": "[encoded data removed]",
      "text/latex": [
       "$$\\pi_{t} = - \\gamma \\phi y_{t-1} + \\gamma y_{t} - \\phi s_{t-1} + \\pi_{t-1} + s_{t}$$"
      ],
      "text/plain": [
       "πₜ = -γ⋅φ⋅yₜ₋₁ + γ⋅yₜ - φ⋅sₜ₋₁ + πₜ₋₁ + sₜ"
      ]
     },
     "execution_count": 30,
     "metadata": {},
     "output_type": "execute_result"
    }
   ],
   "source": [
    "#Defining the SRAS curve by using the sympy equation function\n",
    "SRAS = sm.Eq(pi,pit + gamma*y - phi*gamma*yt + s - phi*st)\n",
    "SRAS"
   ]
  },
  {
   "cell_type": "code",
   "execution_count": 31,
   "metadata": {},
   "outputs": [
    {
     "data": {
      "image/png": "[encoded data removed]",
      "text/latex": [
       "$$- \\gamma \\phi y_{t-1} + \\gamma y_{t} - \\phi s_{t-1} + \\pi_{t-1} + s_{t} = \\frac{v_{t} - y_{t} \\left(\\alpha b + 1\\right)}{\\alpha h}$$"
      ],
      "text/plain": [
       "                                        vₜ - yₜ⋅(α⋅b + 1)\n",
       "-γ⋅φ⋅yₜ₋₁ + γ⋅yₜ - φ⋅sₜ₋₁ + πₜ₋₁ + sₜ = ─────────────────\n",
       "                                               α⋅h       "
      ]
     },
     "execution_count": 31,
     "metadata": {},
     "output_type": "execute_result"
    }
   ],
   "source": [
    "#Setting AD = SRAS \n",
    "SRAS_AD= sm.Eq(pit + gamma*y - phi*gamma*yt + s -phi*st , (v-(1+b*alpha)*y)/(h*alpha))\n",
    "SRAS_AD"
   ]
  },
  {
   "cell_type": "code",
   "execution_count": 32,
   "metadata": {},
   "outputs": [
    {
     "name": "stdout",
     "output_type": "stream",
     "text": [
      "The equilibrum value of y is then:\n"
     ]
    },
    {
     "data": {
      "image/png": "[encoded data removed]",
      "text/latex": [
       "$$\\frac{\\alpha \\gamma h \\phi y_{t-1} + \\alpha h \\phi s_{t-1} - \\alpha h \\pi_{t-1} - \\alpha h s_{t} + v_{t}}{\\alpha b + \\alpha \\gamma h + 1}$$"
      ],
      "text/plain": [
       "α⋅γ⋅h⋅φ⋅yₜ₋₁ + α⋅h⋅φ⋅sₜ₋₁ - α⋅h⋅πₜ₋₁ - α⋅h⋅sₜ + vₜ\n",
       "──────────────────────────────────────────────────\n",
       "                 α⋅b + α⋅γ⋅h + 1                  "
      ]
     },
     "execution_count": 32,
     "metadata": {},
     "output_type": "execute_result"
    }
   ],
   "source": [
    "#Solving for y\n",
    "y_star = sm.solve(SRAS_AD,y)[0]\n",
    "\n",
    "print('The equilibrum value of y is then:')\n",
    "y_star"
   ]
  },
  {
   "cell_type": "code",
   "execution_count": 33,
   "metadata": {},
   "outputs": [
    {
     "data": {
      "image/png": "[encoded data removed]",
      "text/latex": [
       "$$\\frac{- \\alpha b \\gamma \\phi y_{t-1} - \\alpha b \\phi s_{t-1} + \\alpha b \\pi_{t-1} + \\alpha b s_{t} - \\gamma \\phi y_{t-1} + \\gamma v_{t} - \\phi s_{t-1} + \\pi_{t-1} + s_{t}}{\\alpha b + \\alpha \\gamma h + 1}$$"
      ],
      "text/plain": [
       "-α⋅b⋅γ⋅φ⋅yₜ₋₁ - α⋅b⋅φ⋅sₜ₋₁ + α⋅b⋅πₜ₋₁ + α⋅b⋅sₜ - γ⋅φ⋅yₜ₋₁ + γ⋅vₜ - φ⋅sₜ₋₁ + πₜ\n",
       "──────────────────────────────────────────────────────────────────────────────\n",
       "                                   α⋅b + α⋅γ⋅h + 1                            \n",
       "\n",
       "₋₁ + sₜ\n",
       "───────\n",
       "       "
      ]
     },
     "execution_count": 33,
     "metadata": {},
     "output_type": "execute_result"
    }
   ],
   "source": [
    "#Using the above result and inserting into the AD funcktion: \n",
    "pi_star = sm.Eq(pi,(1/(h*alpha))*(v-(1+b*alpha)*y_star))\n",
    "pi_star = sm.solve(pi_star, pi)[0]\n",
    "pi_star"
   ]
  },
  {
   "cell_type": "code",
   "execution_count": 34,
   "metadata": {},
   "outputs": [],
   "source": [
    "#Converts sympy function to lambda function which allows for numerical analysis:\n",
    "y_star1 = sm.lambdify((alpha,b,gamma,h,phi,yt,st,pit,s,v),y_star)\n",
    "pi_star1 = sm.lambdify((alpha,b,gamma,h,phi,yt,st,pit,s,v),pi_star)\n"
   ]
  },
  {
   "cell_type": "code",
   "execution_count": 35,
   "metadata": {},
   "outputs": [
    {
     "name": "stdout",
     "output_type": "stream",
     "text": [
      "The equilibrium value of y given the parameters is then:\n"
     ]
    },
    {
     "data": {
      "image/png": "[encoded data removed]",
      "text/latex": [
       "$$- 0.703125 \\pi_{t-1} - 0.703125 s_{t} + 0.244140625 v_{t}$$"
      ],
      "text/plain": [
       "-0.703125⋅πₜ₋₁ - 0.703125⋅sₜ + 0.244140625⋅vₜ"
      ]
     },
     "execution_count": 35,
     "metadata": {},
     "output_type": "execute_result"
    }
   ],
   "source": [
    "#Printing the equilibrium value of y:\n",
    "print('The equilibrium value of y given the parameters is then:')\n",
    "y_star1(par['alpha'],par['b'],par['gamma'],par['h'],par['phi'],yt,st,pit,s,v)"
   ]
  },
  {
   "cell_type": "code",
   "execution_count": 36,
   "metadata": {},
   "outputs": [
    {
     "name": "stdout",
     "output_type": "stream",
     "text": [
      "The equilibrium value of pi given the parameters is then:\n"
     ]
    },
    {
     "data": {
      "image/png": "[encoded data removed]",
      "text/latex": [
       "$$0.947265625 \\pi_{t-1} + 0.947265625 s_{t} + 0.018310546875 v_{t}$$"
      ],
      "text/plain": [
       "0.947265625⋅πₜ₋₁ + 0.947265625⋅sₜ + 0.018310546875⋅vₜ"
      ]
     },
     "execution_count": 36,
     "metadata": {},
     "output_type": "execute_result"
    }
   ],
   "source": [
    "#Printing the equilibrium value of pi:\n",
    "print('The equilibrium value of pi given the parameters is then:')\n",
    "pi_star1(par['alpha'],par['b'],par['gamma'],par['h'],par['phi'],yt,st,pit,s,v)"
   ]
  },
  {
   "cell_type": "markdown",
   "metadata": {},
   "source": [
    "From the above two results one sees that the equilibrium value of $y$ with given the parameters depends negatively on inflation from the periode before, negatively on supply disturbances and positively on demand disturbances. On the contrary one sees that the equilibrium value of $\\pi$ depends positively of the inflation from the period before, positively from supply disturbances, and also positively on demand disturbances. "
   ]
  },
  {
   "cell_type": "markdown",
   "metadata": {},
   "source": [
    "Question 2:"
   ]
  },
  {
   "cell_type": "code",
   "execution_count": 37,
   "metadata": {},
   "outputs": [],
   "source": [
    "#Setting y_t-1 = pi_t-1 = v_t = s_t = s_t-1 = 0: \n",
    "pit = 0\n",
    "v = 0\n",
    "s = 0\n",
    "st = 0\n",
    "yt = 0\n",
    "#And redefining the earlier parameters for simplification purposes:  \n",
    "alpha = par['alpha'] \n",
    "h = par['h'] \n",
    "b = par['b']\n",
    "phi = par['phi']\n",
    "gamma = par['gamma'] "
   ]
  },
  {
   "cell_type": "code",
   "execution_count": 38,
   "metadata": {},
   "outputs": [
    {
     "name": "stdout",
     "output_type": "stream",
     "text": [
      "y  = 0.0000\n",
      "pi = 0.0000\n"
     ]
    }
   ],
   "source": [
    "#First we print the result of y and pi for v=0: \n",
    "y_star2 = y_star1(alpha,b,gamma,h,phi,yt,st,pit,s,v)\n",
    "pi_star2 = pi_star1(alpha,b,gamma,h,phi,yt,st,pit,s,v)\n",
    "print('y  = ' '%6.4f' % y_star2)\n",
    "print('pi =' '%7.4f' % pi_star2)"
   ]
  },
  {
   "cell_type": "code",
   "execution_count": 39,
   "metadata": {},
   "outputs": [
    {
     "name": "stdout",
     "output_type": "stream",
     "text": [
      "y  = 0.0244\n",
      "pi = 0.0018\n"
     ]
    }
   ],
   "source": [
    "#now we set v=0.1: \n",
    "v = 0.1\n",
    "y_star3 = y_star1(alpha,b,gamma,h,phi,yt,st,pit,s,v)\n",
    "pi_star3 = pi_star1(alpha,b,gamma,h,phi,yt,st,pit,s,v)\n",
    "print('y  = ' '%6.4f' % y_star3)\n",
    "print('pi =' '%7.4f' % pi_star3)"
   ]
  },
  {
   "cell_type": "markdown",
   "metadata": {},
   "source": [
    "One sees that after the demand disturbance, the equilibrium value of output and inflation has shifted to a new and higher equilibrium value. "
   ]
  },
  {
   "cell_type": "code",
   "execution_count": 40,
   "metadata": {},
   "outputs": [],
   "source": [
    "#First we set v=0 and define a new variable vt=0.1, so that the supply disturbance can be illustrated: \n",
    "v=0 \n",
    "vt=0.1\n",
    "\n",
    "#Define three function, that are going to be the SRAS curve, AD curve (v=0) and a new AD curve (v=0.1)\n",
    "def SRAS(y):\n",
    "    return pit+(gamma*y)-(phi*gamma*yt)+s-(phi*st)\n",
    "def AD(y):\n",
    "    return ((1/(h*alpha))*v)-(1/(h*alpha)*((1+b*alpha)*y))\n",
    "def AD_NEW(y):\n",
    "    return ((1/(h*alpha))*vt)-((1/(h*alpha))*((1+b*alpha)*y))\n"
   ]
  },
  {
   "cell_type": "code",
   "execution_count": 41,
   "metadata": {},
   "outputs": [
    {
     "data": {
      "image/png": "[encoded data removed]",
      "text/plain": [
       "<Figure size 720x1152 with 1 Axes>"
      ]
     },
     "metadata": {
      "needs_background": "light"
     },
     "output_type": "display_data"
    }
   ],
   "source": [
    "#Creating the plot: \n",
    "\n",
    "x = np.linspace(0,0.1,100)                         #Sets the x-axis from 0 to 0.10 and generates 100 samples\n",
    "\n",
    "plot = plt.figure(figsize=(10,16))                 #Sets the figure size\n",
    "ax = plot.add_subplot(211)                         # 211 describes the position of the plot\n",
    "ax.plot(x,SRAS(x),label='SRAS')                    #Plots x and SRAS(x), and adds the label to the legend: \n",
    "ax.plot(x,AD(x),label='AD')                        #Plots z and AD(z), and adds the label to the legend:\n",
    "ax.plot(x,AD_NEW(x),label='AD New (v=0.1)')        #Plots q and AD_NEW(q), and adds the label to the legend:\n",
    "ax.set_title('AD - SRAS')                          #sets the title \n",
    "ax.set_xlabel('Output (y)')                        #labels x-axis\n",
    "ax.set_ylabel('Inflation $(\\pi)$')                 #labels y-axis\n",
    "\n",
    "plt.grid()                                         #makes a grid\n",
    "plt.legend()                                       #plots the legend\n",
    "plt.tight_layout()                                 #automatically adjusts paramaters so that the figure has the right fit "
   ]
  },
  {
   "cell_type": "markdown",
   "metadata": {},
   "source": [
    "From the figure above one sees that with a demand shock (v=0.1), the AD curve is only affected and that it moves north-east. "
   ]
  },
  {
   "cell_type": "markdown",
   "metadata": {},
   "source": [
    "**Persistent disturbances:** Now, additionaly, assume that both the demand and the supply disturbances are AR(1) processes\n",
    "\n",
    "$$ v_{t} = \\delta v_{t-1} + x_{t} $$\n",
    "$$ s_{t} = \\omega s_{t-1} + c_{t} $$\n",
    "\n",
    "where $x_{t}$ is a **demand shock**, and $c_t$ is a **supply shock**. The **autoregressive parameters** are:"
   ]
  },
  {
   "cell_type": "code",
   "execution_count": 42,
   "metadata": {},
   "outputs": [],
   "source": [
    "par['delta'] = 0.80\n",
    "par['omega'] = 0.15"
   ]
  },
  {
   "cell_type": "markdown",
   "metadata": {},
   "source": [
    "**Question 3:** Starting from $y_{-1} = \\pi_{-1} = s_{-1} = 0$, how does the economy evolve for $x_0 = 0.1$, $x_t = 0, \\forall t > 0$ and $c_t = 0, \\forall t \\geq 0$?"
   ]
  },
  {
   "cell_type": "markdown",
   "metadata": {},
   "source": [
    "Then we set these equal to the equilibrum value of $y_t$ and $\\pi_t$ that we found earlier:"
   ]
  },
  {
   "cell_type": "code",
   "execution_count": 43,
   "metadata": {},
   "outputs": [],
   "source": [
    "#Defining the supply and demand disturbances \n",
    "def v(vt,x):\n",
    "    return par['delta']*vt+x\n",
    "def s(st,c):\n",
    "    return par['omega']*st+c"
   ]
  },
  {
   "cell_type": "code",
   "execution_count": 44,
   "metadata": {},
   "outputs": [],
   "source": [
    "#Setting the number of periods to 100:\n",
    "T = 100\n",
    "\n",
    "#Creating vectors for the different variables: \n",
    "y_vec = [0]\n",
    "pi_vec = [0]\n",
    "v_vec = [0]\n",
    "s_vec = [0]\n",
    "c_vec = np.zeros(T) #A list of 0's\n",
    "x_vec = np.zeros(T)\n",
    "\n",
    "x_vec[1] = 0.1"
   ]
  },
  {
   "cell_type": "code",
   "execution_count": 45,
   "metadata": {},
   "outputs": [],
   "source": [
    "#Setting the range and appending (updating) the vectors of the defined variables from above: \n",
    "for t in range(1,T):\n",
    "    v_vec.append(v(v_vec[t-1], x_vec[t]))\n",
    "    s_vec.append(s(s_vec[t-1], c_vec[t]))\n",
    "    y_vec.append(y_star1(par['alpha'], par['b'],par['gamma'],par['h'],par['phi'],y_vec[t-1],s_vec[t-1],pi_vec[t-1],s_vec[t],v_vec[t]))\n",
    "    pi_vec.append(pi_star1(par['alpha'], par['b'],par['gamma'],par['h'],par['phi'],y_vec[t-1],s_vec[t-1],pi_vec[t-1],s_vec[t],v_vec[t]))\n"
   ]
  },
  {
   "cell_type": "code",
   "execution_count": 46,
   "metadata": {},
   "outputs": [
    {
     "data": {
      "image/png": "[encoded data removed]",
      "text/plain": [
       "<Figure size 720x576 with 1 Axes>"
      ]
     },
     "metadata": {
      "needs_background": "light"
     },
     "output_type": "display_data"
    }
   ],
   "source": [
    "# Creating a figure:\n",
    "\n",
    "periods = np.linspace(0,T,T)                                        #Returns evenly spaced points over the given period - standard is set to 50 samples \n",
    "plot = plt.figure(figsize=(10,8))                                   #plots figure with a specified size\n",
    "ax = plot.add_subplot(211)                                          #211 describes the position of the plot\n",
    "ax.plot(periods,y_vec, label='Output')                              #plots output gap \n",
    "ax.plot(periods,pi_vec, label='Inflation')                          #plots inflation gap \n",
    "ax.set_title('Inflation gap and output gap over T periods')         #sets title\n",
    "ax.set_xlabel('$T$')                                                #sets x-axis\n",
    "ax.set_ylabel('$y / \\pi$')                                          #sets y-axis\n",
    "\n",
    "plt.grid()                                                          #makes a grid\n",
    "plt.legend()                                                        #creates a legend from the labels\n",
    "plt.tight_layout()                                                  #automatically adjusts paramaters so that figure has right fit "
   ]
  },
  {
   "cell_type": "markdown",
   "metadata": {},
   "source": [
    "The above figure shows an immediate increase in output after the initial period. Thereafter it illustrates a falling output gap, until it begins to rise again and converge towards 0. The inflation gap on the other hand also experiences an increase after the initial period, however at a less vicious extent. After around 10 periods, the inflation gap begins to decrease and converges towards 0. "
   ]
  },
  {
   "cell_type": "markdown",
   "metadata": {},
   "source": [
    "**Stochastic shocks:** Now, additionally, assume that $x_t$ and $c_t$ are stochastic and normally distributed\n",
    "\n",
    "$$ x_{t}\\sim\\mathcal{N}(0,\\sigma_{x}^{2}) $$\n",
    "$$ c_{t}\\sim\\mathcal{N}(0,\\sigma_{c}^{2}) $$\n",
    "\n",
    "The **standard deviations of the shocks** are:"
   ]
  },
  {
   "cell_type": "code",
   "execution_count": 47,
   "metadata": {},
   "outputs": [],
   "source": [
    "par['sigma_x'] = 3.492\n",
    "par['sigma_c'] = 0.2"
   ]
  },
  {
   "cell_type": "markdown",
   "metadata": {},
   "source": [
    "**Question 4:** Simulate the AS-AD model for 1,000 periods. Calculate the following five statistics:\n",
    "\n",
    "1. Variance of $y_t$, $var(y_t)$\n",
    "2. Variance of $\\pi_t$, $var(\\pi_t)$\n",
    "3. Correlation between $y_t$ and $\\pi_t$, $corr(y_t,\\pi_t)$\n",
    "4. Auto-correlation between $y_t$ and $y_{t-1}$, $corr(y_t,y_{t-1})$\n",
    "5. Auto-correlation between $\\pi_t$ and $\\pi_{t-1}$, $corr(\\pi_t,\\pi_{t-1})$"
   ]
  },
  {
   "cell_type": "code",
   "execution_count": 48,
   "metadata": {},
   "outputs": [],
   "source": [
    "#Firstly we set the seed: \n",
    "np.random.seed(1997)\n",
    "#Number of periods: \n",
    "T = 1000\n",
    "\n",
    "#We make new vectors and include the standard deviation in the vectors of the x and c: \n",
    "v_2_vec = [0]\n",
    "s_2_vec = [0]\n",
    "y_2_vec = [0]\n",
    "pi_2_vec = [0]\n",
    "x_2_vec = np.random.normal(scale=par['sigma_x'], loc=0, size=T) #np.random.normal implies a normally distributed set of data \n",
    "c_2_vec = np.random.normal(scale=par['sigma_c'], loc=0, size=T)\n",
    "\n"
   ]
  },
  {
   "cell_type": "code",
   "execution_count": 49,
   "metadata": {},
   "outputs": [],
   "source": [
    "#define the range of the simulation and append the vectors defined above: \n",
    "for t in range(1,T):\n",
    "    v_2_vec.append(v(v_2_vec[t-1], x_2_vec[t]))\n",
    "    s_2_vec.append(s(s_2_vec[t-1], c_2_vec[t]))\n",
    "    y_2_vec.append(y_star1(par['alpha'], par['b'],par['gamma'],par['h'],par['phi'],y_2_vec[t-1],s_2_vec[t-1],pi_2_vec[t-1],s_2_vec[t],v_2_vec[t]))\n",
    "    pi_2_vec.append(pi_star1(par['alpha'], par['b'],par['gamma'],par['h'],par['phi'],y_2_vec[t-1],s_2_vec[t-1],pi_2_vec[t-1],s_2_vec[t],v_2_vec[t]))\n",
    "    "
   ]
  },
  {
   "cell_type": "code",
   "execution_count": 50,
   "metadata": {},
   "outputs": [
    {
     "data": {
      "image/png": "[encoded data removed]",
      "text/plain": [
       "<Figure size 1008x864 with 1 Axes>"
      ]
     },
     "metadata": {
      "needs_background": "light"
     },
     "output_type": "display_data"
    }
   ],
   "source": [
    "\n",
    "periods = np.linspace(0,T,T)                                         #Returns evenly spaced points over the given period - standard is set to 50 samples \n",
    "plot = plt.figure(figsize=(14,12))                                   #sets figure size \n",
    "ax = plot.add_subplot(313)                                           #313 describes the position of the plot\n",
    "ax.plot(periods, pi_2_vec, label='Inflation')                        #plots inflation gap\n",
    "ax.plot(periods, y_2_vec, label='Output')                            #plots output gap\n",
    "ax.set_title('Output gap and inflation gap simulated over time (T)') #sets title \n",
    "ax.set_xlabel('$T$')                                                 #sets x-axis\n",
    "ax.set_ylabel('$y$/$\\pi$')                                           #sets y-axis\n",
    "\n",
    "plt.legend()                                                         #creates legend from the labels\n",
    "plt.tight_layout()                                                   #automatically adjusts paramaters so that figure has right fit "
   ]
  },
  {
   "cell_type": "code",
   "execution_count": 51,
   "metadata": {},
   "outputs": [
    {
     "name": "stdout",
     "output_type": "stream",
     "text": [
      "Variance of y is:                              1.762\n",
      "Variance of pi is:                             1.044\n",
      "Correlation coefficient of y and pi is:       -0.203\n",
      "Correlation coefficient of y_t and y_t-1 is:   0.749\n",
      "Correlation coefficient of pi_t and pi_t-1 is: 0.979\n"
     ]
    }
   ],
   "source": [
    "var_y = np.var(y_2_vec)                                                       #takes the variance of the simulated output gap \n",
    "var_pi = np.var(pi_2_vec)                                                     #takes the variance of the simulated inflation gap \n",
    "corr_y_pi = np.corrcoef(y_2_vec,pi_2_vec)[0,1]                                #finds the correlation between output gap and inflation gap \n",
    "corr_y_auto = np.corrcoef(y_2_vec[1:],y_2_vec[:-1])[0,1]                      #finds correlation between output gap in one period and the period before\n",
    "corr_pi_auto = np.corrcoef(pi_2_vec[1:],pi_2_vec[:-1])[0,1]                   #finds correlation between output gap in one period and the period before\n",
    "print('Variance of y is:' '%35.3f' % var_y)\n",
    "print('Variance of pi is:' '%34.3f' % var_pi)\n",
    "print('Correlation coefficient of y and pi is:' '%13.3f' % corr_y_pi)\n",
    "print('Correlation coefficient of y_t and y_t-1 is:' '%8.3f' % corr_y_auto)\n",
    "print('Correlation coefficient of pi_t and pi_t-1 is:' '%6.3f' % corr_pi_auto)"
   ]
  },
  {
   "cell_type": "markdown",
   "metadata": {},
   "source": [
    "**Question 5:** Plot how the correlation between $y_t$ and $\\pi_t$ changes with $\\phi$. Use a numerical optimizer or root finder to choose $\\phi\\in(0,1)$ such that the simulated correlation between $y_t$ and $\\pi_t$ comes close to 0.31. "
   ]
  },
  {
   "cell_type": "code",
   "execution_count": 52,
   "metadata": {},
   "outputs": [],
   "source": [
    "\n",
    "T=1000                                                          #Number og periods for simulation\n",
    "x_3_vec = np.random.normal(scale=par['sigma_x'], loc=0, size=T) #Defines demand shock vector that is normally distributed \n",
    "c_3_vec = np.random.normal(scale=par['sigma_c'], loc=0, size=T) #Defines supply shock vector that is normally distributed \n"
   ]
  },
  {
   "cell_type": "code",
   "execution_count": 53,
   "metadata": {},
   "outputs": [],
   "source": [
    "def simulate_phi(phi):\n",
    "    #Defining new vectors \n",
    "    v_3_vec = [0]                        \n",
    "    s_3_vec = [0]\n",
    "    y_3_vec = [0]\n",
    "    pi_3_vec = [0]\n",
    "    \n",
    "    #Setting range for simulation and appending vectors to the above defined vectors: \n",
    "    for t in range(1,T):\n",
    "        v_3_vec.append(v(v_3_vec[t-1], x_3_vec[t]))\n",
    "        s_3_vec.append(s(s_3_vec[t-1], c_3_vec[t]))\n",
    "        y_3_vec.append(y_star1(par['alpha'], par['b'],par['gamma'],par['h'],phi,y_3_vec[t-1],s_3_vec[t-1],pi_3_vec[t-1],s_3_vec[t],v_3_vec[t]))\n",
    "        pi_3_vec.append(pi_star1(par['alpha'], par['b'],par['gamma'],par['h'],phi,y_3_vec[t-1],s_3_vec[t-1],pi_3_vec[t-1],s_3_vec[t],v_3_vec[t]))\n",
    "    corr_2_y_pi = np.corrcoef(y_3_vec,pi_3_vec)[0,1]\n",
    "    return corr_2_y_pi #Returns the correlation between y and pi "
   ]
  },
  {
   "cell_type": "code",
   "execution_count": 54,
   "metadata": {},
   "outputs": [],
   "source": [
    "\n",
    "corr_2_y_pi = simulate_phi(par['phi'])\n",
    "phi_sim = np.linspace(0,1,T)            #Setting evenly distributed points from 0 to 1 \n",
    "plot_corr = []                          #Creates empty vector\n",
    "corr_val = 0.31                         #Sets the wanted correlation coefficient\n",
    "corr_vec = []                           #Creates empyt vector \n",
    "\n",
    "#Appends the correlation coefficient between y and pi and appends a correlation coefficient value of 0.31 for the given period: \n",
    "for x in phi_sim:\n",
    "    corr_2_y_pi = simulate_phi(x)       \n",
    "    plot_corr.append(corr_2_y_pi)       \n",
    "    corr_vec.append(corr_val)"
   ]
  },
  {
   "cell_type": "code",
   "execution_count": 55,
   "metadata": {},
   "outputs": [
    {
     "data": {
      "image/png": "[encoded data removed]",
      "text/plain": [
       "<Figure size 720x1152 with 1 Axes>"
      ]
     },
     "metadata": {
      "needs_background": "light"
     },
     "output_type": "display_data"
    }
   ],
   "source": [
    "plot = plt.figure(figsize=(10,16))                          #sets figure size \n",
    "ax = plot.add_subplot(313)                                  #313 describes the position of the plot                \n",
    "ax.set_xlabel('$\\phi$')                                     #sets x-axis \n",
    "ax.set_ylabel('Correlation between y and $\\pi$')            #sets y-axis\n",
    "ax.set_title('Phi and correlation between $\\pi$ and $y$')   #sets title \n",
    "ax.plot(phi_sim , plot_corr)                                #plots correlation coefficient of y and pi for given values of phi\n",
    "ax.plot(phi_sim, corr_vec)                                  #plots a horizantal line with a correlation coefficient of 0.31 \n",
    "plt.grid()                                                  #plots a grid\n",
    "plt.tight_layout()                                          #automatically adjusts paramaters so that figure has right fit \n",
    "plt.show() "
   ]
  },
  {
   "cell_type": "markdown",
   "metadata": {},
   "source": [
    "From the above figure one can see that the value of $\\phi$ at the intersection with the line showing a correlation of 0.31 between y and $\\pi$ lies at around 0.95. "
   ]
  },
  {
   "cell_type": "code",
   "execution_count": 56,
   "metadata": {},
   "outputs": [
    {
     "name": "stdout",
     "output_type": "stream",
     "text": [
      "The value of phi that makes the correlation between y and pi be 0.31 is phi = 0.9577\n"
     ]
    }
   ],
   "source": [
    "def optimal_phi(x):                                                        # defines function \n",
    "    return (simulate_phi(x)-0.31)**2                                       # **2 for positive values only                                     \n",
    "\n",
    "result = optimize.minimize(optimal_phi,0.95)                               #Minimizes the optimal_phi function with a guess of phi being equal to 0.95 \n",
    "phi_val = result.x[0]                                                      #Extracts the x-value that was found \n",
    "\n",
    "print(f'The value of phi that makes the correlation between y and pi be 0.31 is phi = {phi_val:.4f}')"
   ]
  },
  {
   "cell_type": "markdown",
   "metadata": {},
   "source": [
    "**Quesiton 6:** Use a numerical optimizer to choose $\\sigma_x>0$, $\\sigma_c>0$ and $\\phi\\in(0,1)$ to make the simulated statistics as close as possible to US business cycle data where:\n",
    "\n",
    "1. $var(y_t) = 1.64$\n",
    "2. $var(\\pi_t) = 0.21$\n",
    "3. $corr(y_t,\\pi_t) = 0.31$\n",
    "4. $corr(y_t,y_{t-1}) = 0.84$\n",
    "5. $corr(\\pi_t,\\pi_{t-1}) = 0.48$"
   ]
  },
  {
   "cell_type": "markdown",
   "metadata": {},
   "source": [
    "# 3. Exchange economy"
   ]
  },
  {
   "cell_type": "markdown",
   "metadata": {},
   "source": [
    "Consider an **exchange economy** with\n",
    "\n",
    "1. 3 goods, $(x_1,x_2,x_3)$\n",
    "2. $N$ consumers indexed by \\\\( j \\in \\{1,2,\\dots,N\\} \\\\)\n",
    "3. Preferences are Cobb-Douglas with log-normally distributed coefficients\n",
    "\n",
    "    $$ \\begin{eqnarray*}\n",
    "    u^{j}(x_{1},x_{2},x_{3}) &=& \n",
    "    \\left(x_{1}^{\\beta_{1}^{j}}x_{2}^{\\beta_{2}^{j}}x_{3}^{\\beta_{3}^{j}}\\right)^{\\gamma}\\\\\n",
    "     &  & \\,\\,\\,\\beta_{i}^{j}=\\frac{\\alpha_{i}^{j}}{\\alpha_{1}^{j}+\\alpha_{2}^{j}+\\alpha_{3}^{j}} \\\\\n",
    "     &  & \\,\\,\\,\\boldsymbol{\\alpha}^{j}=(\\alpha_{1}^{j},\\alpha_{2}^{j},\\alpha_{3}^{j}) \\\\ \n",
    "     &  & \\,\\,\\,\\log(\\boldsymbol{\\alpha}^j) \\sim \\mathcal{N}(\\mu,\\Sigma) \\\\\n",
    "    \\end{eqnarray*} $$\n",
    "\n",
    "4. Endowments are exponentially distributed,\n",
    "\n",
    "$$\n",
    "\\begin{eqnarray*}\n",
    "\\boldsymbol{e}^{j} &=& (e_{1}^{j},e_{2}^{j},e_{3}^{j}) \\\\\n",
    " &  & e_i^j \\sim f, f(z;\\zeta) =  1/\\zeta \\exp(-z/\\zeta)\n",
    "\\end{eqnarray*}\n",
    "$$"
   ]
  },
  {
   "cell_type": "markdown",
   "metadata": {},
   "source": [
    "Let $p_3 = 1$ be the **numeraire**. The implied **demand functions** are:\n",
    "\n",
    "$$\n",
    "\\begin{eqnarray*}\n",
    "x_{i}^{\\star j}(p_{1},p_{2},\\boldsymbol{e}^{j})&=&\\beta^{j}_i\\frac{I^j}{p_{i}} \\\\\n",
    "\\end{eqnarray*}\n",
    "$$\n",
    "\n",
    "where consumer $j$'s income is\n",
    "\n",
    "$$I^j = p_1 e_1^j + p_2 e_2^j +p_3 e_3^j$$"
   ]
  },
  {
   "cell_type": "markdown",
   "metadata": {},
   "source": [
    "The **parameters** and **random preferences and endowments** are given by:"
   ]
  },
  {
   "cell_type": "code",
   "execution_count": 57,
   "metadata": {},
   "outputs": [],
   "source": [
    "# a. parameters\n",
    "N = 50000\n",
    "mu = np.array([3,2,1])\n",
    "Sigma = np.array([[0.25, 0, 0], [0, 0.25, 0], [0, 0, 0.25]])\n",
    "gamma = 0.8\n",
    "zeta = 1\n",
    "\n",
    "# b. random draws\n",
    "seed = 1986\n",
    "np.random.seed(seed)\n",
    "\n",
    "# preferences\n",
    "alphas = np.exp(np.random.multivariate_normal(mu, Sigma, size=N))\n",
    "betas = alphas/np.reshape(np.sum(alphas,axis=1),(N,1))\n",
    "\n",
    "# endowments\n",
    "e1 = np.random.exponential(zeta,size=N)\n",
    "e2 = np.random.exponential(zeta,size=N)\n",
    "e3 = np.random.exponential(zeta,size=N)"
   ]
  },
  {
   "cell_type": "markdown",
   "metadata": {},
   "source": [
    "**Question 1:** Plot the histograms of the budget shares for each good across agents.\n"
   ]
  },
  {
   "cell_type": "code",
   "execution_count": 58,
   "metadata": {},
   "outputs": [
    {
     "data": {
      "text/plain": [
       "<matplotlib.legend.Legend at 0x12bbf49e8>"
      ]
     },
     "execution_count": 58,
     "metadata": {},
     "output_type": "execute_result"
    },
    {
     "data": {
      "image/png": "[encoded data removed]",
      "text/plain": [
       "<Figure size 432x288 with 1 Axes>"
      ]
     },
     "metadata": {
      "needs_background": "light"
     },
     "output_type": "display_data"
    }
   ],
   "source": [
    "# The following code will creat a histogram of the budget shares for each good across agents prefenrences.\n",
    "plt.hist(betas, bins = 50, histtype = 'stepfilled', alpha=0.3, color= ('yellow','darkblue','darkred'), label=['good one (x1)','good two (x2)','good three (x3)']) # creating a histogram as a array of betas.\n",
    "\n",
    "# Adding y label.\n",
    "plt.ylabel('Number of consumers', fontsize = 12) \n",
    "\n",
    "# Adding x label.\n",
    "plt.xlabel('Budget shares', fontsize = 12) \n",
    "\n",
    "# Adding title.\n",
    "plt.title('Budget shares for each good across agents', fontsize = 15) \n",
    "\n",
    "# Adding legend.\n",
    "plt.legend() \n",
    "\n"
   ]
  },
  {
   "cell_type": "markdown",
   "metadata": {},
   "source": [
    "As a result of the visual presentation it is possible to conclude that good one is the most precious good, since it has the biggest budget share. Followed by good two, which means that good three is the least valuble good with respect to budget share. "
   ]
  },
  {
   "cell_type": "markdown",
   "metadata": {},
   "source": [
    "Consider the **excess demand functions:**\n",
    "\n",
    "$$ z_i(p_1,p_2) = \\sum_{j=1}^N x_{i}^{\\star j}(p_{1},p_{2},\\boldsymbol{e}^{j}) - e_i^j$$\n",
    "\n",
    "**Question 2:** Plot the excess demand functions."
   ]
  },
  {
   "cell_type": "code",
   "execution_count": 59,
   "metadata": {},
   "outputs": [],
   "source": [
    "# Seperating each beta element in relation to each good\n",
    "\n",
    "# Good 1 \n",
    "beta_goodone = betas[:,0] \n",
    "\n",
    "# Good 2\n",
    "beta_goodtwo = betas[:,1] \n",
    "\n",
    "# Good 3 \n",
    "beta_goodthree = betas[:,2]"
   ]
  },
  {
   "cell_type": "code",
   "execution_count": 60,
   "metadata": {},
   "outputs": [],
   "source": [
    "# Defining demand functions for each good \n",
    "\n",
    "def demand_goodone(betas, e1, e2, e3, p1, p2, p3) : \n",
    "    \n",
    "    # Defining income \n",
    "    I = e1*p1 + e2*p2 + p3*e3\n",
    "    \n",
    "    # b. Demand\n",
    "    return beta_goodone*I/p1\n",
    "\n",
    "\n",
    "def demand_goodtwo(betas, e1, e2, e3, p1, p2, p3) :\n",
    "    \n",
    "    \n",
    "    # Defining income\n",
    "    I = e1*p1 + e2*p2 + p3*e3\n",
    "    \n",
    "    # b. Demand\n",
    "    return beta_goodtwo*I/p2\n",
    "\n",
    "\n",
    "def demand_goodthree(betas, e1, e2, e3, p1, p2, p3) :\n",
    "    \n",
    "    \n",
    "    # Defining income\n",
    "    I = e1*p1 + e2*p2 + p3*e3\n",
    "    \n",
    "    # b. Demand\n",
    "    return beta_goodthree*I/p3"
   ]
  },
  {
   "cell_type": "code",
   "execution_count": 61,
   "metadata": {},
   "outputs": [],
   "source": [
    "# Defining excess demand functions for each good\n",
    "\n",
    "def excess_demandone(betas, e1, e2, e3, p1, p2, p3) :\n",
    "    \n",
    "    # a. Supply\n",
    "    supply_one = np.sum(e1) \n",
    "    \n",
    "    # b. Demand\n",
    "    demand_one = np.sum(demand_goodone(betas, e1, e2, e3, p1, p2, p3))\n",
    "    \n",
    "    # c. Excess demand\n",
    "    excess_demand_good_one = demand_one-supply_one \n",
    "    \n",
    "    return excess_demand_good_one\n",
    "\n",
    "\n",
    "def excess_demandtwo(betas, e1, e2, e3, p1, p2, p3) :\n",
    "    \n",
    "    # a. Supply\n",
    "    supply_two = np.sum(e2)\n",
    "    \n",
    "    # b. Demand\n",
    "    demand_two = np.sum(demand_goodtwo(betas, e1, e2, e3, p1, p2, p3))\n",
    "    \n",
    "    # c. Excess demand\n",
    "    excess_demand_good_two = demand_two-supply_two \n",
    "    \n",
    "    \n",
    "    return excess_demand_good_two\n",
    "\n",
    "\n",
    "def excess_demandthree(betas, e1, e2, e3, p1, p2, p3) :\n",
    "    \n",
    "    # a. Supply\n",
    "    supply_three = np.sum(e3)\n",
    "    \n",
    "    # b. Demand\n",
    "    demand_three = np.sum(demand_goodthree(betas, e1, e2, e3, p1, p2, p3))\n",
    "    \n",
    "    # c. Excess demand\n",
    "    excess_demand_good_three = demand_three-supply_three \n",
    "    \n",
    "    \n",
    "    return excess_demand_good_three\n"
   ]
  },
  {
   "cell_type": "markdown",
   "metadata": {},
   "source": [
    "The following code will create three new functions with the purpose of plotting the excess demand for each good. \n",
    "The excess demand for good one will have good 2 and 3 set as numeraire - focus on the relative prices. The same course of action is used for good two and three.\n"
   ]
  },
  {
   "cell_type": "code",
   "execution_count": 62,
   "metadata": {},
   "outputs": [],
   "source": [
    "\n",
    "# Creating three price vector with 25 prices betweem 0 and 2. \n",
    "price_goodone = price_goodtwo = price_goodthree = np.linspace(start = 0.1, stop = 2, num = 25)\n",
    "\n",
    "# Creating empty fucntion to cotain excess demands\n",
    "# Good 1 \n",
    "excess_demand_goodone = [] \n",
    "\n",
    "# Good 2 \n",
    "excess_demand_goodtwo = [] \n",
    "\n",
    "# Good 3 \n",
    "excess_demand_goodthree = [] \n",
    "\n",
    "# Setting all prices as numeraire\n",
    "p1 = 1\n",
    "p2 = 1\n",
    "p3 = 1 \n",
    "\n",
    "# Adding values to the functions above. \n",
    "for price in price_goodone: \n",
    "    excess_demand_goodone.append(excess_demandone(betas, e1 ,e2 ,e3, price , p2, p3))\n",
    "for price in price_goodtwo:\n",
    "    excess_demand_goodtwo.append(excess_demandtwo(betas, e1, e2, e3, p1, price, p3))\n",
    "for price in price_goodthree:\n",
    "    excess_demand_goodthree.append(excess_demandthree(betas, e1, e2, e3, p1, p2, price))"
   ]
  },
  {
   "cell_type": "code",
   "execution_count": 63,
   "metadata": {},
   "outputs": [
    {
     "data": {
      "text/plain": [
       "<matplotlib.legend.Legend at 0x12c55af28>"
      ]
     },
     "execution_count": 63,
     "metadata": {},
     "output_type": "execute_result"
    },
    {
     "data": {
      "image/png": "[encoded data removed]",
      "text/plain": [
       "<Figure size 432x288 with 1 Axes>"
      ]
     },
     "metadata": {
      "needs_background": "light"
     },
     "output_type": "display_data"
    }
   ],
   "source": [
    "# Plotting the functions above\n",
    "\n",
    "# Adding functions to the plot\n",
    "plt.plot(price_goodone, excess_demand_goodone, color = 'yellow', label = 'Good one (x1)')\n",
    "plt.plot(price_goodtwo, excess_demand_goodtwo, color = 'darkblue', label = 'Good two (x2)')\n",
    "plt.plot(price_goodthree, excess_demand_goodthree, color = 'darkred', label = 'Good three (x3)')\n",
    "\n",
    "# Adding Y label\n",
    "plt.ylabel('Excess demand', fontsize = 12) \n",
    "\n",
    "# Adding X label\n",
    "plt.xlabel('Price of the respective good - remaining prices as numeraire', fontsize = 12) \n",
    "\n",
    "# Adding title\n",
    "plt.title('Excess demand functions', fontsize = 20) \n",
    "\n",
    "# Setting Legend to default\n",
    "plt.legend()"
   ]
  },
  {
   "cell_type": "markdown",
   "metadata": {},
   "source": [
    "Following the result in Question 1, it seems plausible that the demand for good one would be affected the most when prices change.\n",
    "When the prices converge towards 0 the excess demand functions start to rise more exponentially. This is a results of the supply being independent of the prices. "
   ]
  },
  {
   "cell_type": "markdown",
   "metadata": {},
   "source": [
    "**Quesiton 3:** Find the Walras-equilibrium prices, $(p_1,p_2)$, where both excess demands are (approximately) zero, e.g. by using the following tâtonnement process:\n",
    "\n",
    "1. Guess on $p_1 > 0$, $p_2 > 0$ and choose tolerance $\\epsilon > 0$ and adjustment aggressivity parameter, $\\kappa > 0$.\n",
    "2. Calculate $z_1(p_1,p_2)$ and $z_2(p_1,p_2)$.\n",
    "3. If $|z_1| < \\epsilon$ and $|z_2| < \\epsilon$ then stop.\n",
    "4. Else set $p_1 = p_1 + \\kappa \\frac{z_1}{N}$ and $p_2 = p_2 + \\kappa \\frac{z_2}{N}$ and return to step 2."
   ]
  },
  {
   "cell_type": "markdown",
   "metadata": {},
   "source": [
    "The following code will simulate the excess demand functions in relation to the respective price by using the given tâtonnement process. The main purpose is to find the prices that ensures market clearing - Walras-equilibrium "
   ]
  },
  {
   "cell_type": "code",
   "execution_count": 64,
   "metadata": {},
   "outputs": [],
   "source": [
    "# Defining function -- Step 1 \n",
    "def find_equilibrium(betas, p1, p2, e1, e2, e3, kappa, eps, maxiter=50000) : \n",
    "    \n",
    "    \"\"\" \n",
    "    Walras-equilibrium\n",
    "    \n",
    "    Kwargs:\n",
    "    \n",
    "        Betas, preferences. \n",
    "        p, prices for each good.\n",
    "        e, endownments for each good across agents.\n",
    "        k/kappa, the aggressivity parameter.\n",
    "        eps, ensures that the excess demand is close to 0. \n",
    "        maxiter, the maximum amount of iterations. \n",
    "        \n",
    "        \"\"\"  \n",
    "    \n",
    "    \n",
    "    # Setting start simulation value\n",
    "    t = 0 \n",
    "   \n",
    "    # Defining Z values\n",
    "    while t < 50000 : \n",
    "        Z1 = excess_demandone(betas, e1, e2, e3, p1, p2, 1)\n",
    "        Z2 = excess_demandtwo(betas, e1, e2, e3, p1, p2, 1)\n",
    "        \n",
    "        # a. Setting the course of action when the given requirements is accomplished -- Step 3 and (2)\n",
    "        if (np.abs(Z1) < eps and np.abs(Z2) < eps) or t >= maxiter : \n",
    "            print(f'{t:3d}: p1 = {p1:12.8f} -> Excess demnad -> {Z1:14.8f}')\n",
    "            print(f'{t:3d}: p2 = {p2:12.8f} -> Excess demnad -> {Z2:14.8f}')\n",
    "            p1_wal_eq = p1\n",
    "            p2_wal_eq = p2\n",
    "            print(f'\\nThe walras equilibrium prices: p1 = {p1:.5f} and p2 = {p2:.5f}')\n",
    "            break\n",
    "        \n",
    "        # prices for next iteration when requirements are not accomplished.  \n",
    "        else:\n",
    "            p1 = p1 + kappa*Z1/betas.size\n",
    "            p2 = p2 + kappa*Z2/betas.size\n",
    "        \n",
    "        # b. setting the course of action for iteration -- Step 4 and (2)\n",
    "        if t < 5 or t%2000 == 0: \n",
    "            print(f'{t:3d}: p1 = {p1:10.4f} -> Excess demand -> {Z1:10.8f}')\n",
    "            print(f'{t:3d}: p2 = {p2:10.4f} -> Excess demand -> {Z2:10.8f}')\n",
    "        \n",
    "        elif t == 5 :\n",
    "            print('   ...')\n",
    "            \n",
    "        t += 1 \n",
    "    return p1,p2"
   ]
  },
  {
   "cell_type": "code",
   "execution_count": 65,
   "metadata": {},
   "outputs": [
    {
     "name": "stdout",
     "output_type": "stream",
     "text": [
      "  0: p1 =     6.4001 -> Excess demand -> 167.69618509\n",
      "  0: p2 =     2.5999 -> Excess demand -> -208.87731268\n",
      "  1: p1 =     6.4002 -> Excess demand -> 166.68692269\n",
      "  1: p2 =     2.5997 -> Excess demand -> -206.35986966\n",
      "  2: p1 =     6.4003 -> Excess demand -> 165.68796134\n",
      "  2: p2 =     2.5996 -> Excess demand -> -203.86916393\n",
      "  3: p1 =     6.4004 -> Excess demand -> 164.69919196\n",
      "  3: p2 =     2.5995 -> Excess demand -> -201.40491908\n",
      "  4: p1 =     6.4006 -> Excess demand -> 163.72050659\n",
      "  4: p2 =     2.5993 -> Excess demand -> -198.96686143\n",
      "   ...\n",
      "2000: p1 =     6.4653 -> Excess demand -> 22.70679083\n",
      "2000: p2 =     2.6075 -> Excess demand -> 8.47125674\n",
      "4000: p1 =     6.4827 -> Excess demand -> 6.68423796\n",
      "4000: p2 =     2.6140 -> Excess demand -> 2.49363341\n",
      "6000: p1 =     6.4879 -> Excess demand -> 1.97507317\n",
      "6000: p2 =     2.6159 -> Excess demand -> 0.73681855\n",
      "8000: p1 =     6.4894 -> Excess demand -> 0.58424592\n",
      "8000: p2 =     2.6165 -> Excess demand -> 0.21795763\n",
      "10000: p1 =     6.4899 -> Excess demand -> 0.17288224\n",
      "10000: p2 =     2.6166 -> Excess demand -> 0.06449506\n",
      "12000: p1 =     6.4900 -> Excess demand -> 0.05116195\n",
      "12000: p2 =     2.6167 -> Excess demand -> 0.01908636\n",
      "14000: p1 =     6.4900 -> Excess demand -> 0.01514106\n",
      "14000: p2 =     2.6167 -> Excess demand -> 0.00564849\n",
      "16000: p1 =     6.4901 -> Excess demand -> 0.00448094\n",
      "16000: p2 =     2.6167 -> Excess demand -> 0.00167165\n",
      "18000: p1 =     6.4901 -> Excess demand -> 0.00132612\n",
      "18000: p2 =     2.6167 -> Excess demand -> 0.00049472\n",
      "20000: p1 =     6.4901 -> Excess demand -> 0.00039246\n",
      "20000: p2 =     2.6167 -> Excess demand -> 0.00014641\n",
      "22000: p1 =     6.4901 -> Excess demand -> 0.00011615\n",
      "22000: p2 =     2.6167 -> Excess demand -> 0.00004333\n",
      "24000: p1 =     6.4901 -> Excess demand -> 0.00003437\n",
      "24000: p2 =     2.6167 -> Excess demand -> 0.00001282\n",
      "26000: p1 =     6.4901 -> Excess demand -> 0.00001017\n",
      "26000: p2 =     2.6167 -> Excess demand -> 0.00000380\n",
      "28000: p1 =     6.4901 -> Excess demand -> 0.00000301\n",
      "28000: p2 =     2.6167 -> Excess demand -> 0.00000112\n",
      "30000: p1 =     6.4901 -> Excess demand -> 0.00000089\n",
      "30000: p2 =     2.6167 -> Excess demand -> 0.00000033\n",
      "32000: p1 =     6.4901 -> Excess demand -> 0.00000026\n",
      "32000: p2 =     2.6167 -> Excess demand -> 0.00000010\n",
      "34000: p1 =     6.4901 -> Excess demand -> 0.00000008\n",
      "34000: p2 =     2.6167 -> Excess demand -> 0.00000003\n",
      "36000: p1 =     6.4901 -> Excess demand -> 0.00000002\n",
      "36000: p2 =     2.6167 -> Excess demand -> 0.00000001\n",
      "37375: p1 =   6.49005515 -> Excess demnad ->     0.00000001\n",
      "37375: p2 =   2.61669400 -> Excess demnad ->     0.00000000\n",
      "\n",
      "The walras equilibrium prices: p1 = 6.49006 and p2 = 2.61669\n"
     ]
    }
   ],
   "source": [
    "# Setting start values for prices\n",
    "p1 = 6.4 \n",
    "p2 = 2.6 \n",
    "\n",
    "# setting aggressivity parameter\n",
    "kappa = 0.1\n",
    "\n",
    "# setting requirement for ~ 0 \n",
    "eps = 0.1**8\n",
    "\n",
    "# Initiating simulation \n",
    "p1_wal_eq, p2_wal_eq = find_equilibrium(betas, p1, p2, e1, e2, e3, kappa=kappa, eps=eps)"
   ]
  },
  {
   "cell_type": "markdown",
   "metadata": {},
   "source": [
    "The walras-equilibrium is insured when the price of good one is 6.49006 and the price of good two is 2.61169.\n",
    "to ensure that the excess demand for both goods are some what close to zero, numpys absolute function is used to calculate the absolute values for each element. "
   ]
  },
  {
   "cell_type": "code",
   "execution_count": 66,
   "metadata": {},
   "outputs": [
    {
     "name": "stdout",
     "output_type": "stream",
     "text": [
      "9.989889804273844e-09 3.790773916989565e-09\n"
     ]
    }
   ],
   "source": [
    "Z1 = excess_demandone(betas, e1, e2, e3, p1_wal_eq, p2_wal_eq, 1)\n",
    "Z2 = excess_demandtwo(betas, e1, e2, e3, p1_wal_eq, p2_wal_eq, 1)\n",
    "\n",
    "print(Z1,Z2)\n",
    "assert(np.abs(Z1) < eps)\n",
    "assert(np.abs(Z2) < eps)\n",
    "# kommenter -  skriv noget her"
   ]
  },
  {
   "cell_type": "markdown",
   "metadata": {},
   "source": [
    "**Question 4:** Plot the distribution of utility in the Walras-equilibrium and calculate its mean and variance."
   ]
  },
  {
   "cell_type": "markdown",
   "metadata": {},
   "source": [
    "The following coding defines the given utility function with Walras-equilibrium prices."
   ]
  },
  {
   "cell_type": "code",
   "execution_count": 67,
   "metadata": {},
   "outputs": [],
   "source": [
    "def utility(p1, p2, e1, e2, e3, betas, gamma) : \n",
    "    \n",
    "    # Defining income\n",
    "    I = p1*e1 + p2*e2 + e3\n",
    "    \n",
    "    # Defining X values\n",
    "    # Good one\n",
    "    x1 = beta_goodone*I/p1\n",
    "    \n",
    "    # Good two\n",
    "    x2 = beta_goodtwo*I/p2\n",
    "    \n",
    "    # Good three\n",
    "    x3 = beta_goodthree*I\n",
    "    \n",
    "    # Defining utility function. \n",
    "    Utility_Func = ((x1**beta_goodone)*(x2**beta_goodtwo)*(x3**beta_goodthree))**gamma\n",
    "    \n",
    "    \n",
    "    return Utility_Func"
   ]
  },
  {
   "cell_type": "code",
   "execution_count": 68,
   "metadata": {},
   "outputs": [],
   "source": [
    "#Defining utility in walras-eqilibrium \n",
    "utility_wal_eq = utility(p1_wal_eq, p2_wal_eq, e1, e2, e3, betas, gamma) "
   ]
  },
  {
   "cell_type": "code",
   "execution_count": 69,
   "metadata": {},
   "outputs": [
    {
     "data": {
      "text/plain": [
       "<matplotlib.legend.Legend at 0x12b80ddd8>"
      ]
     },
     "execution_count": 69,
     "metadata": {},
     "output_type": "execute_result"
    },
    {
     "data": {
      "image/png": "[encoded data removed]",
      "text/plain": [
       "<Figure size 432x288 with 1 Axes>"
      ]
     },
     "metadata": {
      "needs_background": "light"
     },
     "output_type": "display_data"
    }
   ],
   "source": [
    "# Calculation mean for utility in walras-eqilibrium \n",
    "mean = np.mean(utility_wal_eq)\n",
    "\n",
    "# Calculation variance for utility in walras-eqilibrium \n",
    "var = np.var(utility_wal_eq)\n",
    "\n",
    "# Plotting results\n",
    " # creating a histogram as a array of betas.\n",
    "plt.hist(utility_wal_eq, bins = 200, label = f'mean = {round(mean,3)} and variance = {round(var,3)}')\n",
    "\n",
    "# Adding Y label.\n",
    "plt.ylabel('Number of consumers', fontsize = 12)\n",
    "\n",
    "# adding X label.\n",
    "plt.xlabel('Utility', fontsize = 12) \n",
    "\n",
    "# Adding title.\n",
    "plt.title('Distribution of utilities', fontsize = 15)\n",
    "\n",
    "# Adding legend\n",
    "plt.legend() "
   ]
  },
  {
   "cell_type": "code",
   "execution_count": 70,
   "metadata": {},
   "outputs": [
    {
     "name": "stdout",
     "output_type": "stream",
     "text": [
      "excact values of mean and variance\n",
      " mean = 1.010164459864371\n",
      " variance = 0.3173402050017872\n"
     ]
    }
   ],
   "source": [
    "print(f'excact values of mean and variance')\n",
    "print(f' mean = {mean}')\n",
    "print(f' variance = {var}')"
   ]
  },
  {
   "cell_type": "markdown",
   "metadata": {},
   "source": [
    "**Question 5:** Find the Walras-equilibrium prices if instead all endowments were distributed equally. Discuss the implied changes in the distribution of utility. Does the value of $\\gamma$ play a role for your conclusions?"
   ]
  },
  {
   "cell_type": "code",
   "execution_count": 71,
   "metadata": {},
   "outputs": [
    {
     "name": "stdout",
     "output_type": "stream",
     "text": [
      "  0: p1 =     6.3978 -> Excess demand -> -3337.84799053\n",
      "  0: p2 =     2.5077 -> Excess demand -> 11587.05184518\n",
      "  1: p1 =     6.3959 -> Excess demand -> -2866.52175760\n",
      "  1: p2 =     2.5145 -> Excess demand -> 10231.32616167\n",
      "  2: p1 =     6.3942 -> Excess demand -> -2451.63016219\n",
      "  2: p2 =     2.5206 -> Excess demand -> 9044.05209136\n",
      "  3: p1 =     6.3928 -> Excess demand -> -2086.26965999\n",
      "  3: p2 =     2.5259 -> Excess demand -> 8002.85120452\n",
      "  4: p1 =     6.3917 -> Excess demand -> -1764.42783955\n",
      "  4: p2 =     2.5306 -> Excess demand -> 7088.63681123\n",
      "   ...\n",
      "2000: p1 =     6.4528 -> Excess demand -> 0.00176793\n",
      "2000: p2 =     2.5927 -> Excess demand -> 0.00065734\n",
      "3870: p1 =   6.45278824 -> Excess demnad ->     0.00000001\n",
      "3870: p2 =   2.59273606 -> Excess demnad ->     0.00000000\n",
      "\n",
      "The walras equilibrium prices: p1 = 6.45279 and p2 = 2.59274\n"
     ]
    }
   ],
   "source": [
    "# Creating new equally distrubted endownments.\n",
    "new_e1 = new_e2 = new_e3 = np.linspace(1,20, num=50000)\n",
    "\n",
    "# Setting start values for simulation\n",
    "p1 = 6.4\n",
    "p2 = 2.5\n",
    "\n",
    "# Initiating simulation\n",
    "new_p1_wal_eq, new_p2_wal_eq = find_equilibrium(betas, p1, p2, new_e1, new_e2, new_e3, kappa=kappa, eps=eps)"
   ]
  },
  {
   "cell_type": "markdown",
   "metadata": {},
   "source": [
    "The new walras-eqilibirum prices with equally distributed endowsments is 6.45279 for good one and 2.59274 for good two"
   ]
  },
  {
   "cell_type": "code",
   "execution_count": 72,
   "metadata": {},
   "outputs": [
    {
     "data": {
      "application/vnd.jupyter.widget-view+json": {
       "model_id": "beaf66ffe70a4840ac383b77e1b403c3",
       "version_major": 2,
       "version_minor": 0
      },
      "text/plain": [
       "interactive(children=(FloatSlider(value=0.8, description='Gamma value', max=2.0, min=0.1, step=0.05), Output()…"
      ]
     },
     "metadata": {},
     "output_type": "display_data"
    }
   ],
   "source": [
    "def utility_gamma(gamma) : \n",
    "    \n",
    "    # Defining the two utility functions \n",
    "    utility_weq = utility(p1_wal_eq, p2_wal_eq, e1, e2, e3, betas, gamma)\n",
    "    new_utility_weq = utility(new_p1_wal_eq, new_p2_wal_eq, new_e1, new_e2, new_e3, betas, gamma)\n",
    "    \n",
    "    # Calculation means and variances. \n",
    "    mean = np.mean(utility_weq)\n",
    "    var = np.var(utility_weq)\n",
    "    new_mean = np.mean(new_utility_weq)\n",
    "    new_var = np.var(new_utility_weq)\n",
    "    \n",
    "    \n",
    "    fig, (ax1, ax2) = plt.subplots(nrows=1,ncols=2,sharey=True, figsize=(15,5))\n",
    "\n",
    "    # Plotting utility destributions for new values\n",
    "    ax1.hist(new_utility_weq, bins=200, label = f'mean = {round(new_mean,3)} and variance = {round(new_var,3)}')\n",
    "    \n",
    "    # Adding title\n",
    "    ax1.set_title('Distribution of utilites with equally distrubuted endowments', fontsize = 12)\n",
    "    \n",
    "    # Adding X label\n",
    "    ax1.set_xlabel('Utility', fontsize = 12)\n",
    "    \n",
    "    # Adding Y label\n",
    "    ax1.set_ylabel('Consumers', fontsize = 12)\n",
    "    \n",
    "    # Setting legend\n",
    "    ax1.legend()\n",
    "\n",
    "    # Plotting utility destributions for given values\n",
    "    ax2.hist(utility_weq, bins= 200, label = f'mean = {round(mean,3)} and variance = {round(var,3)}')\n",
    "    \n",
    "    # Adding title\n",
    "    ax2.set_title('Distribution of utilities with exponential distributed endowments', fontsize = 12)\n",
    "    \n",
    "    # Adding X label\n",
    "    ax2.set_xlabel('Utility', fontsize = 12)\n",
    "    \n",
    "    # Setting legend\n",
    "    ax2.legend()\n",
    "    \n",
    "    \n",
    "    # Making plots interative\n",
    "widgets.interact(utility_gamma,\n",
    "    gamma = widgets.FloatSlider(description = \"Gamma value\", min= 0.1, max = 2, step=0.05, value = 0.8));"
   ]
  },
  {
   "cell_type": "markdown",
   "metadata": {},
   "source": [
    "By having equally distributed endownments the utility is spread more evenly between the consumers. A lower gamma value will result in a much lower level of utility in both cases - lower mean. But a more 'fair' distribution of utility. \n",
    "A high Gamma will increase the overall level of utility but at the same time result in a more uneven distribution of utility - higher variance. "
   ]
  }
 ],
 "metadata": {
  "kernelspec": {
   "display_name": "Python 3",
   "language": "python",
   "name": "python3"
  },
  "language_info": {
   "codemirror_mode": {
    "name": "ipython",
    "version": 3
   },
   "file_extension": ".py",
   "mimetype": "text/x-python",
   "name": "python",
   "nbconvert_exporter": "python",
   "pygments_lexer": "ipython3",
   "version": "3.7.1"
  }
 },
 "nbformat": 4,
 "nbformat_minor": 2
}
