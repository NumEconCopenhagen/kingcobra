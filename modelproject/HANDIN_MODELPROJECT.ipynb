{
 "cells": [
  {
   "cell_type": "markdown",
   "metadata": {},
   "source": [
    "Neccesary packages to run the project:"
   ]
  },
  {
   "cell_type": "code",
   "execution_count": 1,
   "metadata": {},
   "outputs": [],
   "source": [
    "import matplotlib.pyplot as plt    # A Python 2D plotting library to produce figures \n",
    "import numpy as np                 # Package for scientific computing with Python\n",
    "from scipy import linalg           # Used to do linear algebra functions\n",
    "from scipy import optimize         # For maximizing and minimizing functions\n",
    "import sympy as sm                 # Used to do symbolic mathematics\n",
    "import ipywidgets as widgets       # Package for making interactive figures\n",
    "from sympy import *\n",
    "sm.init_printing(use_unicode=True) # This will make all expressions pretty print with unicode characters."
   ]
  },
  {
   "cell_type": "markdown",
   "metadata": {},
   "source": [
    "# Analysis of the Solow "
   ]
  },
  {
   "cell_type": "markdown",
   "metadata": {},
   "source": [
    "This project will try to analyse a wide range of Solow models. More specificly the project will try to analyse the models of chapter 3, 5, 6 and 7 from the book \"Introducing Advanced Macroeconomics - Growth and business cycles\"."
   ]
  },
  {
   "cell_type": "markdown",
   "metadata": {},
   "source": [
    "## The basic Solow model (Chapter 3)"
   ]
  },
  {
   "cell_type": "markdown",
   "metadata": {},
   "source": [
    "### Introducing the model"
   ]
  },
  {
   "cell_type": "markdown",
   "metadata": {},
   "source": [
    "The basic Solow model consists of 4 essential equations which is stated below. \n",
    "1. $Y_t = F(K_t^d, L_t^d) = B K_t^\\alpha L_t^{1-\\alpha}$ \n",
    "2. $S_t = sY_t$ \n",
    "3. $L_{t+1} = (1+n)L_t$\n",
    "4. $K_{t+1} - K_t = S_t - \\delta K_t$\n",
    "\n",
    "The model consists of the following variables and parameters:\n",
    "1. $Y_t$ is GDP which is given as a Cobb-Douglas function.\n",
    "2. $S_t$ is the amount of saving in the economy and is given as a constant fraction, $0<s<1$, of GDP. \n",
    "3. $L_t$ is the amount of labour.\n",
    "4. $K_t$ is the amount of capital.\n",
    "5. $B$ is total factor productivity (TFP), $B>0$.\n",
    "6. $\\alpha$ is the share of income/output spent on capital, $0<\\alpha<1$"
   ]
  },
  {
   "cell_type": "markdown",
   "metadata": {},
   "source": [
    "### Analysing the model"
   ]
  },
  {
   "cell_type": "markdown",
   "metadata": {},
   "source": [
    "In the first part of the analysis of the basic Solow model we find the steady state values for $k_t$ and $y_t$ respectively. In order to do that we use the sympy package which is a great tool for doing symbolic mathematics. We start by defing the symbols of model:"
   ]
  },
  {
   "cell_type": "code",
   "execution_count": 2,
   "metadata": {},
   "outputs": [],
   "source": [
    "Y = sm.symbols('Y_t')\n",
    "K = sm.symbols('K_t')\n",
    "L = sm.symbols('L_t')\n",
    "y = sm.symbols('y_t')\n",
    "k = sm.symbols('k_t')\n",
    "B = sm.symbols('B')\n",
    "s = sm.symbols('s')\n",
    "n = sm.symbols('n')\n",
    "alpha = sm.symbols('alpha')\n",
    "delta = sm.symbols('delta')"
   ]
  },
  {
   "cell_type": "markdown",
   "metadata": {},
   "source": [
    "### Finding steady state analytical"
   ]
  },
  {
   "cell_type": "markdown",
   "metadata": {},
   "source": [
    "To find the steady state value of capital per worker we'll use the transition equation:"
   ]
  },
  {
   "cell_type": "markdown",
   "metadata": {},
   "source": [
    "$k_{t+1} = \\frac{1}{1+n} sBk_t^\\alpha+(1-\\delta)k_t$"
   ]
  },
  {
   "cell_type": "code",
   "execution_count": 3,
   "metadata": {},
   "outputs": [
    {
     "name": "stdout",
     "output_type": "stream",
     "text": [
      "The steady state value of capital per worker is given as\n"
     ]
    },
    {
     "data": {
      "image/png": "[encoded data removed]",
      "text/latex": [
       "$$\\left [ \\left(\\frac{B s}{\\delta + n}\\right)^{- \\frac{1}{\\alpha - 1}}\\right ]$$"
      ],
      "text/plain": [
       "⎡        -1  ⎤\n",
       "⎢       ─────⎥\n",
       "⎢       α - 1⎥\n",
       "⎢⎛ B⋅s ⎞     ⎥\n",
       "⎢⎜─────⎟     ⎥\n",
       "⎣⎝δ + n⎠     ⎦"
      ]
     },
     "execution_count": 3,
     "metadata": {},
     "output_type": "execute_result"
    }
   ],
   "source": [
    "Transtion_equation = sm.Eq(k,(s*B*k**alpha+(1-delta)*k)/(1+n))\n",
    "kss = sm.solve(Transtion_equation ,k)\n",
    "print('The steady state value of capital per worker is given as')\n",
    "kss"
   ]
  },
  {
   "cell_type": "markdown",
   "metadata": {},
   "source": [
    "To find the steady state value of $y_t$ we firstly define the capital per capita function and then insert our steady state expression for $k^*$ into the output per capita production function:"
   ]
  },
  {
   "cell_type": "code",
   "execution_count": 4,
   "metadata": {},
   "outputs": [
    {
     "name": "stdout",
     "output_type": "stream",
     "text": [
      "The steady state value of income per worker is given as\n"
     ]
    },
    {
     "data": {
      "image/png": "[encoded data removed]",
      "text/latex": [
       "$$B \\left(\\left(\\frac{B s}{\\delta + n}\\right)^{- \\frac{1}{\\alpha - 1}}\\right)^{\\alpha}$$"
      ],
      "text/plain": [
       "                α\n",
       "  ⎛        -1  ⎞ \n",
       "  ⎜       ─────⎟ \n",
       "  ⎜       α - 1⎟ \n",
       "  ⎜⎛ B⋅s ⎞     ⎟ \n",
       "B⋅⎜⎜─────⎟     ⎟ \n",
       "  ⎝⎝δ + n⎠     ⎠ "
      ]
     },
     "execution_count": 4,
     "metadata": {},
     "output_type": "execute_result"
    }
   ],
   "source": [
    "y=B*k**alpha\n",
    "yss =y.subs({k:kss[0]})\n",
    "print('The steady state value of income per worker is given as')\n",
    "yss"
   ]
  },
  {
   "cell_type": "markdown",
   "metadata": {},
   "source": [
    "We now got an expresison for both capital per worker and income per worker in steady state. In the next part of the analysis we'll find an numerical solution the the steady state values."
   ]
  },
  {
   "cell_type": "markdown",
   "metadata": {},
   "source": [
    "### Numerical solution to the model"
   ]
  },
  {
   "cell_type": "markdown",
   "metadata": {},
   "source": [
    "We'll now find a numerical solution. Firstly, we turn our solution into a Python function"
   ]
  },
  {
   "cell_type": "code",
   "execution_count": 5,
   "metadata": {},
   "outputs": [],
   "source": [
    "kss_func = sm.lambdify((B,s,n,delta,alpha),kss)"
   ]
  },
  {
   "cell_type": "markdown",
   "metadata": {},
   "source": [
    "Secondly, we insert some realistic values for our parameters and we find the the steady state value for k."
   ]
  },
  {
   "cell_type": "code",
   "execution_count": 6,
   "metadata": {},
   "outputs": [
    {
     "name": "stdout",
     "output_type": "stream",
     "text": [
      "Given our choosen parameters, the steady state value of capital per worker is\n"
     ]
    },
    {
     "data": {
      "image/png": "[encoded data removed]",
      "text/latex": [
       "$$\\left [ 1.7833501840906834\\right ]$$"
      ],
      "text/plain": [
       "[1.7833501840906834]"
      ]
     },
     "execution_count": 6,
     "metadata": {},
     "output_type": "execute_result"
    }
   ],
   "source": [
    "print('Given our choosen parameters, the steady state value of capital per worker is')\n",
    "kss_func(5,0.3,0.02,1,1/3)"
   ]
  },
  {
   "cell_type": "markdown",
   "metadata": {},
   "source": [
    "Thirdly, we we find steady state value for y."
   ]
  },
  {
   "cell_type": "code",
   "execution_count": 7,
   "metadata": {},
   "outputs": [
    {
     "name": "stdout",
     "output_type": "stream",
     "text": [
      "Given our choosen parameters, the steady state value of income per worker is\n"
     ]
    },
    {
     "data": {
      "image/png": "[encoded data removed]",
      "text/latex": [
       "$$6.0633906259083235$$"
      ],
      "text/plain": [
       "6.0633906259083235"
      ]
     },
     "execution_count": 7,
     "metadata": {},
     "output_type": "execute_result"
    }
   ],
   "source": [
    "yss_func = sm.lambdify((B,s,n,delta,alpha),yss)\n",
    "print('Given our choosen parameters, the steady state value of income per worker is')\n",
    "yss_func(5,0.3,0.02,1,1/3)"
   ]
  },
  {
   "cell_type": "markdown",
   "metadata": {},
   "source": [
    "### Visualisation of Solow diagram"
   ]
  },
  {
   "cell_type": "markdown",
   "metadata": {},
   "source": [
    "We'll now try to visualise how capital converges towards it's steady state value."
   ]
  },
  {
   "cell_type": "code",
   "execution_count": 47,
   "metadata": {},
   "outputs": [
    {
     "data": {
      "image/png": "[encoded data removed]",
      "text/plain": [
       "<Figure size 720x480 with 1 Axes>"
      ]
     },
     "metadata": {
      "needs_background": "light"
     },
     "output_type": "display_data"
    }
   ],
   "source": [
    "# We define the variables of the Solow diagram\n",
    "def solowdiagram_basic_solow(k,B,s,n,delta,alpha,T):\n",
    "\n",
    "# We make two empty lists. One for k and the 45-degree line\n",
    "    k_next_period = [k]\n",
    "    Linear_line = [0]\n",
    "    \n",
    "# And we create our functions which growths as time goes.\n",
    "    for t in range(0,T):\n",
    "        line = (n+delta)*t\n",
    "        Linear_line.append(line)\n",
    "        k_plus1 = s*B*t**alpha\n",
    "        k_next_period.append(k_plus1)\n",
    "\n",
    "# Plotting figure, limits and labels.\n",
    "    plt.figure(dpi=120)\n",
    "    plt.plot(k_next_period[:T], label='Growth, $sBk_t^a$', color='b')\n",
    "    plt.plot(Linear_line[:T], label = 'Depression,$(n+\\delta)*k_t$', color='r')\n",
    "    plt.xlim(0,T)\n",
    "    plt.ylim(0,Linear_line[-1])\n",
    "    plt.xlabel('$k_t$')\n",
    "    plt.ylabel('')\n",
    "    plt.grid()\n",
    "    plt.legend()\n",
    "    plt.show()\n",
    "    \n",
    "# Showing figure. Change yourself to obtain a higher or lower steady state.\n",
    "solowdiagram_basic_solow(0,1,0.5,0.02,0.01,1/3,200)"
   ]
  },
  {
   "cell_type": "markdown",
   "metadata": {},
   "source": [
    "The blue line is the growth in capital. On the positive side we have that the higher the savings rate the more capital is accumulated, the higher total factor producitvity the more workers produce and the higher an alpha the higher capitals share is. The red line represents the depreciation. We have that population growth decreases capital per worker. Furthermore, the higher $\\delta$ is the more depreciation there is on capital which also decreses capital per worker. You can change the values yourself to move see how the steady state value of capital per worker changes."
   ]
  },
  {
   "cell_type": "markdown",
   "metadata": {},
   "source": [
    "The presence of technology in the model allows there to be long-run growth in output per capita. This will conclude the analysis of the basic Solow model. In the next part of the analysis we'll expand the the model by including technologycal growth from the general Solow model."
   ]
  },
  {
   "cell_type": "markdown",
   "metadata": {},
   "source": [
    "## The general Solow model (chapter 5)\n",
    "The next part of the project is going to analyze the Solow model with technology from chapter 5. The model looks a lot like the model from chapter 3 except that the total factor productivity is now being changed with an exogenious technological growth. For a better overview we'll introduce the full model although a lot of the equations is the same as in chapter 3."
   ]
  },
  {
   "cell_type": "markdown",
   "metadata": {},
   "source": [
    "### Introducing the model"
   ]
  },
  {
   "cell_type": "markdown",
   "metadata": {},
   "source": [
    "1. $Y_t = K_t^\\alpha (A_t L_t)^{1-\\alpha}$ \n",
    "2. $S_t = sY_t$\n",
    "3. $K_{t+1} - K_t = S_t - \\delta K_t$\n",
    "4. $L_{t+1} = (1+n)L_t$ \n",
    "5. $A_{t+1} = (1+g)A_t$ "
   ]
  },
  {
   "cell_type": "markdown",
   "metadata": {},
   "source": [
    "where $A_{t+1}$ is the growth in technology which is given exogenously as $(1+g)A_t$ and $\\tilde{k}_t = \\frac{K_t}{A_t L_t}$ and the model has the parameters $\\alpha$, $n$, $g$ and $\\delta$. The rest of the parameters have been described previously."
   ]
  },
  {
   "cell_type": "markdown",
   "metadata": {},
   "source": [
    "### Analysing the model"
   ]
  },
  {
   "cell_type": "markdown",
   "metadata": {},
   "source": [
    "In the first part of the analysis of the general Solow model we find the marginal product with respect to capital and labour. Following that we'll once again find the steady state values for $k_t$ and $y_t$ respectively. We start by defing the symbols of model."
   ]
  },
  {
   "cell_type": "code",
   "execution_count": 9,
   "metadata": {},
   "outputs": [],
   "source": [
    "Y = sm.symbols('Y_t')\n",
    "y = sm.symbols('y_t')\n",
    "K = sm.symbols('K_t')\n",
    "k = sm.symbols('k_t')\n",
    "A = sm.symbols('A')\n",
    "s = sm.symbols('s')\n",
    "n = sm.symbols('n')\n",
    "g = sm.symbols('g')\n",
    "L = sm.symbols('L_t')\n",
    "alpha = sm.symbols('alpha')\n",
    "delta = sm.symbols('delta')\n",
    "kstar = sm.symbols('k_t^*')\n",
    "ystar = sm.symbols('y_t^*')\n",
    "ktilde = sm.symbols('ktilde_t')\n",
    "ytilde = sm.symbols('ytilde_t')\n",
    "ytildestar = sm.symbols('ytilde_t^*')"
   ]
  },
  {
   "cell_type": "markdown",
   "metadata": {},
   "source": [
    "### Finding the marginal product with respect to capital and labour"
   ]
  },
  {
   "cell_type": "markdown",
   "metadata": {},
   "source": [
    "To find the marginal product of capital we take the derivative of the production function with respect to K. Following this we take the derivative of the production function with respect to L to find the the marginal product of labour."
   ]
  },
  {
   "cell_type": "code",
   "execution_count": 10,
   "metadata": {},
   "outputs": [
    {
     "name": "stdout",
     "output_type": "stream",
     "text": [
      "The marginal product of capital which equals the real rental rate is given as\n"
     ]
    },
    {
     "data": {
      "image/png": "[encoded data removed]",
      "text/latex": [
       "$$A^{- \\alpha + 1} K_{t}^{\\alpha - 1} L_{t}^{- \\alpha + 1} \\alpha$$"
      ],
      "text/plain": [
       " -α + 1   α - 1   -α + 1  \n",
       "A      ⋅Kₜ     ⋅Lₜ      ⋅α"
      ]
     },
     "execution_count": 10,
     "metadata": {},
     "output_type": "execute_result"
    }
   ],
   "source": [
    "Y = K**alpha*A**(1-alpha)*L**(1-alpha)\n",
    "\n",
    "r = diff(Y, K)\n",
    "print('The marginal product of capital which equals the real rental rate is given as')\n",
    "simplify(r)"
   ]
  },
  {
   "cell_type": "markdown",
   "metadata": {},
   "source": [
    "This can also be written as:"
   ]
  },
  {
   "cell_type": "markdown",
   "metadata": {},
   "source": [
    "$r_t = \\alpha \\left(\\frac{K_t}{A_tL_t} \\right)^{\\alpha-1}$"
   ]
  },
  {
   "cell_type": "markdown",
   "metadata": {},
   "source": [
    "We find the marginal product with respect to L."
   ]
  },
  {
   "cell_type": "code",
   "execution_count": 11,
   "metadata": {},
   "outputs": [
    {
     "name": "stdout",
     "output_type": "stream",
     "text": [
      "The marginal product of labour which equals the real wage is given as\n"
     ]
    },
    {
     "data": {
      "image/png": "[encoded data removed]",
      "text/latex": [
       "$$A^{- \\alpha + 1} K_{t}^{\\alpha} L_{t}^{- \\alpha} \\left(- \\alpha + 1\\right)$$"
      ],
      "text/plain": [
       " -α + 1   α   -α         \n",
       "A      ⋅Kₜ ⋅Lₜ  ⋅(-α + 1)"
      ]
     },
     "execution_count": 11,
     "metadata": {},
     "output_type": "execute_result"
    }
   ],
   "source": [
    "w = diff(Y, L)\n",
    "print('The marginal product of labour which equals the real wage is given as')\n",
    "simplify(w)"
   ]
  },
  {
   "cell_type": "markdown",
   "metadata": {},
   "source": [
    "Which is an expression for the real wage. This can also be written as:"
   ]
  },
  {
   "cell_type": "markdown",
   "metadata": {},
   "source": [
    "$w_t = (1-\\alpha) \\left(\\frac{K_t}{A_tL_t} \\right)^\\alpha A_t$"
   ]
  },
  {
   "cell_type": "markdown",
   "metadata": {},
   "source": [
    "### Finding steady state analytical"
   ]
  },
  {
   "cell_type": "markdown",
   "metadata": {},
   "source": [
    "This time we'll take our starting point in the Solow equation which is stated below:"
   ]
  },
  {
   "cell_type": "markdown",
   "metadata": {},
   "source": [
    "$\\tilde{k}_{t+1}-\\tilde{k}_t = \\frac{1}{(1+n)(1+g)} (s*\\tilde{k}_t^\\alpha-(n+g+delta+ng)*\\tilde{k}_t)$"
   ]
  },
  {
   "cell_type": "markdown",
   "metadata": {},
   "source": [
    "We know that in steady state $\\tilde{k}_{t+1} = \\tilde{k}_t = \\tilde{k}^*$ which we use to find steady state:"
   ]
  },
  {
   "cell_type": "code",
   "execution_count": 12,
   "metadata": {},
   "outputs": [
    {
     "data": {
      "image/png": "[encoded data removed]",
      "text/latex": [
       "$$\\frac{- \\tilde{k}_{t} \\left(\\delta + g n + g + n\\right) + \\tilde{k}_{t}^{\\alpha} s}{\\left(g + 1\\right) \\left(n + 1\\right)} = 0$$"
      ],
      "text/plain": [
       "                            α      \n",
       "-k̃ₜ⋅(δ + g⋅n + g + n) + k̃ₜ ⋅s    \n",
       "─────────────────────────────── = 0\n",
       "        (g + 1)⋅(n + 1)            "
      ]
     },
     "execution_count": 12,
     "metadata": {},
     "output_type": "execute_result"
    }
   ],
   "source": [
    "eq = sm.Eq((s*ktilde**alpha-(n+g+delta+n*g)*ktilde)/((1+n)*(1+g)))\n",
    "eq"
   ]
  },
  {
   "cell_type": "markdown",
   "metadata": {},
   "source": [
    "We then isolate k which gives us the result $\\tilde{k}^*$:"
   ]
  },
  {
   "cell_type": "code",
   "execution_count": 13,
   "metadata": {},
   "outputs": [
    {
     "data": {
      "image/png": "[encoded data removed]",
      "text/latex": [
       "$$\\left(\\frac{\\delta + g n + g + n}{s}\\right)^{\\frac{1}{\\alpha - 1}}$$"
      ],
      "text/plain": [
       "                   1  \n",
       "                 ─────\n",
       "                 α - 1\n",
       "⎛δ + g⋅n + g + n⎞     \n",
       "⎜───────────────⎟     \n",
       "⎝       s       ⎠     "
      ]
     },
     "execution_count": 13,
     "metadata": {},
     "output_type": "execute_result"
    }
   ],
   "source": [
    "k_tilde_star = sm.solve(eq,ktilde)[0]\n",
    "k_tilde_star"
   ]
  },
  {
   "cell_type": "markdown",
   "metadata": {},
   "source": [
    "What we're really interested in is the capital per worker and not technology-adjusted capital per worker. Since $\\tilde{k}_t^* = Ak_t^*$ we get the following result:"
   ]
  },
  {
   "cell_type": "code",
   "execution_count": 14,
   "metadata": {},
   "outputs": [
    {
     "data": {
      "image/png": "[encoded data removed]",
      "text/latex": [
       "$$k^{*}_{t} = A \\left(\\frac{\\delta + g n + g + n}{s}\\right)^{\\frac{1}{\\alpha - 1}}$$"
      ],
      "text/plain": [
       "                              1  \n",
       "                            ─────\n",
       "                            α - 1\n",
       "           ⎛δ + g⋅n + g + n⎞     \n",
       "k_t__* = A⋅⎜───────────────⎟     \n",
       "           ⎝       s       ⎠     "
      ]
     },
     "execution_count": 14,
     "metadata": {},
     "output_type": "execute_result"
    }
   ],
   "source": [
    "k_star = sm.Eq(kstar, A*k_tilde_star)\n",
    "k_star"
   ]
  },
  {
   "cell_type": "markdown",
   "metadata": {},
   "source": [
    "We now got the steady state value for capital per worker. It's quite easy to find $\\tilde{y}_t^*$ now since we know that $\\tilde{y}_t^* = \\tilde{k}_t^\\alpha$"
   ]
  },
  {
   "cell_type": "code",
   "execution_count": 15,
   "metadata": {},
   "outputs": [
    {
     "data": {
      "image/png": "[encoded data removed]",
      "text/latex": [
       "$$\\tilde{y}^{*}_{t} = \\left(\\left(\\frac{\\delta + g n + g + n}{s}\\right)^{\\frac{1}{\\alpha - 1}}\\right)^{\\alpha}$$"
      ],
      "text/plain": [
       "                                  α\n",
       "          ⎛                   1  ⎞ \n",
       "          ⎜                 ─────⎟ \n",
       "          ⎜                 α - 1⎟ \n",
       "          ⎜⎛δ + g⋅n + g + n⎞     ⎟ \n",
       "ỹ_t__* = ⎜⎜───────────────⎟     ⎟ \n",
       "          ⎝⎝       s       ⎠     ⎠ "
      ]
     },
     "execution_count": 15,
     "metadata": {},
     "output_type": "execute_result"
    }
   ],
   "source": [
    "y_tilde_star = sm.Eq(ytildestar, k_tilde_star**alpha)\n",
    "y_tilde_star"
   ]
  },
  {
   "cell_type": "markdown",
   "metadata": {},
   "source": [
    "Output per worker is then given as:"
   ]
  },
  {
   "cell_type": "code",
   "execution_count": 16,
   "metadata": {},
   "outputs": [
    {
     "data": {
      "image/png": "[encoded data removed]",
      "text/latex": [
       "$$y^{*}_{t} = A \\left(\\left(\\frac{\\delta + g n + g + n}{s}\\right)^{\\frac{1}{\\alpha - 1}}\\right)^{\\alpha}$$"
      ],
      "text/plain": [
       "                                   α\n",
       "           ⎛                   1  ⎞ \n",
       "           ⎜                 ─────⎟ \n",
       "           ⎜                 α - 1⎟ \n",
       "           ⎜⎛δ + g⋅n + g + n⎞     ⎟ \n",
       "y_t__* = A⋅⎜⎜───────────────⎟     ⎟ \n",
       "           ⎝⎝       s       ⎠     ⎠ "
      ]
     },
     "execution_count": 16,
     "metadata": {},
     "output_type": "execute_result"
    }
   ],
   "source": [
    "y_star = sm.Eq(ystar, A*k_tilde_star**alpha)\n",
    "y_star"
   ]
  },
  {
   "cell_type": "markdown",
   "metadata": {},
   "source": [
    "### Visualization of the general Solow diagram"
   ]
  },
  {
   "cell_type": "markdown",
   "metadata": {},
   "source": [
    "We visualise the Solow diagram of the model."
   ]
  },
  {
   "cell_type": "code",
   "execution_count": 48,
   "metadata": {},
   "outputs": [
    {
     "data": {
      "image/png": "[encoded data removed]",
      "text/plain": [
       "<Figure size 720x480 with 1 Axes>"
      ]
     },
     "metadata": {
      "needs_background": "light"
     },
     "output_type": "display_data"
    }
   ],
   "source": [
    "# We define the variabels of the Solow diagram\n",
    "def solowdiagram_general_solow(k,alpha,delta,s,n,g,T):\n",
    "\n",
    "# We make a list for k and the 45-degree line. \n",
    "    k_next_period = [k]\n",
    "    Linear_line = [0]\n",
    "    \n",
    "# And we create our functions which goes from 1 to infinity which we call T(= time).\n",
    "    for t in range(1,T):\n",
    "        line = (n+delta+g+n*g)*t\n",
    "        Linear_line.append(line)\n",
    "        k_plus = s*t**alpha\n",
    "        k_next_period.append(k_plus)\n",
    "    \n",
    "# Plotting figure, limits and labels.\n",
    "    plt.figure(dpi=120)\n",
    "    plt.plot(k_next_period[:T], label='Growth, $sk_t^a$', color='b')\n",
    "    plt.plot(Linear_line[:T], label = 'Depression, $(n+\\delta+g+ng)k_t$', color='r')\n",
    "    plt.xlim(0,T)\n",
    "    plt.ylim(0,Linear_line[-1])\n",
    "    plt.xlabel('$k_t$')\n",
    "    plt.ylabel('')\n",
    "    plt.grid()\n",
    "    plt.legend()\n",
    "    plt.show()\n",
    "    \n",
    "# Showing figure. Change yourself to obtain a higher or lower steady state.\n",
    "solowdiagram_general_solow(0,1/3,0.01,0.5,0.02,0.01,200)"
   ]
  },
  {
   "cell_type": "markdown",
   "metadata": {},
   "source": [
    "We've set the parameters to the same values as before and set $g=0.01$. As before you can change the parameters yourself. Although it might be hard to see, the steady state value of $k_t$ has decreased compared with the model in chapter 3. This is because we now look at the technology-adjusted capital per worker."
   ]
  },
  {
   "cell_type": "markdown",
   "metadata": {},
   "source": [
    "Adding technology to the model ensures that there is growth in steady, but also brings it to a lower level. This makes sense as countries that are considered to be in steady state, still experience growth in GDP and GDP per capita. This will conclude the analysis of the general Solow model. \n",
    "\n",
    "In the next part of the project we will be focusing on the Solow model from chapter 6 which includes human capital. "
   ]
  },
  {
   "cell_type": "markdown",
   "metadata": {},
   "source": [
    "## The Solow model with human capital (Chapter 6)"
   ]
  },
  {
   "cell_type": "markdown",
   "metadata": {},
   "source": [
    "The third part of our project will focus on the Solow model with human capital. This model addresses the two discrepancies between the empiri and the models predictions."
   ]
  },
  {
   "cell_type": "markdown",
   "metadata": {},
   "source": [
    "### The model is given as following,\n",
    "\n",
    "1. $Y_t = K_t^\\alpha  H_t^\\varphi (A_t L_t)^{1-\\alpha-\\varphi}$\n",
    "2. $L_{t+1} = (1+n)L_t$\n",
    "3. $A_{t+1} = (1+g)A_t$\n",
    "4. $H_{t+1} = s_H Y_t + (1+\\delta)H_t$\n",
    "5. $K_{t+1} = s_K Y_t +(1+\\delta)K_t$\n",
    "\n",
    "$r_t = \\alpha \\left(\\frac{K_t}{A_t L_t}\\right)^{\\alpha-1}\\left(\\frac{H_t}{A_t L_t}\\right)^\\varphi A_t$\n",
    "\n",
    "$w_t = (1-\\alpha) \\left(\\frac{K_t}{A_t L_t}\\right)^\\alpha \\left(\\frac{H_t}{A_t L_t}\\right)^\\varphi A_t$\n",
    "\n",
    "The model consists of the following variables and parameters:\n",
    "1. $Y_t$ is GDP, which is given as a Cobb-Douglas function.\n",
    "2. $L_t$ is the amount of labour. The labour force has a growth rate of 'n'\n",
    "3. $A_t$ is the technological level and it has a  growth rate of 'g'\n",
    "4. $K_t$ is the amount of capital.\n",
    "7. $s_H$ and $s_K$ is the amount of saving in the economy used on respectivly human capital and physical capital. They're both given as a constant fraction of GDP\n",
    "5. $\\sigma$ Physical capitals contribution to GDP growth\n",
    "6. $\\alpha$ Physical capitals contribution to GDP growth"
   ]
  },
  {
   "cell_type": "code",
   "execution_count": 51,
   "metadata": {},
   "outputs": [],
   "source": [
    "# Defining symbols for sympy \n",
    "\n",
    "# period t\n",
    "K = sm.symbols(\"K_t\")\n",
    "H = sm.symbols(\"H_t\")\n",
    "A = sm.symbols(\"A_t\")\n",
    "L = sm.symbols(\"L_t\")\n",
    "\n",
    "ktilde = sm.symbols(\"ktilde_t\")\n",
    "htilde = sm.symbols(\"htilde_t\")\n",
    "ytilde = sm.symbols(\"ytilde_t\")\n",
    "\n",
    "# Steady state \n",
    "kstar = sm.symbols(\"ktilde^*\")\n",
    "hstar = sm.symbols(\"htilde^*\")\n",
    "ystar = sm.symbols(\"ytilde^*\")\n",
    "\n",
    "# Parameters\n",
    "phi = sm.symbols(\"varphi\")\n",
    "sK = sm.symbols(\"s_K\")\n",
    "sH = sm.symbols(\"s_H\")\n",
    "alpha = sm.symbols('alpha')\n",
    "delta = sm.symbols('delta')\n",
    "varphi = sm.symbols('varphi')\n",
    "g = sm.symbols('g')\n",
    "n = sm.symbols('n')"
   ]
  },
  {
   "cell_type": "code",
   "execution_count": 19,
   "metadata": {},
   "outputs": [],
   "source": [
    "# Defining the variables in sympy\n",
    "\n",
    "# GDP\n",
    "Y = K**alpha*H**phi*(A*L)**(1-alpha-phi)\n",
    "\n",
    "# Physical capital\n",
    "Kt1 = sK*Y +(1-delta)*K\n",
    "\n",
    "# Human capital\n",
    "Ht1 = sH*Y +(1-delta)*H\n",
    "\n",
    "# Technology level and labor force\n",
    "At1 = (1+g)*A\n",
    "Lt1 = (1+n)*L"
   ]
  },
  {
   "cell_type": "code",
   "execution_count": 20,
   "metadata": {},
   "outputs": [],
   "source": [
    "# By differentiation Yt (GDP) respectively for K and L you get the interest rate and the wages in the economy.\n",
    "r = sm.simplify(sm.diff(Y,K))\n",
    "w = sm.simplify(sm.diff(Y,L))"
   ]
  },
  {
   "cell_type": "code",
   "execution_count": 21,
   "metadata": {},
   "outputs": [
    {
     "data": {
      "image/png": "[encoded data removed]",
      "text/latex": [
       "$$H_{t}^{\\varphi} K_{t}^{\\alpha - 1} \\alpha \\left(A_{t} L_{t}\\right)^{- \\alpha - \\varphi + 1}$$"
      ],
      "text/plain": [
       "  varphi   α - 1          -α - varphi + 1\n",
       "Hₜ      ⋅Kₜ     ⋅α⋅(Aₜ⋅Lₜ)               "
      ]
     },
     "execution_count": 21,
     "metadata": {},
     "output_type": "execute_result"
    }
   ],
   "source": [
    "# interest rate\n",
    "r  "
   ]
  },
  {
   "cell_type": "markdown",
   "metadata": {},
   "source": [
    "The intresrest rate is equivalent to the one shown in the model presentation\n",
    "\n",
    "$ H_t^\\varphi K_t^{\\alpha-1}\\alpha(A_t L_t)^{-\\alpha-\\varphi+1} =  \n",
    "\\alpha \\left(\\frac{K_t}{A-t L_t}\\right)^{\\alpha-1} \\left(\\frac{H_t}{A_t L_t}\\right)^\\varphi$"
   ]
  },
  {
   "cell_type": "code",
   "execution_count": 22,
   "metadata": {},
   "outputs": [
    {
     "data": {
      "image/png": "[encoded data removed]",
      "text/latex": [
       "$$\\frac{H_{t}^{\\varphi} K_{t}^{\\alpha} \\left(A_{t} L_{t}\\right)^{- \\alpha - \\varphi + 1} \\left(- \\alpha - \\varphi + 1\\right)}{L_{t}}$$"
      ],
      "text/plain": [
       "  varphi   α        -α - varphi + 1                  \n",
       "Hₜ      ⋅Kₜ ⋅(Aₜ⋅Lₜ)               ⋅(-α - varphi + 1)\n",
       "─────────────────────────────────────────────────────\n",
       "                          Lₜ                         "
      ]
     },
     "execution_count": 22,
     "metadata": {},
     "output_type": "execute_result"
    }
   ],
   "source": [
    "# real Wages\n",
    "w"
   ]
  },
  {
   "cell_type": "markdown",
   "metadata": {},
   "source": [
    "The real wages is equivalent to the one shown in the model presentation\n",
    "$ \\frac{H_t^\\varphi K_t^{\\alpha}(A_t L_t)^{-\\alpha-\\varphi+1} (-\\alpha-\\varphi+1)}{L_t} =  \n",
    "(1-\\alpha) \\left(\\frac{K_t}{A-t L_t}\\right)^{\\alpha} \\left(\\frac{H_t}{A_t L_t}\\right)^\\varphi A_t$"
   ]
  },
  {
   "cell_type": "markdown",
   "metadata": {},
   "source": [
    "# Analysing the model (The Law of motion)  \n",
    "The Transition equation is a bit more complicated than the one in chapter 5 since this model includes two first order differential equations. \n",
    "Even so the models are very a like, by setting $\\varphi =  1$ and dropping equation 4 the model from chapter 5 appears. "
   ]
  },
  {
   "cell_type": "markdown",
   "metadata": {},
   "source": [
    "The technology adjusted variables per effective worker are defined as following:  \n",
    "\n",
    "$ \\tilde{yt}  \\equiv \\frac{y_t}{A_t}   \\equiv \\frac{Y_t}{A_tL_t} \\hspace 1 cm \\tilde{k_t}  \\equiv \\frac{k_t}{A_t}   \\equiv \\frac{K_t}{A_tL_t} \\hspace 1 cm  \\tilde{h_t}  \\equiv \\frac{h_t}{A_t}   \\equiv \\frac{H_t}{A_tL_t} $\n",
    "\n",
    "We derive the technology adjusted variables by dividing both sides of the equations (1), (4) and (5)  by $A_{t+1}*L_{t+1}$ "
   ]
  },
  {
   "cell_type": "code",
   "execution_count": 23,
   "metadata": {},
   "outputs": [
    {
     "data": {
      "image/png": "[encoded data removed]",
      "text/latex": [
       "$$H_{t}^{\\varphi} K_{t}^{\\alpha} \\left(A_{t} L_{t}\\right)^{- \\alpha - \\varphi}$$"
      ],
      "text/plain": [
       "  varphi   α        -α - varphi\n",
       "Hₜ      ⋅Kₜ ⋅(Aₜ⋅Lₜ)           "
      ]
     },
     "execution_count": 23,
     "metadata": {},
     "output_type": "execute_result"
    }
   ],
   "source": [
    "# Calculation of the technology adjusted GDP per effective worker - Equation (5) / [(2)(3)]\n",
    "ytilde = sm.simplify((Y/(A*L)))\n",
    "ytilde"
   ]
  },
  {
   "cell_type": "markdown",
   "metadata": {},
   "source": [
    "Per definition the technology adjusted GDP per effective worker can also be expressed as:\n",
    "\n",
    "$ \\tilde y_t = \\tilde k_t^\\alpha \\tilde h_t^\\phi$"
   ]
  },
  {
   "cell_type": "code",
   "execution_count": 24,
   "metadata": {},
   "outputs": [
    {
     "data": {
      "image/png": "[encoded data removed]",
      "text/latex": [
       "$$\\frac{H_{t}^{\\varphi} K_{t}^{\\alpha} s_{K} \\left(A_{t} L_{t}\\right)^{- \\alpha - \\varphi + 1} - K_{t} \\left(\\delta - 1\\right)}{A_{t} L_{t} \\left(g + 1\\right) \\left(n + 1\\right)}$$"
      ],
      "text/plain": [
       "  varphi   α            -α - varphi + 1             \n",
       "Hₜ      ⋅Kₜ ⋅s_K⋅(Aₜ⋅Lₜ)                - Kₜ⋅(δ - 1)\n",
       "────────────────────────────────────────────────────\n",
       "               Aₜ⋅Lₜ⋅(g + 1)⋅(n + 1)                "
      ]
     },
     "execution_count": 24,
     "metadata": {},
     "output_type": "execute_result"
    }
   ],
   "source": [
    "# Calculation of the technology adjusted physical capital per effective worker - Equation (5) / [(2)(3)]\n",
    "ktildet1 = sm.simplify(Kt1/(At1*Lt1))\n",
    "ktildet1"
   ]
  },
  {
   "cell_type": "code",
   "execution_count": 25,
   "metadata": {},
   "outputs": [
    {
     "data": {
      "image/png": "[encoded data removed]",
      "text/latex": [
       "$$\\frac{- H_{t} \\left(\\delta - 1\\right) + H_{t}^{\\varphi} K_{t}^{\\alpha} s_{H} \\left(A_{t} L_{t}\\right)^{- \\alpha - \\varphi + 1}}{A_{t} L_{t} \\left(g + 1\\right) \\left(n + 1\\right)}$$"
      ],
      "text/plain": [
       "                varphi   α            -α - varphi + 1\n",
       "-Hₜ⋅(δ - 1) + Hₜ      ⋅Kₜ ⋅s_H⋅(Aₜ⋅Lₜ)               \n",
       "─────────────────────────────────────────────────────\n",
       "                Aₜ⋅Lₜ⋅(g + 1)⋅(n + 1)                "
      ]
     },
     "execution_count": 25,
     "metadata": {},
     "output_type": "execute_result"
    }
   ],
   "source": [
    "# Calculation of the technology adjusted human capital per effective worker - Equation (4) / [(2)(3)]\n",
    "htildet1 = sm.simplify(Ht1/(At1*Lt1))\n",
    "htildet1"
   ]
  },
  {
   "cell_type": "markdown",
   "metadata": {},
   "source": [
    "By using the definition of $\\tilde k_t \\hspace 0.3 cm \\text and \\hspace 0.3 cm  \\tilde h_t$ ,  substituting Y into the techonology adjusted human capital and physical capital, it can be reduced to the following functions: \n",
    "\n",
    "$\\text 6. \\hspace 1 cm \\tilde k_t = \\frac{1}{(1+n)(1+g)} (s_K \\tilde k_t^\\alpha \\tilde h_t^\\varphi +(1-\\delta)\\tilde k_t)\\\\ \n",
    "\\text 7. \\hspace 1 cm \\tilde h_t = \\frac{1}{(1+n)(1+g)} (s_h \\tilde k_t^\\alpha \\tilde h_t^\\varphi +(1-\\delta)\\tilde h_t)$"
   ]
  },
  {
   "cell_type": "markdown",
   "metadata": {},
   "source": [
    "## Finding steady state values for key endogenous variable \n",
    "\n",
    "### Step 1, Subtracting $\\tilde k_t$ on both sides of equation 6 and subtracting $\\tilde h_t$ on both sides of equation 7 to rewrite them to the solow equations\n"
   ]
  },
  {
   "cell_type": "code",
   "execution_count": 26,
   "metadata": {},
   "outputs": [
    {
     "data": {
      "image/png": "[encoded data removed]",
      "text/latex": [
       "$$\\frac{H_{t}^{\\varphi} K_{t}^{\\alpha} s_{K} \\left(A_{t} L_{t}\\right)^{- \\alpha - \\varphi + 1} - K_{t} \\left(\\delta - 1\\right) - K_{t} \\left(g + 1\\right) \\left(n + 1\\right)}{A_{t} L_{t} \\left(g + 1\\right) \\left(n + 1\\right)}$$"
      ],
      "text/plain": [
       "  varphi   α            -α - varphi + 1                                  \n",
       "Hₜ      ⋅Kₜ ⋅s_K⋅(Aₜ⋅Lₜ)                - Kₜ⋅(δ - 1) - Kₜ⋅(g + 1)⋅(n + 1)\n",
       "─────────────────────────────────────────────────────────────────────────\n",
       "                          Aₜ⋅Lₜ⋅(g + 1)⋅(n + 1)                          "
      ]
     },
     "execution_count": 26,
     "metadata": {},
     "output_type": "execute_result"
    }
   ],
   "source": [
    "# Defining/calculting the solow equation for physical capital\n",
    "ksolow = sm.simplify(ktildet1-K/(A*L))\n",
    "ksolow"
   ]
  },
  {
   "cell_type": "code",
   "execution_count": 27,
   "metadata": {},
   "outputs": [
    {
     "data": {
      "image/png": "[encoded data removed]",
      "text/latex": [
       "$$\\frac{- H_{t} \\left(\\delta - 1\\right) - H_{t} \\left(g + 1\\right) \\left(n + 1\\right) + H_{t}^{\\varphi} K_{t}^{\\alpha} s_{H} \\left(A_{t} L_{t}\\right)^{- \\alpha - \\varphi + 1}}{A_{t} L_{t} \\left(g + 1\\right) \\left(n + 1\\right)}$$"
      ],
      "text/plain": [
       "                                     varphi   α            -α - varphi + 1\n",
       "-Hₜ⋅(δ - 1) - Hₜ⋅(g + 1)⋅(n + 1) + Hₜ      ⋅Kₜ ⋅s_H⋅(Aₜ⋅Lₜ)               \n",
       "──────────────────────────────────────────────────────────────────────────\n",
       "                          Aₜ⋅Lₜ⋅(g + 1)⋅(n + 1)                           "
      ]
     },
     "execution_count": 27,
     "metadata": {},
     "output_type": "execute_result"
    }
   ],
   "source": [
    "# Defining/calculting the solow equation for human capital\n",
    "hsolow = sm.simplify(htildet1 - H/(A*L))\n",
    "hsolow"
   ]
  },
  {
   "cell_type": "markdown",
   "metadata": {},
   "source": [
    "### Step 2 , In steady state $ \\tilde k_{t+1} = \\tilde k_t$ and $\\tilde h_{t+1} = \\tilde h_t,$ so it makes perfect sence to set the equation equal to 0."
   ]
  },
  {
   "cell_type": "code",
   "execution_count": 28,
   "metadata": {},
   "outputs": [
    {
     "data": {
      "image/png": "[encoded data removed]",
      "text/latex": [
       "$$\\frac{H_{t}^{\\varphi} K_{t}^{\\alpha} s_{K} \\left(A_{t} L_{t}\\right)^{- \\alpha - \\varphi + 1} - K_{t} \\left(\\delta - 1\\right) - K_{t} \\left(g + 1\\right) \\left(n + 1\\right)}{A_{t} L_{t} \\left(g + 1\\right) \\left(n + 1\\right)} = 0$$"
      ],
      "text/plain": [
       "  varphi   α            -α - varphi + 1                                      \n",
       "Hₜ      ⋅Kₜ ⋅s_K⋅(Aₜ⋅Lₜ)                - Kₜ⋅(δ - 1) - Kₜ⋅(g + 1)⋅(n + 1)    \n",
       "───────────────────────────────────────────────────────────────────────── = 0\n",
       "                          Aₜ⋅Lₜ⋅(g + 1)⋅(n + 1)                              "
      ]
     },
     "execution_count": 28,
     "metadata": {},
     "output_type": "execute_result"
    }
   ],
   "source": [
    "ksolowss= sm.Eq(ksolow)\n",
    "ksolowss"
   ]
  },
  {
   "cell_type": "code",
   "execution_count": 29,
   "metadata": {},
   "outputs": [
    {
     "data": {
      "image/png": "[encoded data removed]",
      "text/latex": [
       "$$\\frac{- H_{t} \\left(\\delta - 1\\right) - H_{t} \\left(g + 1\\right) \\left(n + 1\\right) + H_{t}^{\\varphi} K_{t}^{\\alpha} s_{H} \\left(A_{t} L_{t}\\right)^{- \\alpha - \\varphi + 1}}{A_{t} L_{t} \\left(g + 1\\right) \\left(n + 1\\right)} = 0$$"
      ],
      "text/plain": [
       "                                     varphi   α            -α - varphi + 1    \n",
       "-Hₜ⋅(δ - 1) - Hₜ⋅(g + 1)⋅(n + 1) + Hₜ      ⋅Kₜ ⋅s_H⋅(Aₜ⋅Lₜ)                   \n",
       "────────────────────────────────────────────────────────────────────────── = 0\n",
       "                          Aₜ⋅Lₜ⋅(g + 1)⋅(n + 1)                               "
      ]
     },
     "execution_count": 29,
     "metadata": {},
     "output_type": "execute_result"
    }
   ],
   "source": [
    "hsolowss = sm.Eq(hsolow)\n",
    "hsolowss"
   ]
  },
  {
   "cell_type": "code",
   "execution_count": 30,
   "metadata": {},
   "outputs": [],
   "source": [
    "# By using the definitons listed through out this chapter of the project the two equations above can be reduced to: \n",
    "\n",
    "ksolowss1 = sm.Eq(sK*ktilde**alpha*htilde**varphi - (n + g + delta + n*g)*ktilde)\n",
    "hsolowss1= sm.Eq(sH*ktilde**alpha*htilde**varphi - (n + g + delta + n*g)*htilde)"
   ]
  },
  {
   "cell_type": "code",
   "execution_count": 31,
   "metadata": {},
   "outputs": [
    {
     "data": {
      "image/png": "[encoded data removed]",
      "text/latex": [
       "$$\\tilde{h}_{t}^{\\varphi} \\tilde{k}_{t}^{\\alpha} s_{K} - \\tilde{k}_{t} \\left(\\delta + g n + g + n\\right) = 0$$"
      ],
      "text/plain": [
       "   varphi    α                                \n",
       "h̃ₜ      ⋅k̃ₜ ⋅s_K - k̃ₜ⋅(δ + g⋅n + g + n) = 0"
      ]
     },
     "execution_count": 31,
     "metadata": {},
     "output_type": "execute_result"
    }
   ],
   "source": [
    "# The solow equation for physical capital in steady state\n",
    "ksolowss1"
   ]
  },
  {
   "cell_type": "code",
   "execution_count": 32,
   "metadata": {},
   "outputs": [
    {
     "data": {
      "image/png": "[encoded data removed]",
      "text/latex": [
       "$$- \\tilde{h}_{t} \\left(\\delta + g n + g + n\\right) + \\tilde{h}_{t}^{\\varphi} \\tilde{k}_{t}^{\\alpha} s_{H} = 0$$"
      ],
      "text/plain": [
       "                            varphi    α        \n",
       "-h̃ₜ⋅(δ + g⋅n + g + n) + h̃ₜ      ⋅k̃ₜ ⋅s_H = 0"
      ]
     },
     "execution_count": 32,
     "metadata": {},
     "output_type": "execute_result"
    }
   ],
   "source": [
    "# The solow equation for physical capital in steady state\n",
    "hsolowss1"
   ]
  },
  {
   "cell_type": "markdown",
   "metadata": {},
   "source": [
    "### Step 3, isolating $H_t$ and $ K_t$   "
   ]
  },
  {
   "cell_type": "code",
   "execution_count": 33,
   "metadata": {},
   "outputs": [
    {
     "data": {
      "image/png": "[encoded data removed]",
      "text/latex": [
       "$$\\tilde{k}^{*} = \\left(\\frac{\\tilde{h}_{t}^{- \\varphi} \\left(\\delta + g n + g + n\\right)}{s_{K}}\\right)^{\\frac{1}{\\alpha - 1}}$$"
      ],
      "text/plain": [
       "                                        1  \n",
       "                                      ─────\n",
       "                                      α - 1\n",
       "        ⎛   -varphi                  ⎞     \n",
       "        ⎜h̃ₜ       ⋅(δ + g⋅n + g + n)⎟     \n",
       "k̃__* = ⎜────────────────────────────⎟     \n",
       "        ⎝            s_K             ⎠     "
      ]
     },
     "execution_count": 33,
     "metadata": {},
     "output_type": "execute_result"
    }
   ],
   "source": [
    "# Finding steady state for physical capital\n",
    "kss = sm.solve(ksolowss1, ktilde)[0]\n",
    "kSS = sm.Eq(kstar, sm.solve(ksolowss1, ktilde)[0])\n",
    "kSS"
   ]
  },
  {
   "cell_type": "markdown",
   "metadata": {},
   "source": [
    "substituting  $\\tilde h^{-\\varphi}$ as a fuction of respectivly $\\tilde k_t$ "
   ]
  },
  {
   "cell_type": "code",
   "execution_count": 34,
   "metadata": {},
   "outputs": [
    {
     "data": {
      "image/png": "[encoded data removed]",
      "text/latex": [
       "$$\\tilde{k}^{*} = \\left(\\frac{\\left(\\frac{\\tilde{k}_{t} s_{H}}{s_{K}}\\right)^{- \\varphi} \\left(\\delta + g n + g + n\\right)}{s_{K}}\\right)^{\\frac{1}{\\alpha - 1}}$$"
      ],
      "text/plain": [
       "                                              1  \n",
       "                                            ─────\n",
       "                                            α - 1\n",
       "        ⎛         -varphi                  ⎞     \n",
       "        ⎜⎛k̃ₜ⋅s_H⎞                         ⎟     \n",
       "        ⎜⎜───────⎟       ⋅(δ + g⋅n + g + n)⎟     \n",
       "        ⎜⎝  s_K  ⎠                         ⎟     \n",
       "k̃__* = ⎜──────────────────────────────────⎟     \n",
       "        ⎝               s_K                ⎠     "
      ]
     },
     "execution_count": 34,
     "metadata": {},
     "output_type": "execute_result"
    }
   ],
   "source": [
    "kss1 = kss.subs(htilde, (ktilde*sH)/sK)\n",
    "kss2 = sm.Eq(kstar, kss.subs(htilde, (ktilde*sH)/sK))\n",
    "kss2"
   ]
  },
  {
   "cell_type": "code",
   "execution_count": 35,
   "metadata": {},
   "outputs": [
    {
     "data": {
      "image/png": "[encoded data removed]",
      "text/latex": [
       "$$\\tilde{h}^{*} = \\left(\\frac{\\tilde{k}_{t}^{- \\alpha} \\left(\\delta + g n + g + n\\right)}{s_{H}}\\right)^{\\frac{1}{\\varphi - 1}}$$"
      ],
      "text/plain": [
       "                                     1     \n",
       "                                 ──────────\n",
       "                                 varphi - 1\n",
       "        ⎛   -α                  ⎞          \n",
       "        ⎜k̃ₜ  ⋅(δ + g⋅n + g + n)⎟          \n",
       "h̃__* = ⎜───────────────────────⎟          \n",
       "        ⎝          s_H          ⎠          "
      ]
     },
     "execution_count": 35,
     "metadata": {},
     "output_type": "execute_result"
    }
   ],
   "source": [
    "# finding steady state for human capital\n",
    "hss = sm.solve(hsolowss1, htilde)[0]\n",
    "hSS = sm.Eq(hstar, sm.solve(hsolowss1, htilde)[0])\n",
    "hSS"
   ]
  },
  {
   "cell_type": "markdown",
   "metadata": {},
   "source": [
    "substituting  $\\tilde k^{-\\alpha}$ as a fuction of $\\tilde h_t$"
   ]
  },
  {
   "cell_type": "code",
   "execution_count": 36,
   "metadata": {},
   "outputs": [
    {
     "data": {
      "image/png": "[encoded data removed]",
      "text/latex": [
       "$$\\tilde{h}^{*} = \\left(\\frac{\\left(\\frac{\\tilde{h}_{t} s_{H}}{s_{K}}\\right)^{- \\alpha} \\left(\\delta + g n + g + n\\right)}{s_{H}}\\right)^{\\frac{1}{\\varphi - 1}}$$"
      ],
      "text/plain": [
       "                                           1     \n",
       "                                       ──────────\n",
       "                                       varphi - 1\n",
       "        ⎛         -α                  ⎞          \n",
       "        ⎜⎛h̃ₜ⋅s_H⎞                    ⎟          \n",
       "        ⎜⎜───────⎟  ⋅(δ + g⋅n + g + n)⎟          \n",
       "        ⎜⎝  s_K  ⎠                    ⎟          \n",
       "h̃__* = ⎜─────────────────────────────⎟          \n",
       "        ⎝             s_H             ⎠          "
      ]
     },
     "execution_count": 36,
     "metadata": {},
     "output_type": "execute_result"
    }
   ],
   "source": [
    "hss1 = hss.subs(ktilde, (htilde*sH)/sK)\n",
    "hss2 = sm.Eq(hstar, hss.subs(ktilde, (htilde*sH)/sK))\n",
    "hss2"
   ]
  },
  {
   "cell_type": "code",
   "execution_count": 37,
   "metadata": {},
   "outputs": [
    {
     "data": {
      "image/png": "[encoded data removed]",
      "text/latex": [
       "$$\\tilde{y}^{*} = \\left(\\left(\\frac{\\left(\\frac{\\tilde{h}_{t} s_{H}}{s_{K}}\\right)^{- \\alpha} \\left(\\delta + g n + g + n\\right)}{s_{H}}\\right)^{\\frac{1}{\\varphi - 1}}\\right)^{\\varphi} \\left(\\left(\\frac{\\left(\\frac{\\tilde{k}_{t} s_{H}}{s_{K}}\\right)^{- \\varphi} \\left(\\delta + g n + g + n\\right)}{s_{K}}\\right)^{\\frac{1}{\\alpha - 1}}\\right)^{\\alpha}$$"
      ],
      "text/plain": [
       "                                                   varphi                     \n",
       "        ⎛                                   1     ⎞       ⎛                   \n",
       "        ⎜                               ──────────⎟       ⎜                   \n",
       "        ⎜                               varphi - 1⎟       ⎜                   \n",
       "        ⎜⎛         -α                  ⎞          ⎟       ⎜⎛         -varphi  \n",
       "        ⎜⎜⎛h̃ₜ⋅s_H⎞                    ⎟          ⎟       ⎜⎜⎛k̃ₜ⋅s_H⎞         \n",
       "        ⎜⎜⎜───────⎟  ⋅(δ + g⋅n + g + n)⎟          ⎟       ⎜⎜⎜───────⎟       ⋅(\n",
       "        ⎜⎜⎝  s_K  ⎠                    ⎟          ⎟       ⎜⎜⎝  s_K  ⎠         \n",
       "ỹ__* = ⎜⎜─────────────────────────────⎟          ⎟      ⋅⎜⎜──────────────────\n",
       "        ⎝⎝             s_H             ⎠          ⎠       ⎝⎝               s_K\n",
       "\n",
       "                       α\n",
       "                   1  ⎞ \n",
       "                 ─────⎟ \n",
       "                 α - 1⎟ \n",
       "                ⎞     ⎟ \n",
       "                ⎟     ⎟ \n",
       "δ + g⋅n + g + n)⎟     ⎟ \n",
       "                ⎟     ⎟ \n",
       "────────────────⎟     ⎟ \n",
       "                ⎠     ⎠ "
      ]
     },
     "execution_count": 37,
     "metadata": {},
     "output_type": "execute_result"
    }
   ],
   "source": [
    "# substituting steady state variables into technology adjusted GDP per efficient worker\n",
    "\n",
    "ys = sm.Eq(ystar, kss1**alpha * hss1 **varphi)\n",
    "ys"
   ]
  },
  {
   "cell_type": "markdown",
   "metadata": {},
   "source": [
    "# Simulation and visiual presentation of results -  solow with human capital"
   ]
  },
  {
   "cell_type": "markdown",
   "metadata": {},
   "source": [
    "We now present the model by visualising the Solow diagram."
   ]
  },
  {
   "cell_type": "code",
   "execution_count": 61,
   "metadata": {},
   "outputs": [
    {
     "data": {
      "application/vnd.jupyter.widget-view+json": {
       "model_id": "739555fbda81409ebf30182b104908c5",
       "version_major": 2,
       "version_minor": 0
      },
      "text/plain": [
       "interactive(children=(FloatSlider(value=0.2, description='$s_K$', max=0.4, min=0.1, step=0.01), FloatSlider(va…"
      ]
     },
     "metadata": {},
     "output_type": "display_data"
    },
    {
     "data": {
      "text/plain": [
       "<function __main__.simulate_human_capital(sK, sH, g, n, T, alpha, phi, delta, htilde, ktilde)>"
      ]
     },
     "execution_count": 61,
     "metadata": {},
     "output_type": "execute_result"
    }
   ],
   "source": [
    "def simulate_human_capital(sK, sH, g, n, T, alpha, phi, delta, htilde, ktilde): \n",
    "    \n",
    "# Defining arays to contain values of the functions \n",
    "    ktilde_movement = [ktilde]\n",
    "    htilde_movement = [htilde]\n",
    "    \n",
    "# Defing functions to add to our arays\n",
    "    for t in range(1,T):\n",
    "        ktilde = t\n",
    "        ktilde_np = ((ktilde**(-alpha+1)*(delta+n*g+n+g))/sK)**(1/(phi))\n",
    "        ktilde_movement.append(ktilde_np)\n",
    "        htilde = t\n",
    "        htilde_np = ((htilde**(-alpha)*(delta+n*g+n+g))/sH)**(1/(phi-1))\n",
    "        htilde_movement.append(htilde_np)\n",
    "    \n",
    "# Setting up the data plot\n",
    "    plt.figure(dpi=120)\n",
    "    plt.plot(htilde_movement[:T], label='$\\Delta \\~{h} = 0$', color='b')\n",
    "    plt.plot(ktilde_movement[:T], label='$\\Delta \\~{k} = 0$', color='r')\n",
    "    plt.xlim(0,T)\n",
    "    plt.ylim(0,T)\n",
    "    plt.xlabel('$\\~{k}$')\n",
    "    plt.ylabel('$\\~{h}$')\n",
    "    plt.grid()\n",
    "    plt.legend()\n",
    "    plt.show()\n",
    "    \n",
    "widgets.interact(simulate_human_capital, \n",
    "                 htilde = widgets.fixed(0), \n",
    "                 ktilde = widgets.fixed(0), \n",
    "                 alpha = widgets.FloatSlider(description='$\\u03B1$', min=0, max=0.5, step=0.05, value=0.3),\n",
    "                 phi = widgets.FloatSlider(description='$\\u03C6$', min=0, max=0.5, step=0.05, value=0.3), \n",
    "                 delta = widgets.FloatSlider(description='$\\u03B4$', min=0.01, max=0.1, step=0.01, value=0.01), \n",
    "                 sK = widgets.FloatSlider(description='$s_K$', min=0.1, max=0.4, step=0.01, value=0.2), \n",
    "                 sH = widgets.FloatSlider(description='$s_H$', min=0.1, max=0.4, step=0.01, value=0.2),\n",
    "                 n = widgets.FloatSlider(description='$n$', min=0.01, max=0.1, step=0.005, value=0.01), \n",
    "                 g = widgets.FloatSlider(description='$g$', min=0.01, max=0.1, step=0.005, value=0.02), \n",
    "                 T = widgets.IntSlider(description='$T$', min=1, max=1000, step=10, value=100))"
   ]
  },
  {
   "cell_type": "markdown",
   "metadata": {},
   "source": [
    "As shown in the visual representation by adding an extra parameter, human capital, the convergence towards steady state happens at a slower speed. This means that for an initial amount of human and physical capital, it is going to take a longer amount of time for a country to get to their steady state compared to the previous chapters."
   ]
  },
  {
   "cell_type": "markdown",
   "metadata": {},
   "source": [
    "## Solow Model with land (Chapter 7)"
   ]
  },
  {
   "cell_type": "code",
   "execution_count": 39,
   "metadata": {},
   "outputs": [],
   "source": [
    "import matplotlib.pyplot as plt\n",
    "from sympy.plotting import plot\n",
    "import numpy as np                 # Package for scientific computing with Python\n",
    "from scipy import linalg           # Used to do linear algebra functions\n",
    "from scipy import optimize         # For maximizing and minimizing functions\n",
    "import sympy as sm                 # For solving mathematics with symbols \n",
    "from sympy import *\n",
    "from sympy import latex            # Used to print results as LaTeX code\n",
    "import ipywidgets as widgets\n",
    "sm.init_printing(use_unicode=True) # This will make all expressions pretty print with unicode characters."
   ]
  },
  {
   "cell_type": "markdown",
   "metadata": {},
   "source": [
    "### The model"
   ]
  },
  {
   "cell_type": "markdown",
   "metadata": {},
   "source": [
    "The model with land consists of the following equations: \n",
    "\n",
    "1. $Y_t=K^\\alpha_t(A_tL_t)^\\beta X^\\kappa$,$\\hspace{0.5cm}$ $\\alpha>0,$ $\\hspace{0.5cm}$ $\\beta>0$,$\\hspace{0.5cm}$$\\kappa>0$,$\\hspace{0.5cm}$ $\\alpha+\\beta+\\kappa=1$\n",
    "2. $K_{t+1}=sY_t+(1-\\delta)K_t$,$\\hspace{0.5cm}$    $0<s<1$,$\\hspace{0.5cm}$  $0<\\delta<1$.\n",
    "3. $L_{t+1}=(1+n)L_t$, $\\hspace{0.5cm}$  $n \\geq 0$.\n",
    "4. $A_{t+1}=(1+g)A_t$, $\\hspace{0.5cm}$ $g \\geq 0$."
   ]
  },
  {
   "cell_type": "markdown",
   "metadata": {},
   "source": [
    "Where $Y_t$ is output, $K_t$ is capital, $A_t$ is technology, $L_t$ is the population, and $X$ is land (which does not evolve over time). Using the above equations one will arrive at a per-capita output that can be written as: \n",
    "\n",
    "$y_t=k_t^\\alpha A_t^\\beta x_t^\\kappa$"
   ]
  },
  {
   "cell_type": "markdown",
   "metadata": {},
   "source": [
    "Using that $z_t=\\frac{k_t}{y_t}$ one gets the following expression: "
   ]
  },
  {
   "cell_type": "markdown",
   "metadata": {},
   "source": [
    "$z_t=k_t^{1-\\alpha}A_t^{-\\beta}x_t^{-\\kappa}$"
   ]
  },
  {
   "cell_type": "markdown",
   "metadata": {},
   "source": [
    "We wish to find the steady state capital-output ratio and this is done by firstly defining the variables which ables us to use the sympy function to do calculations with the variables. "
   ]
  },
  {
   "cell_type": "code",
   "execution_count": 64,
   "metadata": {},
   "outputs": [],
   "source": [
    "#defining variables: \n",
    "y = sm.symbols('y_t')\n",
    "Y = sm.symbols('Y_t')\n",
    "K = sm.symbols('K_t')\n",
    "k = sm.symbols('k_t')\n",
    "X = sm.symbols('X')\n",
    "x = sm.symbols('x_t')\n",
    "A = sm.symbols('A_t')\n",
    "L = sm.symbols('L_t')\n",
    "z = sm.symbols('z_t')\n",
    "z1 = sm.symbols('z_t+1')\n",
    "A1 = sm.symbols('A_t+1')\n",
    "L1 = sm.symbols('L_t+1')\n",
    "x1 = sm.symbols('x_t+1')\n",
    "k1 = sm.symbols('k_t+1')\n",
    "K1 = sm.symbols('K_t+1')\n",
    "n = sm.symbols('n')\n",
    "s = sm.symbols('s')\n",
    "g = sm.symbols('g')\n",
    "S = sm.symbols('z^*')\n",
    "kappa = sm.symbols('kappa',positive = True)\n",
    "alpha = sm.symbols('alpha', positive = True)\n",
    "beta = sm.symbols('beta',positive = True)\n",
    "delta = sm.symbols('delta',positive = True)"
   ]
  },
  {
   "cell_type": "code",
   "execution_count": 65,
   "metadata": {},
   "outputs": [
    {
     "data": {
      "image/png": "[encoded data removed]",
      "text/latex": [
       "$$z_{t} = A_{t}^{- \\beta} k_{t}^{- \\alpha + 1} x_{t}^{- \\kappa}$$"
      ],
      "text/plain": [
       "       -β   -α + 1   -κ\n",
       "zₜ = Aₜ  ⋅kₜ      ⋅xₜ  "
      ]
     },
     "execution_count": 65,
     "metadata": {},
     "output_type": "execute_result"
    }
   ],
   "source": [
    "cap_out = sm.Eq(z,(k**(1-alpha)*A**(-beta)*x**(-kappa))) \n",
    "cap_out "
   ]
  },
  {
   "cell_type": "code",
   "execution_count": 42,
   "metadata": {},
   "outputs": [
    {
     "data": {
      "image/png": "[encoded data removed]",
      "text/latex": [
       "$$z_{t+1} = A_{t+1}^{- \\beta} k_{t+1}^{- \\alpha + 1} x_{t+1}^{- \\kappa}$$"
      ],
      "text/plain": [
       "           -β     -α + 1     -κ\n",
       "zₜ₊₁ = Aₜ₊₁  ⋅kₜ₊₁      ⋅xₜ₊₁  "
      ]
     },
     "execution_count": 42,
     "metadata": {},
     "output_type": "execute_result"
    }
   ],
   "source": [
    "#Redifining the equation to t+1 by substituting\n",
    "cap_out = cap_out.subs(z,z1)\n",
    "cap_out = cap_out.subs(A,A1)\n",
    "cap_out = cap_out.subs(k,k1)\n",
    "cap_out = cap_out.subs(x,x1)\n",
    "cap_out"
   ]
  },
  {
   "cell_type": "markdown",
   "metadata": {},
   "source": [
    "Inserting that $k_{t+1}=\\left(\\frac{K_{t+1}}{L_{t+1}}\\right)$  and $x_{t+1}=\\left(\\frac{X}{L_{t+1}}\\right)$ and also inserting equations 2, 3 and 4 from the model one gets:"
   ]
  },
  {
   "cell_type": "markdown",
   "metadata": {},
   "source": [
    "$z_{t+1}=\\left( \\frac{sY_t+(1-\\delta)K_t}{(1+n)L_t}  \\right)^{1-\\alpha}(1+g)^{-\\beta}A_t^{-\\beta}\\left(   \\frac{X}{(1+n)L_t} \\right)^{-\\kappa}$\n",
    "\n",
    "$=\\left(\\frac{1}{(1+n)(1+g)}\\right)^\\beta(sy_t+(1-\\delta)k_t)^{1-\\alpha}A_t^{-\\beta}x_t^{-\\kappa}$\n",
    "\n",
    "$=\\left(\\frac{1}{(1+n)(1+g)}\\right)^\\beta \\left( s\\frac{y_t}{k_t}+(1-\\delta)\\right)^{1-\\alpha}k_t^{1-\\alpha} A_t^{-\\beta}x_t^{-\\kappa}$\n",
    "\n",
    "Lastly inserting $z_t=k_t^{1-\\alpha}A_t^{-\\beta}x_t^{-\\kappa}$ one arrives at: \n",
    "\n",
    "$=\\left(\\frac{1}{(1+n)(1+g)}\\right)^\\beta \\left(\\frac{s}{z_t}+(1-\\delta)\\right)^{1-\\alpha}z_t$\n",
    "\n",
    "This can finally be written as: "
   ]
  },
  {
   "cell_type": "code",
   "execution_count": 43,
   "metadata": {},
   "outputs": [
    {
     "data": {
      "image/png": "[encoded data removed]",
      "text/latex": [
       "$$z_{t+1} = z_{t}^{\\alpha} \\left(\\frac{1}{\\left(g + 1\\right) \\left(n + 1\\right)}\\right)^{\\beta} \\left(s + z_{t} \\left(- \\delta + 1\\right)\\right)^{- \\alpha + 1}$$"
      ],
      "text/plain": [
       "                            β                        \n",
       "         α ⎛       1       ⎞                   -α + 1\n",
       "zₜ₊₁ = zₜ ⋅⎜───────────────⎟ ⋅(s + zₜ⋅(-δ + 1))      \n",
       "           ⎝(g + 1)⋅(n + 1)⎠                         "
      ]
     },
     "execution_count": 43,
     "metadata": {},
     "output_type": "execute_result"
    }
   ],
   "source": [
    "#Creating a sympy equation\n",
    "Transition = sm.Eq(z1, (1/((1+n)*(1+g)))**beta*(s+(1-delta)*z)**(1-alpha)*z**alpha)\n",
    "Transition"
   ]
  },
  {
   "cell_type": "markdown",
   "metadata": {},
   "source": [
    "The sympy solve for function gives an error when trying to isolate $z_t$ which is known to be a common error when solving equations with powers. Therefore the isolating is done by brute-force setting $z_{t+1}=z_t=z^*$ : "
   ]
  },
  {
   "cell_type": "markdown",
   "metadata": {},
   "source": [
    "$z_t^{1-\\alpha}=\\left(\\frac{1}{(g+1)(n+1)}\\right)^\\beta (s+z_t(-\\delta+1))^{1-\\alpha}$\n",
    "\n",
    "$z_t=\\left(\\frac{1}{(g+1)(n+1)}\\right)^\\frac{\\beta}{1-\\alpha}s+z_t(-\\delta+1)\\left(\\frac{1}{(g+1)(n+1)}\\right)^\\frac{\\beta}{1-\\alpha}$\n",
    "\n",
    "$z_t-z_t(-\\delta+1)\\left(\\frac{1}{(g+1)(n+1)}\\right)^\\frac{\\beta}{1-\\alpha}=\\left(\\frac{1}{(g+1)(n+1)}\\right)^\\frac{\\beta}{1-\\alpha}s$\n",
    "\n",
    "$z_t\\left(1-(-\\delta+1)\\left(\\frac{1}{(g+1)(n+1)}\\right)^\\frac{\\beta}{1-\\alpha}\\right)=\\left(\\frac{1}{(g+1)(n+1)}\\right)^\\frac{\\beta}{1-\\alpha}s$\n",
    "\n",
    "$z_t=\\frac{\\left(\\left(\\frac{1}{(g+1)(n+1)}\\right)^\\frac{\\beta}{1-\\alpha}s\\right)}{\\left(1-(-\\delta+1)\\left(\\frac{1}{(g+1)(n+1)}\\right)^\\frac{\\beta}{1-\\alpha}\\right)}$\n",
    "\n",
    "$z_t^{-1}=\\frac{\\left(1-(-\\delta+1)\\left(\\frac{1}{(g+1)(n+1)}\\right)^\\frac{\\beta}{1-\\alpha}\\right)}{\\left(\\left(\\frac{1}{(g+1)(n+1)}\\right)^\\frac{\\beta}{1-\\alpha}s\\right)}$\n",
    "\n",
    "$z_t^{-1}=\\frac{1}{\\left(\\left(\\frac{1}{(g+1)(n+1)}\\right)^\\frac{\\beta}{1-\\alpha}s\\right)}-\\frac{(-\\delta+1)\\left(\\frac{1}{(g+1)(n+1)}\\right)^\\frac{\\beta}{1-\\alpha}}{\\left(\\left(\\frac{1}{(g+1)(n+1)}\\right)^\\frac{\\beta}{1-\\alpha}s\\right)}$\n",
    "\n",
    "$z_t^{-1}=\\frac{((1+n)(1+g))^{\\frac{\\beta}{1-\\alpha}}}{s}-\\frac{(-\\delta+1)}{s}$\n",
    "\n",
    "$z_t=\\frac{s}{((1+n)(1+g))^{\\frac{\\beta}{1-\\alpha}}-(-\\delta+1)}$\n",
    "\n",
    "This can then be denoted as $z^*$ for steady state: \n",
    "\n",
    "$z^*=\\frac{s}{((1+n)(1+g))^{\\frac{\\beta}{1-\\alpha}}-(-\\delta+1)}$\n",
    "\n",
    "\n"
   ]
  },
  {
   "cell_type": "markdown",
   "metadata": {},
   "source": [
    "Furthermore by using that $1-\\alpha=\\beta+\\kappa$ we can substitute this into the steady state function: "
   ]
  },
  {
   "cell_type": "code",
   "execution_count": 44,
   "metadata": {},
   "outputs": [
    {
     "data": {
      "image/png": "[encoded data removed]",
      "text/latex": [
       "$$\\left [ \\frac{s}{\\delta + \\left(g n + g + n + 1\\right)^{\\frac{\\beta}{\\beta + \\kappa}} - 1}\\right ]$$"
      ],
      "text/plain": [
       "⎡              s               ⎤\n",
       "⎢──────────────────────────────⎥\n",
       "⎢                       β      ⎥\n",
       "⎢                     ─────    ⎥\n",
       "⎢                     β + κ    ⎥\n",
       "⎣δ + (g⋅n + g + n + 1)      - 1⎦"
      ]
     },
     "execution_count": 44,
     "metadata": {},
     "output_type": "execute_result"
    }
   ],
   "source": [
    "ss = sm.Eq(S, (((s)/((((1+n)*(1+g))**(beta/(1-alpha)))-(-delta+1)))))\n",
    "ss = ss.subs(1-alpha, beta+kappa) #inserting beta+kappa for 1-alpha\n",
    "ssz = sm.solve(ss, S) #solving the equation for steady state capital-output ratio\n",
    "ssz"
   ]
  },
  {
   "cell_type": "code",
   "execution_count": 45,
   "metadata": {},
   "outputs": [
    {
     "data": {
      "image/png": "[encoded data removed]",
      "text/latex": [
       "$$\\left [ 3.4451607597686995\\right ]$$"
      ],
      "text/plain": [
       "[3.4451607597686995]"
      ]
     },
     "execution_count": 45,
     "metadata": {},
     "output_type": "execute_result"
    }
   ],
   "source": [
    "ssz_func = sm.lambdify((s,delta,g,n,beta,kappa),ssz) #Turning the variables into a python function\n",
    "ssz_func(0.25, 0.05, 0.02, 0.01, 0.6, 0.2)"
   ]
  },
  {
   "cell_type": "markdown",
   "metadata": {},
   "source": [
    "So the model (with the reasonable parameter values) suggests that an economy in steady state has a capital-output ratio of around 3.445. "
   ]
  },
  {
   "cell_type": "markdown",
   "metadata": {},
   "source": [
    "### Visualization of convergence to steady state"
   ]
  },
  {
   "cell_type": "markdown",
   "metadata": {},
   "source": [
    "Using the transition equation for the capital-output ratio from earlier, a diagram showing the convergence to the steady state value of 3.445 will be illustrated in the following section: "
   ]
  },
  {
   "cell_type": "code",
   "execution_count": 67,
   "metadata": {},
   "outputs": [
    {
     "data": {
      "application/vnd.jupyter.widget-view+json": {
       "model_id": "d6ecf8afa8814ab5b16c6273a1e9046c",
       "version_major": 2,
       "version_minor": 0
      },
      "text/plain": [
       "interactive(children=(FloatSlider(value=0.25, description='$s$', max=1.0, step=0.005), FloatSlider(value=0.6, …"
      ]
     },
     "metadata": {},
     "output_type": "display_data"
    }
   ],
   "source": [
    "# Here the intervals for the different parameters are defined \n",
    "s = np.arange(0,1)\n",
    "z = np.arange(100)\n",
    "beta = np.arange(0,1)\n",
    "delta = np.arange(0,0.1)\n",
    "n = np.arange(0,0.2)\n",
    "g = np.arange(0,0.04)\n",
    "alpha = np.arange(0,1)\n",
    "\n",
    "def interactive_transition1(z,s,beta,delta,n,g,alpha):\n",
    "    #Defines the capital-output ratio and a 45 degree line\n",
    "    z0 = (((1)/((1+n)*(1+g)))**beta*(s+((1-delta)*z))**(1-alpha)*z**alpha) \n",
    "    m0 = z \n",
    "\n",
    "    fig = plt.figure(dpi=120, figsize=[4,4])\n",
    "    ax = fig.add_subplot(1,1,1)\n",
    "    ax.plot(z0, label = 'Capital/output')         #plots the capital-output function and the 45degree line\n",
    "    ax.plot(m0, label = '45 degrees line')  \n",
    "    ax.set_xlim([0,100]) # fixed x range          #sets limits for the axis\n",
    "    ax.set_ylim([0,100]) # fixed y range \n",
    "    plt.xlabel('z in period t')                   #Creates x- and y-axis \n",
    "    plt.ylabel('z in period t+1')\n",
    "    plt.title('Transition diagram')               #Creates title for the diagram\n",
    "    ax.grid()                                 #Makes a grid on the graph\n",
    "    ax.legend(loc='upper left')\n",
    "\n",
    "    fig = plt.figure(dpi=120, figsize=[4,4])\n",
    "    ax = fig.add_subplot(1,1,1)\n",
    "    ax.plot(z0, label = 'Capital/output')\n",
    "    ax.plot(m0, label = '45 degrees line')  \n",
    "    ax.set_xlim([3,4]) # fixed x range            #sets limits for the axis\n",
    "    ax.set_ylim([3,4]) # fixed y range \n",
    "    plt.xlabel('z in period t')                   #Creates x- and y-axis \n",
    "    plt.ylabel('z in period t+1')\n",
    "    plt.title('Transition diagram (zoomed in)')   #Creates title for the diagram\n",
    "    ax.grid()                                 #Makes a grid on the graph\n",
    "    ax.legend(loc='upper left')\n",
    " \n",
    "    #Defining the intervals and step sizes for the sliders\n",
    "widgets.interact(interactive_transition1,\n",
    "    s=widgets.FloatSlider(description=\"$s$\", min=0, max=1, step=0.005, value=0.25),\n",
    "    beta=widgets.FloatSlider(description=\"$beta$\", min=0, max=1, step=0.005, value=0.6),\n",
    "    delta=widgets.FloatSlider(description=\"$delta$\", min=0, max=0.1, step=0.005, value=0.05),\n",
    "    n=widgets.FloatSlider(description=\"$n$\", min=0, max=0.2, step=0.01, value=0.01),\n",
    "    g=widgets.FloatSlider(description=\"$g$\", min=0, max=0.04, step=0.001, value=0.02),\n",
    "    alpha=widgets.FloatSlider(description=\"$alpha$\", min=0, max=1, step=0.005, value=0.2),\n",
    "    z=widgets.fixed(z));"
   ]
  },
  {
   "cell_type": "markdown",
   "metadata": {},
   "source": [
    "From the above visual representation of the convergence to the capital-output steady state, one can see that the intersection point lies at around 3.5, which was also what we saw when calculating the steady state value based on given parameters. In comparison to the US, they had a capital-output ratio of 3.04 in 2015$^{(1)}$. This is relatively close to that of the model, where parameters that arguably could fit an OECD country were picked. A parameter like the savings rate however is arguable set a bit high for that of the US, where a lower savings rate, would make the model result come even closer the the capital-output ratio of the US. \n",
    "\n",
    "$^{(1)}$ \"Financial Times, Andrew Smithers - February 25, 2015 - https://www.ft.com/content/97337405-66fb-3391-b92c-4c244db5f8c0\" "
   ]
  },
  {
   "cell_type": "markdown",
   "metadata": {},
   "source": [
    "### Steady state output growth path and the effect of land"
   ]
  },
  {
   "cell_type": "markdown",
   "metadata": {},
   "source": [
    "The steady state output growth path can be found using the steady state capital-output ratio and the per capita output function form earlier: "
   ]
  },
  {
   "cell_type": "markdown",
   "metadata": {},
   "source": [
    "$y_t=k_t^\\alpha A_t^\\beta x_t^\\kappa$\n",
    "\n",
    "$y_t^{1-\\alpha}=\\frac{k_t^\\alpha A_t^\\beta x_t^\\kappa}{y_t^\\alpha}$\n",
    "\n",
    "$y_t^{1-\\alpha}=\\frac{k_t^\\alpha}{y_t^\\alpha} A_t^\\beta x_t^\\kappa$\n",
    "\n",
    "${y_t^*}^{1-\\alpha}= (z^*)^\\alpha A_t^\\beta x_t^\\kappa$\n",
    "\n",
    "$y_t^*= (z^*)^{\\frac{\\alpha}{1-\\alpha}} A_t^{\\frac{\\beta}{1-\\alpha}} x_t^{\\frac{\\kappa}{1-\\alpha}}$\n",
    "\n",
    "$y_t^*= (z^*)^{\\frac{\\alpha}{1-\\alpha}} A_t^{\\frac{\\beta}{1-\\alpha}} \\left(\\frac{X}{L_t}\\right)^{\\frac{\\kappa}{1-\\alpha}}$\n",
    "\n",
    "$y_t^*= (z^*)^{\\frac{\\alpha}{1-\\alpha}} A_0^{\\frac{\\beta}{1-\\alpha}} \\left(\\frac{X}{L_0}\\right)^{\\frac{\\kappa}{1-\\alpha}}(1+g)^{\\frac{\\beta}{1-\\alpha}}(1+n)^{\\frac{-\\kappa}{1-\\alpha}}$\n"
   ]
  },
  {
   "cell_type": "markdown",
   "metadata": {},
   "source": [
    "Where one sees that the model suggests that land contributes positively to the steady state per capita output. Comparing to the solow model where technology was introduced (chapter 5) one will see that the technological growth has a smaller contribution to the output per capita in steady state. However setting $\\kappa=0$ (rather unrealistic when assuming that land does have and effect) will give the steady state output per capita, that was found for chapter 5. So the contribution that land brings to the steady state per capita output in relation to the chapter 5 model, resides from technology, making the direct effect from development in technology lesser. "
   ]
  },
  {
   "cell_type": "markdown",
   "metadata": {},
   "source": [
    "## Conclusion"
   ]
  },
  {
   "cell_type": "markdown",
   "metadata": {},
   "source": [
    "The goal of this project was to see how the basic solow model compares to extensions of the model with technology, human capital and land. For the model with technology one saw that adding technology ensured that there could be growth in output per capita in steady state. This makes sense as countries that are considered to be in steady state, still experience growth in GDP and GDP per capita. In the next part of the project the model with human capital was analysed. Here one saw that the convergence towards steady state happens at a slower pace than for the general solow model. In the final part of the project the model with land was looked at and here one saw that land has a positive effect on output per capita. However this positive effect resides from the contribution from technological growth making that lesser. "
   ]
  }
 ],
 "metadata": {
  "kernelspec": {
   "display_name": "Python 3",
   "language": "python",
   "name": "python3"
  },
  "language_info": {
   "codemirror_mode": {
    "name": "ipython",
    "version": 3
   },
   "file_extension": ".py",
   "mimetype": "text/x-python",
   "name": "python",
   "nbconvert_exporter": "python",
   "pygments_lexer": "ipython3",
   "version": "3.7.1"
  }
 },
 "nbformat": 4,
 "nbformat_minor": 2
}
